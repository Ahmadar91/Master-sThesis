{
 "cells": [
  {
   "cell_type": "code",
   "execution_count": 1,
   "id": "2e861e51",
   "metadata": {},
   "outputs": [
    {
     "name": "stdout",
     "output_type": "stream",
     "text": [
      "%pylab is deprecated, use %matplotlib inline and import the required libraries.\n",
      "Populating the interactive namespace from numpy and matplotlib\n"
     ]
    }
   ],
   "source": [
    "%pylab inline"
   ]
  },
  {
   "cell_type": "code",
   "execution_count": 14,
   "id": "52a9842b",
   "metadata": {},
   "outputs": [],
   "source": [
    "import torch\n",
    "import torch.nn as nn\n",
    "import torch.optim as optim\n",
    "\n"
   ]
  },
  {
   "cell_type": "code",
   "execution_count": 58,
   "id": "2624aef1",
   "metadata": {},
   "outputs": [
    {
     "name": "stdout",
     "output_type": "stream",
     "text": [
      "tensor([[0.1020, 0.3796, 0.3147]], grad_fn=<TanhBackward0>)\n"
     ]
    }
   ],
   "source": [
    "class CustomRNN(nn.Module):\n",
    "    def __init__(self):\n",
    "        super(CustomRNN, self).__init__()\n",
    "        self.hidden_size = 12\n",
    "        self.num_layers = 1  # You can adjust the number of layers if needed\n",
    "\n",
    "        # Define the expansion layer\n",
    "        self.expand_layer = nn.Linear(in_features=3, out_features=self.hidden_size)\n",
    "\n",
    "        # Define the RNN layer\n",
    "        self.rnn = nn.RNN(input_size=self.hidden_size, hidden_size=self.hidden_size, \n",
    "                          num_layers=self.num_layers, batch_first=True, nonlinearity='tanh')\n",
    "\n",
    "        # Define the output layer\n",
    "        self.fc = nn.Linear(self.hidden_size, 3)\n",
    "\n",
    "    def forward(self, x):\n",
    "        # Apply the expansion layer\n",
    "        x = self.expand_layer(x)\n",
    "        x = torch.tanh(x)\n",
    "        \n",
    "        # Process the sequence through the RNN\n",
    "        # to get all hidden states, the step function would be needed\n",
    "        x, self.hidden = self.rnn(x)\n",
    "        self.x = copy(x.detach())\n",
    "        # Apply the output layer and tanh activation to the last time step\n",
    "        x = self.fc(x[:, -1, :])\n",
    "        x = torch.tanh(x)\n",
    "\n",
    "        return x\n",
    "\n",
    "# Example usage\n",
    "# Assuming batch_size = 1 and seq_length = 5\n",
    "batch_size = 1\n",
    "seq_length = 10\n",
    "model = CustomRNN()\n",
    "input_seq = torch.randn(batch_size, seq_length, 3)\n",
    "output = model(input_seq)\n",
    "print(output)"
   ]
  },
  {
   "cell_type": "code",
   "execution_count": 43,
   "id": "0fd95bdf",
   "metadata": {},
   "outputs": [],
   "source": [
    "def getDataset(howMany,howLong):\n",
    "    X=[]\n",
    "    Y=[]\n",
    "    what=[-1,1]\n",
    "    for i in range(howMany):\n",
    "        l=numpy.random.choice(howLong)\n",
    "        M=numpy.zeros((l,3))\n",
    "        a=numpy.random.choice([0,1])\n",
    "        b=numpy.random.choice([0,1])\n",
    "        c=numpy.random.choice([0,1])\n",
    "        at=numpy.random.choice(list(range(l-2)))\n",
    "        bt=numpy.random.choice(list(range(l-2)))\n",
    "        M[at][0]=what[a]\n",
    "        M[bt][1]=what[b]\n",
    "        M[-2][2]=what[c]\n",
    "        M[-1][2]=what[c]\n",
    "        X.append(M)\n",
    "        answer=numpy.zeros((3))\n",
    "        answer[0]=what[a]\n",
    "        answer[1]=what[b]\n",
    "        if c==0:\n",
    "            answer[2]=what[a^b]\n",
    "        else:\n",
    "            answer[2]=what[not(a^b)]\n",
    "        Y.append(answer)\n",
    "    return numpy.array(X),numpy.array(Y)\n",
    "X,Y=getDataset(10,[10])"
   ]
  },
  {
   "cell_type": "code",
   "execution_count": 12,
   "id": "717a0a9f",
   "metadata": {},
   "outputs": [
    {
     "data": {
      "image/png": "[encoded data removed]",
      "text/plain": [
       "<Figure size 640x480 with 10 Axes>"
      ]
     },
     "metadata": {},
     "output_type": "display_data"
    }
   ],
   "source": [
    "for i in range(10):\n",
    "    subplot(2,5,i+1)\n",
    "    imshow(X[i],vmin=-1,vmax=1)\n",
    "    title(str(Y[i]))"
   ]
  },
  {
   "cell_type": "code",
   "execution_count": null,
   "id": "d7184360",
   "metadata": {},
   "outputs": [
    {
     "name": "stdout",
     "output_type": "stream",
     "text": [
      "Epoch [1/1000], Loss: 1.0670, Accuracy: 0.5\n",
      "Epoch [101/1000], Loss: 0.9250, Accuracy: 0.653333306312561\n",
      "Epoch [201/1000], Loss: 0.5909, Accuracy: 0.7633333206176758\n",
      "Epoch [301/1000], Loss: 0.2021, Accuracy: 0.9900000095367432\n",
      "Epoch [401/1000], Loss: 0.0683, Accuracy: 1.0\n"
     ]
    }
   ],
   "source": [
    "\n",
    "\n",
    "# Assuming CustomRNN and getDataset are defined\n",
    "\n",
    "# Initialize the model\n",
    "model = CustomRNN()\n",
    "\n",
    "# Define the loss function\n",
    "criterion = nn.MSELoss()\n",
    "\n",
    "# Define the optimizer\n",
    "optimizer = optim.Adam(model.parameters(), lr=0.001)\n",
    "\n",
    "# Assume getDataset returns the input and expected output tensors\n",
    "\n",
    "# Define number of epochs\n",
    "num_epochs = 1000\n",
    "\n",
    "# Training loop\n",
    "for epoch in range(num_epochs):\n",
    "    X, Y = getDataset(100,[10])\n",
    "    X=torch.Tensor(X)\n",
    "    Y=torch.Tensor(Y)\n",
    "    # Zero the gradients\n",
    "    optimizer.zero_grad()\n",
    "    \n",
    "    # Forward pass: Compute predicted y by passing x to the model\n",
    "    # observe that the getDataset function in the case of [10,20] would not allow you to tranform\n",
    "    # into a tensor because of the heterogenious length of vectors ... you would need to feed them individually\n",
    "    # into the model, and then apply the loss for each sequence ...\n",
    "    Y_pred = model(X)\n",
    "    \n",
    "    # Compute the loss\n",
    "    loss = criterion(Y_pred, Y)\n",
    "    \n",
    "    # Backward pass: Compute gradient of the loss with respect to model parameters\n",
    "    loss.backward()\n",
    "    \n",
    "    # Update the parameters\n",
    "    optimizer.step()\n",
    "    \n",
    "    A=1.0*(Y.detach()>0.0)\n",
    "    B=1.0*(Y_pred.detach()>0.0)\n",
    "    acc=(1.0*(A.flatten()==B.flatten())).mean()\n",
    "    if (epoch%100)==0:\n",
    "        # Print statistics\n",
    "        print(f'Epoch [{epoch+1}/{num_epochs}], Loss: {loss.item():.4f}, Accuracy: {acc}')\n"
   ]
  },
  {
   "cell_type": "code",
   "execution_count": 38,
   "id": "c7f45b8b",
   "metadata": {},
   "outputs": [
    {
     "data": {
      "text/plain": [
       "<matplotlib.image.AxesImage at 0x286082ac0>"
      ]
     },
     "execution_count": 38,
     "metadata": {},
     "output_type": "execute_result"
    },
    {
     "data": {
      "image/png": "[encoded data removed]",
      "text/plain": [
       "<Figure size 640x480 with 2 Axes>"
      ]
     },
     "metadata": {},
     "output_type": "display_data"
    }
   ],
   "source": [
    "subplot(1,2,1)\n",
    "imshow(Y_pred.detach(),vmin=-1,vmax=1)\n",
    "subplot(1,2,2)\n",
    "imshow(Y,vmin=-1,vmax=1)"
   ]
  },
  {
   "cell_type": "code",
   "execution_count": 62,
   "id": "e32e4d2c",
   "metadata": {},
   "outputs": [
    {
     "data": {
      "text/plain": [
       "torch.Size([1, 50, 12])"
      ]
     },
     "execution_count": 62,
     "metadata": {},
     "output_type": "execute_result"
    }
   ],
   "source": [
    "model.hidden.shape"
   ]
  },
  {
   "cell_type": "code",
   "execution_count": null,
   "id": "a8ac8870",
   "metadata": {},
   "outputs": [],
   "source": []
  },
  {
   "cell_type": "code",
   "execution_count": 64,
   "id": "eadaa0b7",
   "metadata": {},
   "outputs": [
    {
     "data": {
      "text/plain": [
       "torch.Size([50, 10, 3])"
      ]
     },
     "execution_count": 64,
     "metadata": {},
     "output_type": "execute_result"
    }
   ],
   "source": [
    "X.shape"
   ]
  },
  {
   "cell_type": "code",
   "execution_count": 67,
   "id": "12d02bb8",
   "metadata": {},
   "outputs": [
    {
     "data": {
      "text/plain": [
       "(50, 10, 12)"
      ]
     },
     "execution_count": 67,
     "metadata": {},
     "output_type": "execute_result"
    }
   ],
   "source": [
    "model.x.shape"
   ]
  },
  {
   "cell_type": "code",
   "execution_count": 68,
   "id": "7ffff33b",
   "metadata": {},
   "outputs": [
    {
     "data": {
      "text/plain": [
       "array([[-0.8115011 ,  0.7231382 , -0.59877867,  0.6753113 , -0.34017465,\n",
       "         0.7001746 , -0.65868276,  0.8137828 , -0.09758632, -0.58216226,\n",
       "         0.7761565 , -0.43901142],\n",
       "       [-0.8120265 ,  0.95032966, -0.49089822, -0.20022567,  0.12179629,\n",
       "         0.77382666, -0.11932307, -0.36814225, -0.7855941 , -0.9328238 ,\n",
       "         0.8200314 , -0.32958332],\n",
       "       [-0.9364089 ,  0.9479859 , -0.70617485, -0.76565045,  0.01856065,\n",
       "         0.9068777 , -0.07720602, -0.8987733 , -0.9187685 , -0.8743671 ,\n",
       "         0.7611305 ,  0.19707114],\n",
       "       [-0.9250172 ,  0.9449276 , -0.6882749 , -0.8577929 , -0.08326482,\n",
       "         0.93757635, -0.05724894, -0.93986934, -0.9019316 , -0.8309522 ,\n",
       "         0.75651926,  0.32784352],\n",
       "       [-0.9132706 ,  0.94190913, -0.6773869 , -0.8650801 , -0.10894327,\n",
       "         0.93394816, -0.0456436 , -0.9428418 , -0.8847912 , -0.8111456 ,\n",
       "         0.73170286,  0.31467524],\n",
       "       [-0.9078505 ,  0.94142747, -0.67625546, -0.8657976 , -0.13688216,\n",
       "         0.93129253, -0.02185984, -0.9431968 , -0.87660134, -0.8049979 ,\n",
       "         0.7174907 ,  0.3027795 ],\n",
       "       [-0.9167368 ,  0.9858701 , -0.17217618, -0.7102951 ,  0.52445847,\n",
       "         0.9328819 , -0.51451933, -0.9594825 , -0.9582212 , -0.34870708,\n",
       "         0.6508534 ,  0.67760515],\n",
       "       [-0.93795794,  0.7302995 , -0.06303777, -0.43828353,  0.7077152 ,\n",
       "         0.878315  , -0.764458  , -0.67305803, -0.9372521 , -0.72822905,\n",
       "         0.77879214,  0.69366837],\n",
       "       [-0.98967224,  0.8666508 , -0.52792966,  0.4374145 ,  0.69501215,\n",
       "         0.9269646 , -0.84613246,  0.59832954, -0.7577307 , -0.85373765,\n",
       "         0.9541544 ,  0.3773543 ],\n",
       "       [-0.9910765 ,  0.9547671 , -0.75349206,  0.74618185,  0.72453564,\n",
       "         0.9366826 , -0.86936015,  0.8605357 , -0.8067383 , -0.9256147 ,\n",
       "         0.97091633, -0.01725723]], dtype=float32)"
      ]
     },
     "execution_count": 68,
     "metadata": {},
     "output_type": "execute_result"
    }
   ],
   "source": [
    "model.x[0]"
   ]
  },
  {
   "cell_type": "code",
   "execution_count": 69,
   "id": "1208d7eb",
   "metadata": {},
   "outputs": [
    {
     "data": {
      "text/plain": [
       "array([-0.9910765 ,  0.9547671 , -0.75349206,  0.74618185,  0.72453564,\n",
       "        0.9366826 , -0.86936015,  0.8605357 , -0.8067383 , -0.9256147 ,\n",
       "        0.97091633, -0.01725723], dtype=float32)"
      ]
     },
     "execution_count": 69,
     "metadata": {},
     "output_type": "execute_result"
    }
   ],
   "source": [
    "model.x[:,-1,:][0]"
   ]
  },
  {
   "cell_type": "code",
   "execution_count": null,
   "id": "305a18b2",
   "metadata": {},
   "outputs": [],
   "source": []
  }
 ],
 "metadata": {
  "kernelspec": {
   "display_name": "Python 3 (ipykernel)",
   "language": "python",
   "name": "python3"
  },
  "language_info": {
   "codemirror_mode": {
    "name": "ipython",
    "version": 3
   },
   "file_extension": ".py",
   "mimetype": "text/x-python",
   "name": "python",
   "nbconvert_exporter": "python",
   "pygments_lexer": "ipython3",
   "version": "3.8.17"
  }
 },
 "nbformat": 4,
 "nbformat_minor": 5
}
