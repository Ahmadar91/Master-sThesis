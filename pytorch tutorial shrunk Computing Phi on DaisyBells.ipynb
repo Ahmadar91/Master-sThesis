{
 "cells": [
  {
   "cell_type": "code",
   "execution_count": 3,
   "id": "23f0f018",
   "metadata": {},
   "outputs": [
    {
     "name": "stdout",
     "output_type": "stream",
     "text": [
      "%pylab is deprecated, use %matplotlib inline and import the required libraries.\n",
      "Populating the interactive namespace from numpy and matplotlib\n"
     ]
    },
    {
     "name": "stderr",
     "output_type": "stream",
     "text": [
      "C:\\Users\\ahmad\\AppData\\Roaming\\Python\\Python311\\site-packages\\IPython\\core\\magics\\pylab.py:162: UserWarning: pylab import has clobbered these variables: ['copy']\n",
      "`%matplotlib` prevents importing * from pylab and numpy\n",
      "  warn(\"pylab import has clobbered these variables: %s\"  % clobbered +\n"
     ]
    }
   ],
   "source": [
    "%pylab inline"
   ]
  },
  {
   "cell_type": "code",
   "execution_count": 4,
   "id": "3b94190b",
   "metadata": {},
   "outputs": [],
   "source": [
    "import math\n",
    "import os\n",
    "import copy\n",
    "import time\n",
    "\n",
    "from tempfile import TemporaryDirectory\n",
    "from typing import Tuple\n",
    "\n",
    "import torch\n",
    "from torch import nn, Tensor\n",
    "import torch.nn.functional as F\n",
    "from torch.nn import TransformerEncoder, TransformerEncoderLayer\n",
    "from torch.utils.data import dataset\n",
    "\n",
    "from torchtext.datasets import WikiText2\n",
    "from torchtext.data.utils import get_tokenizer\n",
    "from torchtext.vocab import build_vocab_from_iterator\n",
    "\n",
    "from sklearn.cluster import KMeans"
   ]
  },
  {
   "cell_type": "code",
   "execution_count": 6,
   "id": "d8cb628f",
   "metadata": {},
   "outputs": [
    {
     "name": "stdout",
     "output_type": "stream",
     "text": [
      "['A', 'C', 'D', 'E', 'F', 'G']\n",
      "[[0], [1], [2], [3], [4], [5]]\n",
      "[[1], [1], [5], [5], [0], [0], [5], [4], [4], [3], [3], [2], [2], [1], [5], [5], [4], [4], [3], [3], [2], [5], [5], [4], [4], [3], [3], [2], [1], [1], [5], [5], [0], [0], [5], [4], [4], [3], [3], [2], [2], [1]]\n",
      "42\n"
     ]
    }
   ],
   "source": [
    "songString = \"CCGGAAGFFEEDDCGGFFEEDGGFFEEDCCGGAAGFFEEDDC\"\n",
    "notes=list(unique(list(songString)))\n",
    "print(notes)\n",
    "chord=[[0],\n",
    "       [1],\n",
    "       [2],\n",
    "       [3],\n",
    "       [4],\n",
    "       [5]]\n",
    "print(chord)\n",
    "DaisyBell=list()\n",
    "DaisyBellMatrix=[]\n",
    "for note in list(songString):\n",
    "    row=[0]*6\n",
    "    row[notes.index(note)]=1\n",
    "    DaisyBellMatrix.append(row)\n",
    "    DaisyBell.append(chord[notes.index(note)])\n",
    "print(DaisyBell)\n",
    "print(len(DaisyBell))\n",
    "DaisyBellMatrix=numpy.array(DaisyBellMatrix)"
   ]
  },
  {
   "cell_type": "code",
   "execution_count": 7,
   "id": "d3b05238",
   "metadata": {},
   "outputs": [
    {
     "name": "stdout",
     "output_type": "stream",
     "text": [
      "['A', 'C', 'D', 'E', 'F', 'G']\n",
      "[[0], [1], [2], [3], [4], [5]]\n",
      "[[0], [0], [1], [1], [5], [5], [5], [4], [4], [4], [4], [2], [2], [5], [1], [1], [4], [4], [2], [2], [2], [0], [0], [4], [4], [1], [1], [2], [1], [1], [5], [5], [5], [5], [5], [4], [4], [3], [3], [2], [2], [1]]\n",
      "42\n"
     ]
    }
   ],
   "source": [
    "HotDogsongString = \"AACCGGGFFFFDDGCCFFDDDAAFFCCDCCGGGGGFFEEDDC\"\n",
    "notes=list(unique(list(songString)))\n",
    "print(notes)\n",
    "\n",
    "chord=[[0],\n",
    "       [1],\n",
    "       [2],\n",
    "       [3],\n",
    "       [4],\n",
    "       [5]]\n",
    "HotDog=list()\n",
    "print(chord)\n",
    "HotDogMatrix=[]\n",
    "for note in list(HotDogsongString):\n",
    "    row=[0]*6\n",
    "    row[notes.index(note)]=1\n",
    "    HotDogMatrix.append(row)\n",
    "    HotDog.append(chord[notes.index(note)])\n",
    "print(HotDog)\n",
    "print(len(HotDog))    \n",
    "HotDogMatrix=numpy.array(HotDogMatrix)"
   ]
  },
  {
   "cell_type": "code",
   "execution_count": 7,
   "id": "f34b4f99",
   "metadata": {},
   "outputs": [
    {
     "data": {
      "text/plain": [
       "[[0],\n",
       " [0],\n",
       " [1],\n",
       " [1],\n",
       " [5],\n",
       " [5],\n",
       " [5],\n",
       " [4],\n",
       " [4],\n",
       " [4],\n",
       " [4],\n",
       " [2],\n",
       " [2],\n",
       " [5],\n",
       " [1],\n",
       " [1],\n",
       " [4],\n",
       " [4],\n",
       " [2],\n",
       " [2],\n",
       " [2],\n",
       " [0],\n",
       " [0],\n",
       " [4],\n",
       " [4],\n",
       " [1],\n",
       " [1],\n",
       " [2],\n",
       " [1],\n",
       " [1],\n",
       " [5],\n",
       " [5],\n",
       " [5],\n",
       " [5],\n",
       " [5],\n",
       " [4],\n",
       " [4],\n",
       " [3],\n",
       " [3],\n",
       " [2],\n",
       " [2],\n",
       " [1]]"
      ]
     },
     "execution_count": 7,
     "metadata": {},
     "output_type": "execute_result"
    }
   ],
   "source": [
    "HotDog#DaisyBell"
   ]
  },
  {
   "cell_type": "code",
   "execution_count": 8,
   "id": "105c1fc7",
   "metadata": {},
   "outputs": [
    {
     "name": "stdout",
     "output_type": "stream",
     "text": [
      "[[1], [1], [5], [5], [0], [0], [5], [4], [4], [3], [3], [2], [2], [1], [5], [5], [4], [4], [3], [3], [2], [5], [5], [4], [4], [3], [3], [2], [1], [1], [5], [5], [0], [0], [5], [4], [4], [3], [3], [2], [2], [1]]\n",
      "\n",
      "\n",
      "[1] [1, 5, 5, 0]\n",
      "[[1], [1], [5], [5], [0], [0], [5], [4], [4], [3], [3], [2], [2], [1], [5], [5], [4], [4], [3], [3], [2], [5], [5], [4], [4], [3], [3], [2], [1], [1], [5], [5], [0], [0], [5], [4], [4], [3], [3], [2], [2], [1]]\n",
      "[1, 5, 5, 0, 0, 5, 4, 4, 3, 3, 2, 2, 1, 5, 5, 4, 4, 3, 3, 2, 5, 5, 4, 4, 3, 3, 2, 1, 1, 5, 5, 0, 0, 5, 4, 4, 3, 3, 2, 2, 1, 1]\n",
      "\n",
      "\n",
      "[1] [5, 5, 0, 0]\n",
      "[[1], [5], [5], [0], [0], [5], [4], [4], [3], [3], [2], [2], [1], [5], [5], [4], [4], [3], [3], [2], [5], [5], [4], [4], [3], [3], [2], [1], [1], [5], [5], [0], [0], [5], [4], [4], [3], [3], [2], [2], [1], [1]]\n",
      "[5, 5, 0, 0, 5, 4, 4, 3, 3, 2, 2, 1, 5, 5, 4, 4, 3, 3, 2, 5, 5, 4, 4, 3, 3, 2, 1, 1, 5, 5, 0, 0, 5, 4, 4, 3, 3, 2, 2, 1, 1, 1]\n",
      "\n",
      "\n",
      "[1] [5, 0, 0, 5]\n",
      "[[5], [5], [0], [0], [5], [4], [4], [3], [3], [2], [2], [1], [5], [5], [4], [4], [3], [3], [2], [5], [5], [4], [4], [3], [3], [2], [1], [1], [5], [5], [0], [0], [5], [4], [4], [3], [3], [2], [2], [1], [1], [1]]\n",
      "[5, 0, 0, 5, 4, 4, 3, 3, 2, 2, 1, 5, 5, 4, 4, 3, 3, 2, 5, 5, 4, 4, 3, 3, 2, 1, 1, 5, 5, 0, 0, 5, 4, 4, 3, 3, 2, 2, 1, 1, 1, 5]\n",
      "\n",
      "\n",
      "[5] [0, 0, 5, 4]\n",
      "[[5], [0], [0], [5], [4], [4], [3], [3], [2], [2], [1], [5], [5], [4], [4], [3], [3], [2], [5], [5], [4], [4], [3], [3], [2], [1], [1], [5], [5], [0], [0], [5], [4], [4], [3], [3], [2], [2], [1], [1], [1], [5]]\n",
      "[0, 0, 5, 4, 4, 3, 3, 2, 2, 1, 5, 5, 4, 4, 3, 3, 2, 5, 5, 4, 4, 3, 3, 2, 1, 1, 5, 5, 0, 0, 5, 4, 4, 3, 3, 2, 2, 1, 1, 1, 5, 5]\n",
      "\n",
      "\n",
      "[5] [0, 5, 4, 4]\n",
      "[[0], [0], [5], [4], [4], [3], [3], [2], [2], [1], [5], [5], [4], [4], [3], [3], [2], [5], [5], [4], [4], [3], [3], [2], [1], [1], [5], [5], [0], [0], [5], [4], [4], [3], [3], [2], [2], [1], [1], [1], [5], [5]]\n",
      "[0, 5, 4, 4, 3, 3, 2, 2, 1, 5, 5, 4, 4, 3, 3, 2, 5, 5, 4, 4, 3, 3, 2, 1, 1, 5, 5, 0, 0, 5, 4, 4, 3, 3, 2, 2, 1, 1, 1, 5, 5, 0]\n",
      "\n",
      "\n",
      "[0] [5, 4, 4, 3]\n",
      "[[0], [5], [4], [4], [3], [3], [2], [2], [1], [5], [5], [4], [4], [3], [3], [2], [5], [5], [4], [4], [3], [3], [2], [1], [1], [5], [5], [0], [0], [5], [4], [4], [3], [3], [2], [2], [1], [1], [1], [5], [5], [0]]\n",
      "[5, 4, 4, 3, 3, 2, 2, 1, 5, 5, 4, 4, 3, 3, 2, 5, 5, 4, 4, 3, 3, 2, 1, 1, 5, 5, 0, 0, 5, 4, 4, 3, 3, 2, 2, 1, 1, 1, 5, 5, 0, 0]\n",
      "\n",
      "\n",
      "[0] [4, 4, 3, 3]\n",
      "[[5], [4], [4], [3], [3], [2], [2], [1], [5], [5], [4], [4], [3], [3], [2], [5], [5], [4], [4], [3], [3], [2], [1], [1], [5], [5], [0], [0], [5], [4], [4], [3], [3], [2], [2], [1], [1], [1], [5], [5], [0], [0]]\n",
      "[4, 4, 3, 3, 2, 2, 1, 5, 5, 4, 4, 3, 3, 2, 5, 5, 4, 4, 3, 3, 2, 1, 1, 5, 5, 0, 0, 5, 4, 4, 3, 3, 2, 2, 1, 1, 1, 5, 5, 0, 0, 5]\n",
      "\n",
      "\n",
      "[5] [4, 3, 3, 2]\n",
      "[[4], [4], [3], [3], [2], [2], [1], [5], [5], [4], [4], [3], [3], [2], [5], [5], [4], [4], [3], [3], [2], [1], [1], [5], [5], [0], [0], [5], [4], [4], [3], [3], [2], [2], [1], [1], [1], [5], [5], [0], [0], [5]]\n",
      "[4, 3, 3, 2, 2, 1, 5, 5, 4, 4, 3, 3, 2, 5, 5, 4, 4, 3, 3, 2, 1, 1, 5, 5, 0, 0, 5, 4, 4, 3, 3, 2, 2, 1, 1, 1, 5, 5, 0, 0, 5, 4]\n",
      "\n",
      "\n",
      "[4] [3, 3, 2, 2]\n",
      "[[4], [3], [3], [2], [2], [1], [5], [5], [4], [4], [3], [3], [2], [5], [5], [4], [4], [3], [3], [2], [1], [1], [5], [5], [0], [0], [5], [4], [4], [3], [3], [2], [2], [1], [1], [1], [5], [5], [0], [0], [5], [4]]\n",
      "[3, 3, 2, 2, 1, 5, 5, 4, 4, 3, 3, 2, 5, 5, 4, 4, 3, 3, 2, 1, 1, 5, 5, 0, 0, 5, 4, 4, 3, 3, 2, 2, 1, 1, 1, 5, 5, 0, 0, 5, 4, 4]\n",
      "\n",
      "\n",
      "[4] [3, 2, 2, 1]\n",
      "[[3], [3], [2], [2], [1], [5], [5], [4], [4], [3], [3], [2], [5], [5], [4], [4], [3], [3], [2], [1], [1], [5], [5], [0], [0], [5], [4], [4], [3], [3], [2], [2], [1], [1], [1], [5], [5], [0], [0], [5], [4], [4]]\n",
      "[3, 2, 2, 1, 5, 5, 4, 4, 3, 3, 2, 5, 5, 4, 4, 3, 3, 2, 1, 1, 5, 5, 0, 0, 5, 4, 4, 3, 3, 2, 2, 1, 1, 1, 5, 5, 0, 0, 5, 4, 4, 3]\n",
      "\n",
      "\n"
     ]
    }
   ],
   "source": [
    "\n",
    "def get_batch(source, i):# -> Tuple[Tensor, Tensor]\n",
    "    \"\"\"\n",
    "    Args:\n",
    "        source: Tensor, shape [full_seq_len, batch_size]\n",
    "        i: int\n",
    "\n",
    "    Returns:\n",
    "        tuple (data, target), where data has shape [seq_len, batch_size] and\n",
    "        target has shape [seq_len * batch_size]\n",
    "    \"\"\"\n",
    "    data=[]\n",
    "    target=[]\n",
    "    for pos in range(i,i+bptt):\n",
    "        data.append(source[pos%len(source)])\n",
    "        target+=source[(pos+1)%len(source)]\n",
    "    return data, target\n",
    "\n",
    "bptt=42\n",
    "print(DaisyBell)\n",
    "print(\"\\n\")\n",
    "for i in range(10):\n",
    "    d,t=get_batch(DaisyBell,i)\n",
    "    print(d[-1],t[:4])\n",
    "    print(d)\n",
    "    print(t)\n",
    "    print(\"\\n\")"
   ]
  },
  {
   "cell_type": "code",
   "execution_count": 10,
   "id": "edd06c98",
   "metadata": {},
   "outputs": [],
   "source": [
    "\n",
    "class TransformerModel(nn.Module):\n",
    "\n",
    "    def __init__(self, ntoken: int, d_model: int, nhead: int, d_hid: int, nlayers: int, dropout: float = 0.5):\n",
    "        super().__init__()\n",
    "        self.model_type = 'Transformer'\n",
    "        self.pos_encoder = PositionalEncoding(d_model, dropout)\n",
    "        encoder_layers = TransformerEncoderLayer(d_model, nhead, d_hid, dropout)\n",
    "        self.transformer_encoder = TransformerEncoder(encoder_layers, nlayers)\n",
    "        self.encoder = nn.Embedding(ntoken, d_model)\n",
    "        self.d_model = d_model\n",
    "        self.decoder = nn.Linear(d_model, ntoken)\n",
    "\n",
    "        self.init_weights()\n",
    "\n",
    "    def init_weights(self) -> None:\n",
    "        initrange = 0.1\n",
    "        self.encoder.weight.data.uniform_(-initrange, initrange)\n",
    "        self.decoder.bias.data.zero_()\n",
    "        self.decoder.weight.data.uniform_(-initrange, initrange)\n",
    "\n",
    "    def forward(self, src: Tensor, src_mask: Tensor, verbose=False) -> Tensor:\n",
    "        \"\"\"\n",
    "        Args:\n",
    "            src: Tensor, shape [seq_len, batch_size]\n",
    "            src_mask: Tensor, shape [seq_len, seq_len]\n",
    "\n",
    "        Returns:\n",
    "            output Tensor of shape [seq_len, batch_size, ntoken]\n",
    "        \"\"\"\n",
    "        src = self.encoder(src) * math.sqrt(self.d_model)\n",
    "        if verbose:\n",
    "            print(src.shape)\n",
    "            figure()\n",
    "            imshow(src.detach().numpy().reshape((42,20)))\n",
    "            \n",
    "        src = self.pos_encoder(src)\n",
    "        if verbose:\n",
    "            print(src.shape)\n",
    "            figure()\n",
    "            imshow(src.detach().numpy().reshape((42,20)))\n",
    "            \n",
    "        output = self.transformer_encoder(src, src_mask)\n",
    "        if verbose:\n",
    "            print(output.shape)\n",
    "            figure()\n",
    "            imshow(output.detach().numpy().reshape((42,20)))\n",
    "            \n",
    "        output = self.decoder(output)\n",
    "        if verbose:\n",
    "            print(output.shape)\n",
    "            figure()\n",
    "            imshow(output.detach().numpy().reshape((42,6)))\n",
    "            \n",
    "        return output\n",
    "\n",
    "\n",
    "def generate_square_subsequent_mask(sz: int) -> Tensor:\n",
    "    \"\"\"Generates an upper-triangular matrix of -inf, with zeros on diag.\"\"\"\n",
    "    return torch.triu(torch.ones(sz, sz) * float('-inf'), diagonal=1)"
   ]
  },
  {
   "cell_type": "code",
   "execution_count": 29,
   "id": "59cafb7b",
   "metadata": {},
   "outputs": [],
   "source": [
    "class PositionalEncoding(nn.Module):\n",
    "\n",
    "    def __init__(self, d_model: int, dropout: float = 0.1, max_len: int = 5000):\n",
    "        super().__init__()\n",
    "        self.dropout = nn.Dropout(p=dropout)\n",
    "\n",
    "        position = torch.arange(max_len).unsqueeze(1)\n",
    "        div_term = torch.exp(torch.arange(0, d_model, 2) * (-math.log(10000.0) / d_model))\n",
    "        pe = torch.zeros(max_len, 1, d_model)\n",
    "        pe[:, 0, 0::2] = torch.sin(position * div_term)\n",
    "        pe[:, 0, 1::2] = torch.cos(position * div_term)\n",
    "        self.register_buffer('pe', pe)\n",
    "\n",
    "    def forward(self, x: Tensor) -> Tensor:\n",
    "        \"\"\"\n",
    "        Args:\n",
    "            x: Tensor, shape [seq_len, batch_size, embedding_dim]\n",
    "        \"\"\"\n",
    "        x = x + self.pe[:x.size(0)]\n",
    "        return self.dropout(x)"
   ]
  },
  {
   "cell_type": "code",
   "execution_count": 26,
   "id": "a54b2c93",
   "metadata": {},
   "outputs": [],
   "source": [
    "device = torch.device('cuda' if torch.cuda.is_available() else 'cpu')"
   ]
  },
  {
   "cell_type": "code",
   "execution_count": 30,
   "id": "dc354b96",
   "metadata": {},
   "outputs": [],
   "source": [
    "data,target=get_batch(DaisyBell,0)"
   ]
  },
  {
   "cell_type": "code",
   "execution_count": 32,
   "id": "fc668059",
   "metadata": {},
   "outputs": [
    {
     "name": "stdout",
     "output_type": "stream",
     "text": [
      "tensor([[0., -inf, -inf,  ..., -inf, -inf, -inf],\n",
      "        [0., 0., -inf,  ..., -inf, -inf, -inf],\n",
      "        [0., 0., 0.,  ..., -inf, -inf, -inf],\n",
      "        ...,\n",
      "        [0., 0., 0.,  ..., 0., -inf, -inf],\n",
      "        [0., 0., 0.,  ..., 0., 0., -inf],\n",
      "        [0., 0., 0.,  ..., 0., 0., 0.]])\n"
     ]
    }
   ],
   "source": [
    "src_mask = generate_square_subsequent_mask(bptt).to(device)\n",
    "print(src_mask)"
   ]
  },
  {
   "cell_type": "code",
   "execution_count": 43,
   "id": "33fc4078",
   "metadata": {},
   "outputs": [
    {
     "name": "stderr",
     "output_type": "stream",
     "text": [
      "/Library/Frameworks/Python.framework/Versions/3.10/lib/python3.10/site-packages/torch/nn/modules/transformer.py:286: UserWarning: enable_nested_tensor is True, but self.use_nested_tensor is False because encoder_layer.self_attn.batch_first was not True(use batch_first for better inference performance)\n",
      "  warnings.warn(f\"enable_nested_tensor is True, but self.use_nested_tensor is False because {why_not_sparsity_fast_path}\")\n"
     ]
    }
   ],
   "source": [
    "# I generated this part not sure if its right\n",
    "model = TransformerModel(ntoken=6, d_model=64, nhead=4, d_hid=256, nlayers=2, dropout=0.2)"
   ]
  },
  {
   "cell_type": "code",
   "execution_count": 44,
   "id": "09985543",
   "metadata": {},
   "outputs": [
    {
     "data": {
      "text/plain": [
       "tensor([[[ 2.2506e-01,  5.0259e-01,  1.7064e-01, -1.0018e+00,  7.5557e-01,\n",
       "          -2.8919e-01]],\n",
       "\n",
       "        [[-6.1420e-01,  3.7357e-01, -4.0450e-02, -6.4494e-01,  4.2121e-01,\n",
       "           7.7843e-01]],\n",
       "\n",
       "        [[-1.9203e-01, -3.3411e-01, -1.0794e-01, -3.5808e-01,  8.5755e-02,\n",
       "          -5.8398e-01]],\n",
       "\n",
       "        [[ 2.0217e-01,  1.1512e-01, -3.6800e-01, -1.9327e-01, -1.2252e-01,\n",
       "          -7.6280e-01]],\n",
       "\n",
       "        [[-3.9735e-01,  4.8104e-01, -2.0878e-01, -3.8134e-01,  5.8956e-01,\n",
       "           4.8650e-01]],\n",
       "\n",
       "        [[-4.7249e-02,  4.8878e-01,  3.5428e-02, -9.7342e-02,  7.1359e-01,\n",
       "           2.3891e-01]],\n",
       "\n",
       "        [[ 2.1683e-01, -1.7104e-02, -3.3801e-01,  5.5813e-02,  4.0337e-01,\n",
       "          -1.0810e+00]],\n",
       "\n",
       "        [[ 6.6865e-02,  7.6500e-01,  2.8812e-02, -2.9147e-01,  2.7842e-01,\n",
       "          -2.2217e-01]],\n",
       "\n",
       "        [[ 7.3386e-01,  4.9321e-01,  1.9107e-02, -2.1517e-01,  4.8895e-01,\n",
       "           3.1474e-02]],\n",
       "\n",
       "        [[-6.9688e-01,  8.0205e-01,  3.0950e-01, -2.4662e-01,  3.2458e-01,\n",
       "           3.0339e-01]],\n",
       "\n",
       "        [[ 4.8579e-01,  7.4518e-01,  5.7349e-02, -2.7293e-01, -2.4157e-01,\n",
       "          -8.8524e-03]],\n",
       "\n",
       "        [[-5.2686e-01, -3.1840e-01, -1.4542e-01,  4.6518e-01,  4.8202e-01,\n",
       "           4.7720e-01]],\n",
       "\n",
       "        [[-4.7651e-01, -7.4924e-01, -1.9480e-01,  4.4364e-01, -8.4005e-02,\n",
       "           1.0371e-01]],\n",
       "\n",
       "        [[-1.1900e-03,  5.3214e-01,  4.4930e-01,  2.0982e-02,  7.6535e-01,\n",
       "           4.2075e-01]],\n",
       "\n",
       "        [[ 1.5153e-02, -8.4477e-02,  1.1239e-01, -1.5077e-01,  3.8150e-01,\n",
       "          -5.7559e-01]],\n",
       "\n",
       "        [[ 2.6486e-01,  1.7762e-01,  5.6913e-01, -3.4862e-01,  1.2902e-01,\n",
       "          -4.1255e-01]],\n",
       "\n",
       "        [[ 7.1609e-01,  5.7555e-01,  3.0125e-01, -4.6985e-01, -8.0286e-02,\n",
       "          -2.5435e-01]],\n",
       "\n",
       "        [[ 5.6779e-01,  5.3386e-01,  1.1826e-01, -5.3951e-01, -8.2066e-03,\n",
       "          -3.5398e-01]],\n",
       "\n",
       "        [[-4.0786e-01,  4.7556e-01,  1.6208e-01, -8.2799e-02, -1.3515e-01,\n",
       "          -3.7722e-03]],\n",
       "\n",
       "        [[ 1.3628e-01,  4.4310e-01,  6.8942e-01,  3.7721e-01, -2.4440e-01,\n",
       "           1.3245e-01]],\n",
       "\n",
       "        [[-3.8328e-01, -2.7120e-01,  3.0845e-01,  2.2422e-02,  7.0277e-01,\n",
       "          -1.1462e-01]],\n",
       "\n",
       "        [[-1.0720e-01, -3.5113e-02,  2.3498e-01,  3.2462e-01,  3.2335e-01,\n",
       "          -4.7714e-01]],\n",
       "\n",
       "        [[ 6.4601e-02,  2.6571e-01,  2.2754e-01, -5.2123e-01,  1.7858e-01,\n",
       "          -4.5095e-01]],\n",
       "\n",
       "        [[ 5.6402e-01,  7.3164e-01,  6.6663e-01, -6.9741e-02, -9.5595e-02,\n",
       "          -1.7496e-01]],\n",
       "\n",
       "        [[ 2.0716e-01,  2.9693e-01,  3.7024e-02, -2.7682e-01, -2.9144e-01,\n",
       "           5.3782e-02]],\n",
       "\n",
       "        [[-3.5316e-01,  5.8971e-01, -2.1691e-02, -2.9561e-01,  3.8231e-01,\n",
       "           4.9646e-01]],\n",
       "\n",
       "        [[-6.7849e-01,  2.4197e-01,  4.4726e-01, -4.2194e-01, -1.4738e-01,\n",
       "           4.3865e-01]],\n",
       "\n",
       "        [[-5.3998e-01, -4.6330e-01, -2.6471e-01, -1.5898e-01,  8.3623e-02,\n",
       "           3.5981e-01]],\n",
       "\n",
       "        [[ 1.0380e-01,  1.9935e-01, -1.9257e-01, -1.0691e+00,  2.6672e-01,\n",
       "           5.0306e-01]],\n",
       "\n",
       "        [[ 2.8214e-01,  5.1898e-01,  1.0062e-01, -1.1915e+00,  1.3978e-01,\n",
       "          -3.1192e-02]],\n",
       "\n",
       "        [[-3.9335e-01, -2.5659e-01,  4.5308e-01, -1.2245e-01,  5.1147e-01,\n",
       "          -1.1351e-01]],\n",
       "\n",
       "        [[-4.2942e-01,  2.5630e-01,  5.9489e-01,  8.5997e-02,  5.3423e-01,\n",
       "          -3.7448e-01]],\n",
       "\n",
       "        [[-1.7424e-01,  5.9775e-01,  7.8668e-01, -4.9093e-01,  2.7039e-01,\n",
       "           1.0766e-01]],\n",
       "\n",
       "        [[-1.4008e-02,  5.5793e-01,  7.2271e-01, -1.7955e-01,  5.6163e-01,\n",
       "           8.8100e-01]],\n",
       "\n",
       "        [[ 3.6165e-01, -1.3814e-01,  4.9419e-01,  3.5421e-01,  6.1882e-01,\n",
       "          -4.1217e-01]],\n",
       "\n",
       "        [[ 2.8100e-01,  5.4393e-01,  5.2286e-01, -2.0098e-01,  1.0803e-01,\n",
       "          -1.3865e-01]],\n",
       "\n",
       "        [[ 9.0158e-02,  5.5371e-01,  1.1042e-01,  2.6700e-01,  2.0681e-01,\n",
       "          -3.1106e-01]],\n",
       "\n",
       "        [[-4.1982e-01,  2.8294e-02, -1.2649e-01, -5.3425e-02,  1.2161e-01,\n",
       "          -1.0816e-01]],\n",
       "\n",
       "        [[-3.3679e-02,  9.3468e-02,  4.5050e-02, -3.5198e-01,  1.1185e-01,\n",
       "           8.7841e-02]],\n",
       "\n",
       "        [[ 2.9182e-01, -1.4293e-02, -1.3224e-01, -4.5220e-02,  1.4689e-01,\n",
       "          -5.5933e-01]],\n",
       "\n",
       "        [[-1.1221e-01,  1.5328e-01,  2.5671e-01, -1.6113e-01,  7.5536e-01,\n",
       "           2.0600e-01]],\n",
       "\n",
       "        [[ 2.4591e-01,  1.7180e-01,  2.6334e-01, -1.9440e-01,  8.1175e-01,\n",
       "           6.4756e-01]]], grad_fn=<ViewBackward0>)"
      ]
     },
     "execution_count": 44,
     "metadata": {},
     "output_type": "execute_result"
    }
   ],
   "source": [
    "output = model(torch.tensor(data,dtype=torch.long),src_mask)\n",
    "output"
   ]
  },
  {
   "cell_type": "code",
   "execution_count": 45,
   "id": "a004e6cb",
   "metadata": {},
   "outputs": [],
   "source": [
    "\n",
    "def train(model: nn.Module,train_data) -> None:\n",
    "    model.train()  # turn on train mode\n",
    "    total_loss = 0.\n",
    "    log_interval = 200\n",
    "    start_time = time.time()\n",
    "    src_mask = generate_square_subsequent_mask(bptt).to(device)\n",
    "\n",
    "    num_batches = len(train_data) // bptt\n",
    "    #for batch, i in enumerate(range(0, train_data.size(0) - 1, bptt)):\n",
    "    for batch, i in enumerate(range(0, len(train_data) - 1, bptt)):\n",
    "        data, targets = get_batch(train_data, i)\n",
    "        seq_len = len(data)\n",
    "        if seq_len != bptt:  # only on last batch\n",
    "            src_mask = src_mask[:seq_len, :seq_len]\n",
    "        output = model(torch.tensor(data,dtype=torch.long), src_mask)\n",
    "        loss = criterion(output.view(-1, ntokens), torch.tensor(targets,dtype=torch.long))\n",
    "\n",
    "        optimizer.zero_grad()\n",
    "        loss.backward()\n",
    "        torch.nn.utils.clip_grad_norm_(model.parameters(), 0.5)\n",
    "        optimizer.step()\n",
    "\n",
    "        total_loss += loss.item()\n",
    "        if batch % log_interval == 0 and batch > 0:\n",
    "            lr = scheduler.get_last_lr()[0]\n",
    "            ms_per_batch = (time.time() - start_time) * 1000 / log_interval\n",
    "            cur_loss = total_loss / log_interval\n",
    "            ppl = math.exp(cur_loss)\n",
    "            print(f'| epoch {epoch:3d} | {batch:5d}/{num_batches:5d} batches | '\n",
    "                  f'lr {lr:02.2f} | ms/batch {ms_per_batch:5.2f} | '\n",
    "                  f'loss {cur_loss:5.2f} | ppl {ppl:8.2f}')\n",
    "            total_loss = 0\n",
    "            start_time = time.time()\n",
    "\n",
    "def evaluate(model: nn.Module, eval_data: Tensor) -> float:\n",
    "    model.eval()  # turn on evaluation mode\n",
    "    total_loss = 0.\n",
    "    src_mask = generate_square_subsequent_mask(bptt).to(device)\n",
    "    with torch.no_grad():\n",
    "        for i in range(0, len(eval_data) - 1, bptt):\n",
    "            data, targets = get_batch(eval_data, i)\n",
    "            seq_len = len(data)\n",
    "            if seq_len != bptt:\n",
    "                src_mask = src_mask[:seq_len, :seq_len]\n",
    "            output = model(torch.tensor(data,dtype=torch.long), src_mask)\n",
    "            output_flat = output.view(-1, ntokens)\n",
    "            total_loss += seq_len * criterion(output_flat, torch.tensor(targets,dtype=torch.long)).item()\n",
    "    return total_loss / (len(eval_data) - 1)"
   ]
  },
  {
   "cell_type": "code",
   "execution_count": 254,
   "id": "02c304e8",
   "metadata": {},
   "outputs": [],
   "source": [
    "!mkdir models"
   ]
  },
  {
   "cell_type": "code",
   "execution_count": 10,
   "id": "a4e5db83",
   "metadata": {},
   "outputs": [],
   "source": [
    "def EI(A,B,nrOfSymbols):\n",
    "    pseudoCount=0.0\n",
    "    Pxy=numpy.zeros((nrOfSymbols,nrOfSymbols))+pseudoCount\n",
    "    Py=numpy.zeros((nrOfSymbols))+pseudoCount\n",
    "    for i in range(len(A)):\n",
    "        a=A[i]\n",
    "        b=B[i]\n",
    "        Pxy[a][b]+=1.0\n",
    "        Py[b]+=1.0\n",
    "    Pxy/=Pxy.sum()\n",
    "    Py/=Py.sum()\n",
    "    I=0.0\n",
    "    for a in range(nrOfSymbols):\n",
    "        for b in range(nrOfSymbols):\n",
    "            if Pxy[a][b]!=0.0 and Py[b]!=0.0:\n",
    "                I+=Pxy[a][b]*numpy.log2(Pxy[a][b]/Py[b])\n",
    "    return -I"
   ]
  },
  {
   "cell_type": "code",
   "execution_count": 11,
   "id": "e84af5e6",
   "metadata": {},
   "outputs": [
    {
     "name": "stdout",
     "output_type": "stream",
     "text": [
      "2.2232522479081007\n"
     ]
    },
    {
     "name": "stderr",
     "output_type": "stream",
     "text": [
      "/Users/ahz/miniforge3/envs/pyphi/lib/python3.8/site-packages/sklearn/cluster/_kmeans.py:870: FutureWarning: The default value of `n_init` will change from 10 to 'auto' in 1.4. Set the value of `n_init` explicitly to suppress the warning\n",
      "  warnings.warn(\n",
      "/Users/ahz/miniforge3/envs/pyphi/lib/python3.8/site-packages/sklearn/cluster/_kmeans.py:870: FutureWarning: The default value of `n_init` will change from 10 to 'auto' in 1.4. Set the value of `n_init` explicitly to suppress the warning\n",
      "  warnings.warn(\n",
      "/Users/ahz/miniforge3/envs/pyphi/lib/python3.8/site-packages/sklearn/cluster/_kmeans.py:870: FutureWarning: The default value of `n_init` will change from 10 to 'auto' in 1.4. Set the value of `n_init` explicitly to suppress the warning\n",
      "  warnings.warn(\n",
      "/Users/ahz/miniforge3/envs/pyphi/lib/python3.8/site-packages/sklearn/cluster/_kmeans.py:870: FutureWarning: The default value of `n_init` will change from 10 to 'auto' in 1.4. Set the value of `n_init` explicitly to suppress the warning\n",
      "  warnings.warn(\n",
      "/Users/ahz/miniforge3/envs/pyphi/lib/python3.8/site-packages/sklearn/cluster/_kmeans.py:870: FutureWarning: The default value of `n_init` will change from 10 to 'auto' in 1.4. Set the value of `n_init` explicitly to suppress the warning\n",
      "  warnings.warn(\n",
      "/Users/ahz/miniforge3/envs/pyphi/lib/python3.8/site-packages/sklearn/cluster/_kmeans.py:870: FutureWarning: The default value of `n_init` will change from 10 to 'auto' in 1.4. Set the value of `n_init` explicitly to suppress the warning\n",
      "  warnings.warn(\n"
     ]
    }
   ],
   "source": [
    "def atomicPhi(data):\n",
    "    fsState=numpy.zeros(data.shape[0])\n",
    "    theSum=0.0\n",
    "    for i in range(data.shape[1]):\n",
    "        if len(unique(data.transpose()[i]))>1:\n",
    "            kmeans = KMeans(n_clusters=2).fit(data.transpose()[i].reshape((data.shape[0],1)))\n",
    "            state=kmeans.labels_\n",
    "        else:\n",
    "            state=numpy.zeros((data.shape[0])).astype(int)\n",
    "        fsState=(fsState*2)+state\n",
    "        theSum+=EI(state,numpy.roll(state,shift=1),2)\n",
    "    aPhi=0.0\n",
    "    fsState=fsState.astype(int)\n",
    "    sysEI=EI(fsState,numpy.roll(fsState,shift=1),2**data.shape[1])\n",
    "    return -sysEI+theSum\n",
    "\n",
    "print(atomicPhi(DaisyBellMatrix))"
   ]
  },
  {
   "cell_type": "code",
   "execution_count": 24,
   "id": "3b16aad8",
   "metadata": {
    "scrolled": false
   },
   "outputs": [
    {
     "name": "stdout",
     "output_type": "stream",
     "text": [
      "torch.Size([42, 1, 20])\n",
      "torch.Size([42, 1, 20])\n",
      "torch.Size([42, 1, 20])\n",
      "torch.Size([42, 1, 6])\n"
     ]
    },
    {
     "name": "stderr",
     "output_type": "stream",
     "text": [
      "/Users/ahz/miniforge3/envs/pyphi/lib/python3.8/site-packages/numpy/lib/function_base.py:2854: RuntimeWarning: invalid value encountered in divide\n",
      "  c /= stddev[:, None]\n",
      "/Users/ahz/miniforge3/envs/pyphi/lib/python3.8/site-packages/numpy/lib/function_base.py:2855: RuntimeWarning: invalid value encountered in divide\n",
      "  c /= stddev[None, :]\n",
      "/Users/ahz/miniforge3/envs/pyphi/lib/python3.8/site-packages/sklearn/cluster/_kmeans.py:870: FutureWarning: The default value of `n_init` will change from 10 to 'auto' in 1.4. Set the value of `n_init` explicitly to suppress the warning\n",
      "  warnings.warn(\n",
      "/Users/ahz/miniforge3/envs/pyphi/lib/python3.8/site-packages/sklearn/cluster/_kmeans.py:870: FutureWarning: The default value of `n_init` will change from 10 to 'auto' in 1.4. Set the value of `n_init` explicitly to suppress the warning\n",
      "  warnings.warn(\n",
      "/Users/ahz/miniforge3/envs/pyphi/lib/python3.8/site-packages/sklearn/cluster/_kmeans.py:870: FutureWarning: The default value of `n_init` will change from 10 to 'auto' in 1.4. Set the value of `n_init` explicitly to suppress the warning\n",
      "  warnings.warn(\n",
      "/Users/ahz/miniforge3/envs/pyphi/lib/python3.8/site-packages/sklearn/cluster/_kmeans.py:870: FutureWarning: The default value of `n_init` will change from 10 to 'auto' in 1.4. Set the value of `n_init` explicitly to suppress the warning\n",
      "  warnings.warn(\n"
     ]
    },
    {
     "data": {
      "text/plain": [
       "[<matplotlib.lines.Line2D at 0x29185bd30>]"
      ]
     },
     "execution_count": 24,
     "metadata": {},
     "output_type": "execute_result"
    },
    {
     "data": {
      "image/png": "[encoded data removed]",
      "text/plain": [
       "<Figure size 640x480 with 1 Axes>"
      ]
     },
     "metadata": {},
     "output_type": "display_data"
    },
    {
     "data": {
      "image/png": "[encoded data removed]",
      "text/plain": [
       "<Figure size 640x480 with 1 Axes>"
      ]
     },
     "metadata": {},
     "output_type": "display_data"
    },
    {
     "data": {
      "image/png": "[encoded data removed]",
      "text/plain": [
       "<Figure size 640x480 with 1 Axes>"
      ]
     },
     "metadata": {},
     "output_type": "display_data"
    },
    {
     "data": {
      "image/png": "[encoded data removed]",
      "text/plain": [
       "<Figure size 640x480 with 2 Axes>"
      ]
     },
     "metadata": {},
     "output_type": "display_data"
    }
   ],
   "source": [
    "bptt = 42\n",
    "\n",
    "ntokens = 6  # size of vocabulary\n",
    "emsize = 20  # embedding dimension\n",
    "d_hid = 20  # dimension of the feedforward network model in nn.TransformerEncoder\n",
    "nlayers = 2  # number of nn.TransformerEncoderLayer in nn.TransformerEncoder\n",
    "nhead = 4  # number of heads in nn.MultiheadAttention\n",
    "dropout = 0.0  # dropout probability\n",
    "\n",
    "criterion = nn.CrossEntropyLoss()\n",
    "lr = 5.0  # learning rate\n",
    "model = TransformerModel(ntokens, emsize, nhead, d_hid, nlayers, dropout).to(device)\n",
    "optimizer = torch.optim.SGD(model.parameters(), lr=lr)\n",
    "scheduler = torch.optim.lr_scheduler.StepLR(optimizer, 1.0, gamma=0.95)\n",
    "\n",
    "\n",
    "epochs=1\n",
    "W=[]\n",
    "Os=[]\n",
    "phi=[]\n",
    "phiSamples=[]\n",
    "Wsamples=[]\n",
    "for epoch in range(1, epochs + 1):\n",
    "    train(model,DaisyBell)\n",
    "    \n",
    "    model.eval()\n",
    "    data,target=get_batch(DaisyBell,0)\n",
    "    src_mask = generate_square_subsequent_mask(bptt).to(device)\n",
    "    output = model(torch.tensor(data,dtype=torch.long),src_mask,verbose=True)\n",
    "    torch.save(model,\"models/DB_tf_epoch_{0}.model\".format(epoch))\n",
    "\n",
    "    answer=[]\n",
    "    for i in range(bptt):\n",
    "        answer.append(numpy.argmax(output.detach().numpy()[i]))\n",
    "    W.append(corrcoef(target,answer)[1][0])\n",
    "    A=numpy.argmax(output.detach().numpy().reshape((42,6)),axis=1)\n",
    "    directM=numpy.zeros((42,6))\n",
    "    for i in range(42):\n",
    "        directM[i][A[i]]=1\n",
    "    phi.append(atomicPhi(directM))\n",
    "\n",
    "    \n",
    "    M=numpy.zeros((42,6))\n",
    "    for i in range(42):\n",
    "        data,target=get_batch(DaisyBell,i)\n",
    "        src_mask = generate_square_subsequent_mask(bptt).to(device)\n",
    "        output = model(torch.tensor(data,dtype=torch.long),src_mask)\n",
    "        O=output.detach().numpy().reshape((bptt,6))[-1]\n",
    "        O=numpy.abs(O*(O>=0.0))\n",
    "        M[i]=O/O.sum()\n",
    "    for i in range(1000):\n",
    "        if i==0:\n",
    "            R=1.0*(numpy.random.random((42,6))<numpy.roll(M,shift=-1,axis=0))\n",
    "        else:\n",
    "            R=numpy.concatenate((R,1.0*(numpy.random.random((42,6))<numpy.roll(M,shift=-1,axis=0))))\n",
    "    phiSamples.append(atomicPhi(R))\n",
    "    #phi.append(atomicPhi(M))\n",
    "    if epoch%10==0:\n",
    "        print(epoch,W[-1],phi[-1],phiSamples[-1])\n",
    "    #val_loss = evaluate(model, DaisyBell)\n",
    "    #val_ppl = math.exp(val_loss)\n",
    "    #print(f'| end of epoch {epoch:3d} | ' f'valid loss {val_loss:5.2f} | valid ppl {val_ppl:8.2f}')\n",
    "\n",
    "    #if val_loss < best_val_loss:\n",
    "        #best_val_loss = val_loss\n",
    "    scheduler.step()\n",
    "plot(W)\n",
    "twinx()\n",
    "plot(phi,'k')\n",
    "plot(phiSamples,'r')"
   ]
  },
  {
   "cell_type": "code",
   "execution_count": 341,
   "id": "e67953a2",
   "metadata": {},
   "outputs": [
    {
     "data": {
      "image/png": "[encoded data removed]",
      "text/plain": [
       "<Figure size 640x480 with 2 Axes>"
      ]
     },
     "metadata": {},
     "output_type": "display_data"
    }
   ],
   "source": [
    "plot(W,label='performance')\n",
    "ylabel('performance')\n",
    "twinx()\n",
    "plot(phi,'k',label=r\"$\\phi_{det}$\")\n",
    "plot(phiSamples,'r',label=r\"$\\phi_{prob}$\")\n",
    "ylabel(r\"$\\phi_{atomic} [bits]$\")\n",
    "legend()\n",
    "savefig(\"phi.pdf\")"
   ]
  },
  {
   "cell_type": "code",
   "execution_count": 328,
   "id": "086d4b80",
   "metadata": {},
   "outputs": [
    {
     "data": {
      "text/plain": [
       "<matplotlib.image.AxesImage at 0x2aa03c6a0>"
      ]
     },
     "execution_count": 328,
     "metadata": {},
     "output_type": "execute_result"
    },
    {
     "data": {
      "image/png": "[encoded data removed]",
      "text/plain": [
       "<Figure size 640x480 with 2 Axes>"
      ]
     },
     "metadata": {},
     "output_type": "display_data"
    }
   ],
   "source": [
    "subplot(1,2,1)\n",
    "imshow(numpy.roll(M,shift=-1,axis=0),vmin=0.0,vmax=1.0,cmap=\"gray\")\n",
    "subplot(1,2,2)\n",
    "imshow(DaisyBellMatrix,cmap=\"gray\")"
   ]
  },
  {
   "cell_type": "code",
   "execution_count": 330,
   "id": "a656d83c",
   "metadata": {},
   "outputs": [
    {
     "data": {
      "text/plain": [
       "<matplotlib.image.AxesImage at 0x2aa171160>"
      ]
     },
     "execution_count": 330,
     "metadata": {},
     "output_type": "execute_result"
    },
    {
     "data": {
      "image/png": "[encoded data removed]",
      "text/plain": [
       "<Figure size 640x480 with 1 Axes>"
      ]
     },
     "metadata": {},
     "output_type": "display_data"
    }
   ],
   "source": [
    "imshow(R)"
   ]
  },
  {
   "cell_type": "code",
   "execution_count": 229,
   "id": "3a7f5fe9",
   "metadata": {},
   "outputs": [
    {
     "data": {
      "text/plain": [
       "([], [])"
      ]
     },
     "execution_count": 229,
     "metadata": {},
     "output_type": "execute_result"
    },
    {
     "data": {
      "image/png": "[encoded data removed]",
      "text/plain": [
       "<Figure size 640x480 with 12 Axes>"
      ]
     },
     "metadata": {},
     "output_type": "display_data"
    }
   ],
   "source": [
    "#figure(figsize=[3.25,1.25])\n",
    "for o in range(10):\n",
    "    subplot(12,1,o+1)\n",
    "    imshow(Os[o].transpose(),cmap=\"gray\",vmin=0.0)\n",
    "    xticks([])\n",
    "    yticks([])\n",
    "tight_layout()\n",
    "subplot(12,1,11)\n",
    "imshow(Os[-1].transpose(),cmap=\"gray\",vmin=0.0)\n",
    "xticks([])\n",
    "yticks([])\n",
    "subplot(12,1,12)\n",
    "imshow(DaisyBellMatrix.transpose(),cmap=\"gray\",vmin=0.0)\n",
    "xticks([])\n",
    "yticks([])\n",
    "#tight_layout()\n"
   ]
  },
  {
   "cell_type": "code",
   "execution_count": 188,
   "id": "30ae0c65",
   "metadata": {},
   "outputs": [
    {
     "data": {
      "text/plain": [
       "<matplotlib.image.AxesImage at 0x17f626df0>"
      ]
     },
     "execution_count": 188,
     "metadata": {},
     "output_type": "execute_result"
    },
    {
     "data": {
      "image/png": "[encoded data removed]",
      "text/plain": [
       "<Figure size 640x480 with 1 Axes>"
      ]
     },
     "metadata": {},
     "output_type": "display_data"
    }
   ],
   "source": [
    "O=Os[10]\n",
    "O=numpy.abs(O*(1.0*(O>=0.0)))\n",
    "imshow((O.transpose()/O.sum(1)).transpose())"
   ]
  },
  {
   "cell_type": "code",
   "execution_count": 189,
   "id": "d2afb735",
   "metadata": {},
   "outputs": [],
   "source": [
    "plot(target,answer,'.k')"
   ]
  },
  {
   "cell_type": "code",
   "execution_count": 111,
   "id": "c486edde",
   "metadata": {},
   "outputs": [
    {
     "name": "stdout",
     "output_type": "stream",
     "text": [
      "[[[-0.          4.64955235 -0.         -0.         -0.\n",
      "    4.71620655]]\n",
      "\n",
      " [[-0.          4.60671139 -0.         -0.         -0.\n",
      "    4.75843668]]\n",
      "\n",
      " [[ 4.58779287 -0.         -0.         -0.         -0.\n",
      "    4.8894496 ]]\n",
      "\n",
      " [[ 5.30454111 -0.         -0.         -0.          0.04894729\n",
      "    4.70245886]]\n",
      "\n",
      " [[ 4.59989929 -0.         -0.         -0.         -0.\n",
      "    5.08052826]]\n",
      "\n",
      " [[ 3.40157962 -0.         -0.         -0.         -0.\n",
      "    4.92247868]]\n",
      "\n",
      " [[-0.         -0.         -0.          1.02906966  7.94073439\n",
      "    3.10807848]]\n",
      "\n",
      " [[-0.         -0.         -0.          6.04761934  6.2900157\n",
      "   -0.        ]]\n",
      "\n",
      " [[-0.         -0.         -0.          6.3077693   6.20473242\n",
      "   -0.        ]]\n",
      "\n",
      " [[-0.         -0.          5.23940849  5.25566769 -0.\n",
      "   -0.        ]]\n",
      "\n",
      " [[-0.         -0.          5.34251785  4.94773579 -0.\n",
      "   -0.        ]]\n",
      "\n",
      " [[-0.          3.63474751  3.48890495 -0.         -0.\n",
      "    2.52837467]]\n",
      "\n",
      " [[-0.          3.61038899  3.457757   -0.         -0.\n",
      "    2.5791378 ]]\n",
      "\n",
      " [[-0.          5.66743803 -0.         -0.         -0.\n",
      "    7.70806742]]\n",
      "\n",
      " [[ 0.85237712 -0.         -0.         -0.          5.67444897\n",
      "    4.70426226]]\n",
      "\n",
      " [[ 1.08926511 -0.         -0.         -0.          5.65721464\n",
      "    4.58676386]]\n",
      "\n",
      " [[-0.         -0.         -0.          5.04497528  5.30277491\n",
      "   -0.        ]]\n",
      "\n",
      " [[-0.         -0.         -0.          5.229424    5.15141058\n",
      "   -0.        ]]\n",
      "\n",
      " [[-0.         -0.          4.87287807  4.97401094 -0.\n",
      "   -0.        ]]\n",
      "\n",
      " [[-0.         -0.          4.93644285  4.84864855 -0.\n",
      "   -0.        ]]\n",
      "\n",
      " [[-0.          3.64045238  3.1329608  -0.         -0.\n",
      "    2.78484869]]\n",
      "\n",
      " [[ 1.45904052 -0.         -0.         -0.          4.71557522\n",
      "    4.63165522]]\n",
      "\n",
      " [[ 1.76110172 -0.         -0.         -0.          4.583848\n",
      "    4.44205999]]\n",
      "\n",
      " [[-0.         -0.         -0.          5.28096962  5.24762011\n",
      "   -0.        ]]\n",
      "\n",
      " [[-0.         -0.         -0.          5.43446732  5.20518732\n",
      "   -0.        ]]\n",
      "\n",
      " [[-0.         -0.          4.91325855  5.01031446 -0.\n",
      "   -0.        ]]\n",
      "\n",
      " [[-0.         -0.          4.9337554   4.91009283 -0.\n",
      "   -0.        ]]\n",
      "\n",
      " [[-0.          4.00569773  3.1177907  -0.         -0.\n",
      "    2.38708138]]\n",
      "\n",
      " [[-0.          7.25534248 -0.         -0.         -0.\n",
      "    6.97501993]]\n",
      "\n",
      " [[-0.          7.16881084 -0.         -0.         -0.\n",
      "    7.05933332]]\n",
      "\n",
      " [[ 2.58867168 -0.         -0.         -0.          3.39536786\n",
      "    3.93483186]]\n",
      "\n",
      " [[ 2.71034122 -0.         -0.         -0.          3.39138651\n",
      "    3.80448675]]\n",
      "\n",
      " [[ 5.64477396 -0.         -0.         -0.         -0.\n",
      "    5.52220631]]\n",
      "\n",
      " [[ 5.07178545 -0.         -0.         -0.         -0.\n",
      "    5.45403624]]\n",
      "\n",
      " [[ 1.21125627 -0.         -0.         -0.          5.00572729\n",
      "    3.84872365]]\n",
      "\n",
      " [[-0.         -0.         -0.          5.27165461  5.21663475\n",
      "   -0.        ]]\n",
      "\n",
      " [[-0.         -0.         -0.          5.38754749  5.13450384\n",
      "   -0.        ]]\n",
      "\n",
      " [[-0.         -0.          5.06527519  4.94061852 -0.\n",
      "   -0.        ]]\n",
      "\n",
      " [[-0.         -0.          5.18391657  4.89860201 -0.\n",
      "   -0.        ]]\n",
      "\n",
      " [[-0.          3.97765422  3.34163785 -0.         -0.\n",
      "    1.90292907]]\n",
      "\n",
      " [[-0.          4.04193926  3.36137176 -0.         -0.\n",
      "    1.91824245]]\n",
      "\n",
      " [[-0.          8.08450317 -0.         -0.         -0.\n",
      "    5.8863883 ]]]\n"
     ]
    }
   ],
   "source": [
    "O=output.detach().numpy()\n",
    "O=(O*(1.0*(O>0.0)))\n",
    "print(O)"
   ]
  },
  {
   "cell_type": "code",
   "execution_count": 232,
   "id": "ceb04838",
   "metadata": {},
   "outputs": [
    {
     "data": {
      "text/plain": [
       "<matplotlib.image.AxesImage at 0x17e82a820>"
      ]
     },
     "execution_count": 232,
     "metadata": {},
     "output_type": "execute_result"
    },
    {
     "data": {
      "image/png": "[encoded data removed]",
      "text/plain": [
       "<Figure size 640x480 with 2 Axes>"
      ]
     },
     "metadata": {},
     "output_type": "display_data"
    }
   ],
   "source": [
    "bptt=42\n",
    "M=numpy.zeros((42,6))\n",
    "for i in range(42):\n",
    "    data,target=get_batch(DaisyBell,i)\n",
    "    src_mask = generate_square_subsequent_mask(bptt).to(device)\n",
    "    model.eval()\n",
    "    output = model(torch.tensor(data,dtype=torch.long),src_mask)\n",
    "    M[i]=output.detach().numpy().reshape((bptt,6))[-1]\n",
    "subplot(1,2,1)\n",
    "imshow(numpy.roll(M,shift=1),vmin=0.0,cmap=\"gray\")\n",
    "subplot(1,2,2)\n",
    "imshow(DaisyBellMatrix,vmin=0.0,cmap=\"gray\")"
   ]
  },
  {
   "cell_type": "code",
   "execution_count": 233,
   "id": "8ae4be3c",
   "metadata": {},
   "outputs": [
    {
     "data": {
      "text/plain": [
       "array([[-3.61732411e+00,  5.37543535e+00,  7.99647093e-01,\n",
       "        -2.42201257e+00, -8.99926841e-01,  9.74684298e-01],\n",
       "       [-3.78051853e+00,  5.32374477e+00,  8.16112280e-01,\n",
       "        -2.28453946e+00, -7.36243904e-01,  8.48447978e-01],\n",
       "       [-3.91380095e+00,  5.28374434e+00,  8.59648168e-01,\n",
       "        -2.14722848e+00, -6.14830852e-01,  6.94618106e-01],\n",
       "       [-3.03551936e+00,  8.94988477e-01, -1.29198897e+00,\n",
       "        -6.67495489e-01,  4.21270227e+00, -7.45388150e-01],\n",
       "       [-2.95249295e+00,  9.30240929e-01, -1.27758861e+00,\n",
       "        -7.68393099e-01,  4.14113235e+00, -6.91498518e-01],\n",
       "       [ 3.48129845e+00,  3.01641703e-01, -1.89433849e+00,\n",
       "        -2.26152992e+00, -2.58340120e+00,  3.63948107e+00],\n",
       "       [ 3.24390864e+00,  2.34872222e-01, -1.99873602e+00,\n",
       "        -2.03720498e+00, -2.14454913e+00,  3.32657552e+00],\n",
       "       [-3.35277796e+00,  6.34858429e-01, -1.34238946e+00,\n",
       "        -2.72466004e-01,  4.57711554e+00, -9.36182261e-01],\n",
       "       [-4.18902445e+00, -1.67162395e+00, -6.62773475e-02,\n",
       "         3.80012012e+00,  4.60157681e+00, -3.14178014e+00],\n",
       "       [-4.16856909e+00, -1.68208075e+00, -2.90147960e-04,\n",
       "         3.83119035e+00,  4.56501389e+00, -3.21159172e+00],\n",
       "       [-3.37705588e+00, -4.38249290e-01,  3.64217949e+00,\n",
       "         4.15890551e+00,  3.07444602e-01, -4.52134800e+00],\n",
       "       [-3.18971372e+00, -3.78915012e-01,  3.83810568e+00,\n",
       "         4.13416243e+00, -1.26129031e-01, -4.44157457e+00],\n",
       "       [-3.47113800e+00,  3.14823246e+00,  3.15773344e+00,\n",
       "         6.14196301e-01, -2.87619203e-01, -3.38989663e+00],\n",
       "       [-3.47179556e+00,  3.24496198e+00,  3.15993261e+00,\n",
       "         5.24874032e-01, -3.60630989e-01, -3.31595707e+00],\n",
       "       [-4.21119261e+00,  5.14583254e+00,  7.88639843e-01,\n",
       "        -1.93885612e+00, -1.99663609e-01,  5.00518560e-01],\n",
       "       [-3.29747963e+00,  6.74951375e-01, -1.26263332e+00,\n",
       "        -1.75506637e-01,  4.48398590e+00, -1.09351230e+00],\n",
       "       [-3.29842973e+00,  6.92958891e-01, -1.28538144e+00,\n",
       "        -2.26499334e-01,  4.48091841e+00, -1.03284609e+00],\n",
       "       [-4.06320381e+00, -1.75845098e+00,  2.80492678e-02,\n",
       "         3.86498213e+00,  4.46939945e+00, -3.20824218e+00],\n",
       "       [-4.03314734e+00, -1.78590655e+00,  1.10501423e-02,\n",
       "         3.87896276e+00,  4.48707151e+00, -3.22314024e+00],\n",
       "       [-3.21939492e+00, -4.11764503e-01,  3.82420349e+00,\n",
       "         4.15729523e+00, -9.85453725e-02, -4.43186903e+00],\n",
       "       [-3.00016904e+00, -3.68898273e-01,  3.92619371e+00,\n",
       "         4.10289240e+00, -4.03508961e-01, -4.38897943e+00],\n",
       "       [-3.47765064e+00,  3.17074728e+00,  3.08422828e+00,\n",
       "         5.43190002e-01, -2.14525908e-01, -3.35056114e+00],\n",
       "       [-3.18934035e+00,  6.84227407e-01, -1.34934413e+00,\n",
       "        -3.74368459e-01,  4.46122694e+00, -8.94318581e-01],\n",
       "       [-3.31098151e+00,  6.69811487e-01, -1.34593284e+00,\n",
       "        -3.02185923e-01,  4.53586197e+00, -9.11908984e-01],\n",
       "       [-4.05761433e+00, -1.82160664e+00,  1.45489946e-02,\n",
       "         3.92210364e+00,  4.50752401e+00, -3.21133709e+00],\n",
       "       [-4.06210089e+00, -1.81706738e+00,  5.75137883e-03,\n",
       "         3.95033193e+00,  4.49115658e+00, -3.19892311e+00],\n",
       "       [-2.96230459e+00, -3.11825693e-01,  3.98418808e+00,\n",
       "         4.09961128e+00, -5.47400177e-01, -4.35859108e+00],\n",
       "       [-2.73923755e+00, -2.00747609e-01,  4.12661839e+00,\n",
       "         3.97213984e+00, -9.58354533e-01, -4.23622465e+00],\n",
       "       [-3.00619268e+00,  3.39958358e+00,  3.37673831e+00,\n",
       "         2.89146274e-01, -1.04579306e+00, -3.13573194e+00],\n",
       "       [-3.59548569e+00,  5.40973520e+00,  8.80923569e-01,\n",
       "        -2.44118690e+00, -9.68238771e-01,  9.24884677e-01],\n",
       "       [-3.82834029e+00,  5.34966993e+00,  9.14998353e-01,\n",
       "        -2.25681758e+00, -7.53052890e-01,  7.54856586e-01],\n",
       "       [-2.77923322e+00,  8.84390652e-01, -1.37572253e+00,\n",
       "        -8.10999155e-01,  4.08152342e+00, -6.16121888e-01],\n",
       "       [-2.66357827e+00,  8.67659628e-01, -1.44688702e+00,\n",
       "        -8.85750830e-01,  4.06007862e+00, -5.54007888e-01],\n",
       "       [ 3.67108989e+00,  4.04193461e-01, -1.69992697e+00,\n",
       "        -2.47447991e+00, -2.89043546e+00,  3.68484831e+00],\n",
       "       [ 3.41823578e+00,  2.46261775e-01, -1.92688644e+00,\n",
       "        -2.22984624e+00, -2.34486437e+00,  3.48535299e+00],\n",
       "       [-3.16330886e+00,  6.62439406e-01, -1.37055409e+00,\n",
       "        -4.29256111e-01,  4.46815872e+00, -8.37331533e-01],\n",
       "       [-4.08498955e+00, -1.75276089e+00, -9.94320735e-02,\n",
       "         3.83574533e+00,  4.57860136e+00, -3.13942981e+00],\n",
       "       [-4.09112930e+00, -1.75447750e+00, -8.99158046e-02,\n",
       "         3.85343981e+00,  4.57946396e+00, -3.15111971e+00],\n",
       "       [-3.24335408e+00, -3.24358702e-01,  3.84237123e+00,\n",
       "         4.13918018e+00, -1.16377503e-01, -4.45109224e+00],\n",
       "       [-3.00901151e+00, -2.41551042e-01,  4.03456974e+00,\n",
       "         4.06081867e+00, -5.82574010e-01, -4.34365606e+00],\n",
       "       [-3.13557076e+00,  3.22739720e+00,  3.31024265e+00,\n",
       "         4.81445849e-01, -7.48493552e-01, -3.29822254e+00],\n",
       "       [-3.11156726e+00,  3.39029813e+00,  3.36643529e+00,\n",
       "         3.27951670e-01, -9.45621192e-01, -3.15910673e+00]])"
      ]
     },
     "execution_count": 233,
     "metadata": {},
     "output_type": "execute_result"
    }
   ],
   "source": [
    "M"
   ]
  },
  {
   "cell_type": "code",
   "execution_count": 25,
   "id": "aa3665be",
   "metadata": {},
   "outputs": [
    {
     "data": {
      "text/plain": [
       "tensor([ 3849,    12,   300,  6302,  3989,  1930, 10559,   451,     4,     7,\n",
       "            2,  1511, 10115,   942,  2439,   572,     1,    47,    30,  1990,\n",
       "         3869,   315,    19,    29,   939,     2,    10,  2139,  4916, 16615,\n",
       "          235,     3,    13,     7,    24,    17, 13737,    97,  7720,     4,\n",
       "          881,    67,   807,  5402,     6,    38, 28188,    25,     2,    77,\n",
       "            7,  2394,    17,   516,    14, 16403,  3714,  4618,    12,  1108,\n",
       "            9,   196,  6041,   190,   218, 11776,    17,     1,  1200,     2,\n",
       "            0,    10,   591,    40,  6004,     2,    50,     3,  3131,  3781,\n",
       "        20000,    21,  6406,    14,     3,    10,     8,   114,    24,  2294,\n",
       "         1684,  7156,  1681,   191,   928,  5879,    51,     9,  1147,     5])"
      ]
     },
     "execution_count": 25,
     "metadata": {},
     "output_type": "execute_result"
    }
   ],
   "source": [
    "targets"
   ]
  },
  {
   "cell_type": "code",
   "execution_count": 1,
   "id": "d4645add",
   "metadata": {},
   "outputs": [
    {
     "ename": "NameError",
     "evalue": "name 'get_batch' is not defined",
     "output_type": "error",
     "traceback": [
      "\u001b[0;31m---------------------------------------------------------------------------\u001b[0m",
      "\u001b[0;31mNameError\u001b[0m                                 Traceback (most recent call last)",
      "Input \u001b[0;32mIn [1]\u001b[0m, in \u001b[0;36m<cell line: 2>\u001b[0;34m()\u001b[0m\n\u001b[1;32m      1\u001b[0m bptt\u001b[38;5;241m=\u001b[39m\u001b[38;5;241m5\u001b[39m\n\u001b[0;32m----> 2\u001b[0m data, targets \u001b[38;5;241m=\u001b[39m \u001b[43mget_batch\u001b[49m(train_data, \u001b[38;5;241m1\u001b[39m)\n\u001b[1;32m      3\u001b[0m \u001b[38;5;28mprint\u001b[39m(data\u001b[38;5;241m.\u001b[39mshape,targets\u001b[38;5;241m.\u001b[39mshape)\n",
      "\u001b[0;31mNameError\u001b[0m: name 'get_batch' is not defined"
     ]
    }
   ],
   "source": [
    "bptt=5\n",
    "data, targets = get_batch(train_data, 1)\n",
    "print(data.shape,targets.shape)"
   ]
  },
  {
   "cell_type": "code",
   "execution_count": 50,
   "id": "b00c2ff7",
   "metadata": {},
   "outputs": [
    {
     "data": {
      "text/plain": [
       "2"
      ]
     },
     "execution_count": 50,
     "metadata": {},
     "output_type": "execute_result"
    }
   ],
   "source": [
    "12%5"
   ]
  },
  {
   "cell_type": "code",
   "execution_count": 25,
   "id": "ccd703f1",
   "metadata": {},
   "outputs": [
    {
     "data": {
      "text/plain": [
       "tensor([[[-1.5466, -0.8360, -0.6768, -0.5004, -0.4938,  3.2323]],\n",
       "\n",
       "        [[-1.3803, -0.7228, -0.5060, -0.7009, -0.5490,  2.9875]],\n",
       "\n",
       "        [[-1.4833, -0.8431, -0.5844, -0.6821, -0.2417,  2.9131]],\n",
       "\n",
       "        [[-1.1066, -1.0999, -1.0482, -0.5969,  0.3707,  2.6071]],\n",
       "\n",
       "        [[-1.4882, -1.4286, -1.0977, -0.2929,  0.5141,  2.9791]],\n",
       "\n",
       "        [[-2.3027, -1.7583, -0.5509,  0.1020,  0.2049,  3.5118]],\n",
       "\n",
       "        [[-2.4871, -1.5904, -0.1678, -0.0159, -0.1174,  3.5959]],\n",
       "\n",
       "        [[-2.0026, -1.1550, -0.2251, -0.4764, -0.1607,  3.2757]],\n",
       "\n",
       "        [[-2.6860, -1.3325, -0.5237,  0.0619,  0.1812,  3.1792]],\n",
       "\n",
       "        [[-2.8779, -1.3933, -0.7564,  0.1797,  0.5048,  3.2523]],\n",
       "\n",
       "        [[-3.0802, -1.3507, -0.0817, -0.0389,  0.0718,  3.6286]],\n",
       "\n",
       "        [[-3.3767, -1.5165, -0.1724,  0.1201,  0.1192,  3.9511]],\n",
       "\n",
       "        [[-3.2704, -0.9247,  0.0438, -0.2262, -0.0614,  3.9351]],\n",
       "\n",
       "        [[-2.8094, -0.5650,  0.2289, -0.6448, -0.3370,  3.6598]],\n",
       "\n",
       "        [[-2.4509, -0.7559, -0.2386, -0.6735, -0.1818,  3.6387]],\n",
       "\n",
       "        [[-1.5143, -0.8088, -0.8702, -0.8384,  0.4454,  2.9285]],\n",
       "\n",
       "        [[-1.6872, -1.1389, -1.1786, -0.5803,  0.7682,  3.1147]],\n",
       "\n",
       "        [[-2.8037, -1.7834, -1.5521,  0.4552,  1.0970,  3.4128]],\n",
       "\n",
       "        [[-2.9313, -1.9065, -1.3912,  0.4830,  0.8769,  3.6449]],\n",
       "\n",
       "        [[-2.6030, -1.5815, -0.1842, -0.2810, -0.1759,  3.7116]],\n",
       "\n",
       "        [[-2.3356, -1.2632,  0.0223, -0.5167, -0.2997,  3.3003]],\n",
       "\n",
       "        [[-2.6832, -1.0545,  0.0540, -0.7710,  0.0204,  3.5611]],\n",
       "\n",
       "        [[-2.4477, -1.6742, -0.9313, -0.4106,  0.7373,  3.6722]],\n",
       "\n",
       "        [[-3.1393, -2.0906, -1.0895, -0.0427,  0.9384,  4.3169]],\n",
       "\n",
       "        [[-3.6812, -2.1883, -1.1816,  0.6664,  0.9070,  4.0966]],\n",
       "\n",
       "        [[-3.6008, -1.9308, -0.9644,  0.5169,  0.6070,  3.9959]],\n",
       "\n",
       "        [[-3.1800, -1.3173,  0.0390, -0.2207, -0.2453,  3.7392]],\n",
       "\n",
       "        [[-2.9568, -1.1168, -0.0970, -0.3950, -0.1171,  3.4776]],\n",
       "\n",
       "        [[-3.1323, -0.8869, -0.4452, -0.4971,  0.4183,  3.5945]],\n",
       "\n",
       "        [[-3.3675, -1.5277, -1.0552, -0.0315,  0.6462,  4.1880]],\n",
       "\n",
       "        [[-3.3513, -1.5717, -1.0439,  0.0646,  0.5081,  4.2555]],\n",
       "\n",
       "        [[-2.1380, -1.2301, -1.1430, -0.2466,  0.4770,  3.3263]],\n",
       "\n",
       "        [[-1.6340, -0.9206, -0.9350, -0.5381,  0.2066,  2.8461]],\n",
       "\n",
       "        [[-1.6369, -1.0446, -0.7542, -0.6655,  0.0982,  2.8340]],\n",
       "\n",
       "        [[-1.8252, -1.2994, -0.9769, -0.4893,  0.4700,  2.8837]],\n",
       "\n",
       "        [[-1.9433, -1.3952, -1.3508, -0.2472,  0.8199,  2.9092]],\n",
       "\n",
       "        [[-2.6934, -1.7377, -1.3785,  0.6219,  0.8689,  2.9176]],\n",
       "\n",
       "        [[-2.7611, -1.6383, -1.0755,  0.6008,  0.5390,  2.9788]],\n",
       "\n",
       "        [[-2.4373, -1.0169,  0.2393, -0.0388, -0.5780,  2.7540]],\n",
       "\n",
       "        [[-2.3576, -0.6800,  0.4234, -0.2480, -0.6747,  2.5019]],\n",
       "\n",
       "        [[-3.0731, -0.3422,  0.4251, -0.4846, -0.2986,  2.8926]],\n",
       "\n",
       "        [[-3.5245, -0.6399,  0.0560, -0.1586,  0.2034,  3.2097]]],\n",
       "       grad_fn=<ViewBackward0>)"
      ]
     },
     "execution_count": 25,
     "metadata": {},
     "output_type": "execute_result"
    }
   ],
   "source": [
    "output"
   ]
  },
  {
   "cell_type": "code",
   "execution_count": 27,
   "id": "68f8e51b",
   "metadata": {},
   "outputs": [
    {
     "data": {
      "text/plain": [
       "[[1],\n",
       " [1],\n",
       " [1],\n",
       " [5],\n",
       " [5],\n",
       " [0],\n",
       " [0],\n",
       " [5],\n",
       " [4],\n",
       " [4],\n",
       " [3],\n",
       " [3],\n",
       " [2],\n",
       " [2],\n",
       " [1],\n",
       " [5],\n",
       " [5],\n",
       " [4],\n",
       " [4],\n",
       " [3],\n",
       " [3],\n",
       " [2],\n",
       " [5],\n",
       " [5],\n",
       " [4],\n",
       " [4],\n",
       " [3],\n",
       " [3],\n",
       " [2],\n",
       " [1],\n",
       " [1],\n",
       " [5],\n",
       " [5],\n",
       " [0],\n",
       " [0],\n",
       " [5],\n",
       " [4],\n",
       " [4],\n",
       " [3],\n",
       " [3],\n",
       " [2],\n",
       " [2]]"
      ]
     },
     "execution_count": 27,
     "metadata": {},
     "output_type": "execute_result"
    }
   ],
   "source": [
    "data"
   ]
  },
  {
   "cell_type": "code",
   "execution_count": 29,
   "id": "7bf45f2d",
   "metadata": {},
   "outputs": [
    {
     "data": {
      "text/plain": [
       "torch.Size([42, 42])"
      ]
     },
     "execution_count": 29,
     "metadata": {},
     "output_type": "execute_result"
    }
   ],
   "source": [
    "src_mask.shape"
   ]
  },
  {
   "cell_type": "code",
   "execution_count": 32,
   "id": "0fe58bcc",
   "metadata": {},
   "outputs": [
    {
     "data": {
      "text/plain": [
       "array([0.        , 0.        , 0.05600245, 0.        , 0.20343632,\n",
       "       3.209741  ], dtype=float32)"
      ]
     },
     "execution_count": 32,
     "metadata": {},
     "output_type": "execute_result"
    }
   ],
   "source": [
    "O"
   ]
  },
  {
   "cell_type": "code",
   "execution_count": null,
   "id": "090a12cf",
   "metadata": {},
   "outputs": [],
   "source": []
  }
 ],
 "metadata": {
  "kernelspec": {
   "display_name": "Python 3 (ipykernel)",
   "language": "python",
   "name": "python3"
  },
  "language_info": {
   "codemirror_mode": {
    "name": "ipython",
    "version": 3
   },
   "file_extension": ".py",
   "mimetype": "text/x-python",
   "name": "python",
   "nbconvert_exporter": "python",
   "pygments_lexer": "ipython3",
   "version": "3.11.6"
  }
 },
 "nbformat": 4,
 "nbformat_minor": 5
}
