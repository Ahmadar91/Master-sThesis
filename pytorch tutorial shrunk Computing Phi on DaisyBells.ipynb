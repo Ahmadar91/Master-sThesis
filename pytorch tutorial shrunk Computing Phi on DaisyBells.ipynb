{
 "cells": [
  {
   "cell_type": "code",
   "execution_count": 1,
   "id": "23f0f018",
   "metadata": {},
   "outputs": [
    {
     "name": "stdout",
     "output_type": "stream",
     "text": [
      "%pylab is deprecated, use %matplotlib inline and import the required libraries.\n",
      "Populating the interactive namespace from numpy and matplotlib\n"
     ]
    }
   ],
   "source": [
    "%pylab inline"
   ]
  },
  {
   "cell_type": "code",
   "execution_count": 2,
   "id": "3b94190b",
   "metadata": {},
   "outputs": [],
   "source": [
    "import math\n",
    "import os\n",
    "import copy\n",
    "import time\n",
    "\n",
    "from tempfile import TemporaryDirectory\n",
    "from typing import Tuple\n",
    "\n",
    "import torch\n",
    "from torch import nn, Tensor\n",
    "import torch.nn.functional as F\n",
    "from torch.nn import TransformerEncoder, TransformerEncoderLayer\n",
    "from torch.utils.data import dataset\n",
    "\n",
    "from torchtext.datasets import WikiText2\n",
    "from torchtext.data.utils import get_tokenizer\n",
    "from torchtext.vocab import build_vocab_from_iterator\n",
    "\n",
    "from sklearn.cluster import KMeans"
   ]
  },
  {
   "cell_type": "code",
   "execution_count": 4,
   "id": "d8cb628f",
   "metadata": {},
   "outputs": [
    {
     "name": "stdout",
     "output_type": "stream",
     "text": [
      "['A', 'C', 'D', 'E', 'F', 'G']\n",
      "[[0], [1], [2], [3], [4], [5]]\n",
      "[[1], [1], [5], [5], [0], [0], [5], [4], [4], [3], [3], [2], [2], [1], [5], [5], [4], [4], [3], [3], [2], [5], [5], [4], [4], [3], [3], [2], [1], [1], [5], [5], [0], [0], [5], [4], [4], [3], [3], [2], [2], [1]]\n",
      "42\n"
     ]
    }
   ],
   "source": [
    "songString = \"CCGGAAGFFEEDDCGGFFEEDGGFFEEDCCGGAAGFFEEDDC\"\n",
    "notes=list(unique(list(songString)))\n",
    "print(notes)\n",
    "chord=[[0],\n",
    "       [1],\n",
    "       [2],\n",
    "       [3],\n",
    "       [4],\n",
    "       [5]]\n",
    "print(chord)\n",
    "DaisyBell=list()\n",
    "DaisyBellMatrix=[]\n",
    "for note in list(songString):\n",
    "    row=[0]*6\n",
    "    row[notes.index(note)]=1\n",
    "    DaisyBellMatrix.append(row)\n",
    "    DaisyBell.append(chord[notes.index(note)])\n",
    "print(DaisyBell)\n",
    "print(len(DaisyBell))\n",
    "DaisyBellMatrix=numpy.array(DaisyBellMatrix)"
   ]
  },
  {
   "cell_type": "code",
   "execution_count": 5,
   "id": "d3b05238",
   "metadata": {},
   "outputs": [
    {
     "name": "stdout",
     "output_type": "stream",
     "text": [
      "[[0], [0], [1], [1], [5], [5], [5], [4], [4], [4], [4], [2], [2], [5], [1], [1], [4], [4], [2], [2], [2], [0], [0], [4], [4], [1], [1], [2], [1], [1], [5], [5], [5], [5], [5], [4], [4], [3], [3], [2], [2], [1]]\n"
     ]
    }
   ],
   "source": [
    "HotDogsongString = \"AACCGGGFFFFDDGCCFFDDDAAFFCCDCCGGGGGFFEEDDC\"\n",
    "notes=list(unique(list(songString)))\n",
    "chord=[[0],\n",
    "       [1],\n",
    "       [2],\n",
    "       [3],\n",
    "       [4],\n",
    "       [5]]\n",
    "HotDog=list()\n",
    "HotDogMatrix=[]\n",
    "for note in list(HotDogsongString):\n",
    "    row=[0]*6\n",
    "    row[notes.index(note)]=1\n",
    "    HotDogMatrix.append(row)\n",
    "    HotDog.append(chord[notes.index(note)])\n",
    "print(HotDog)\n",
    "HotDogMatrix=numpy.array(HotDogMatrix)"
   ]
  },
  {
   "cell_type": "code",
   "execution_count": 7,
   "id": "f34b4f99",
   "metadata": {},
   "outputs": [
    {
     "data": {
      "text/plain": [
       "[[0],\n",
       " [0],\n",
       " [1],\n",
       " [1],\n",
       " [5],\n",
       " [5],\n",
       " [5],\n",
       " [4],\n",
       " [4],\n",
       " [4],\n",
       " [4],\n",
       " [2],\n",
       " [2],\n",
       " [5],\n",
       " [1],\n",
       " [1],\n",
       " [4],\n",
       " [4],\n",
       " [2],\n",
       " [2],\n",
       " [2],\n",
       " [0],\n",
       " [0],\n",
       " [4],\n",
       " [4],\n",
       " [1],\n",
       " [1],\n",
       " [2],\n",
       " [1],\n",
       " [1],\n",
       " [5],\n",
       " [5],\n",
       " [5],\n",
       " [5],\n",
       " [5],\n",
       " [4],\n",
       " [4],\n",
       " [3],\n",
       " [3],\n",
       " [2],\n",
       " [2],\n",
       " [1]]"
      ]
     },
     "execution_count": 7,
     "metadata": {},
     "output_type": "execute_result"
    }
   ],
   "source": [
    "HotDog#DaisyBell"
   ]
  },
  {
   "cell_type": "code",
   "execution_count": 49,
   "id": "105c1fc7",
   "metadata": {},
   "outputs": [
    {
     "name": "stdout",
     "output_type": "stream",
     "text": [
      "input [[1], [1], [5], [5], [0], [0], [5], [4], [4], [3], [3], [2], [2], [1], [5], [5], [4], [4], [3], [3], [2], [5], [5], [4], [4], [3], [3], [2], [1], [1], [5], [5], [0], [0], [5], [4], [4], [3], [3], [2], [2], [1]]\n",
      "output [1, 5, 5, 0, 0, 5, 4, 4, 3, 3, 2, 2, 1, 5, 5, 4, 4, 3, 3, 2, 5, 5, 4, 4, 3, 3, 2, 1, 1, 5, 5, 0, 0, 5, 4, 4, 3, 3, 2, 2, 1, 1]\n",
      "\n",
      "\n",
      "input [[1], [5], [5], [0], [0], [5], [4], [4], [3], [3], [2], [2], [1], [5], [5], [4], [4], [3], [3], [2], [5], [5], [4], [4], [3], [3], [2], [1], [1], [5], [5], [0], [0], [5], [4], [4], [3], [3], [2], [2], [1], [1]]\n",
      "output [5, 5, 0, 0, 5, 4, 4, 3, 3, 2, 2, 1, 5, 5, 4, 4, 3, 3, 2, 5, 5, 4, 4, 3, 3, 2, 1, 1, 5, 5, 0, 0, 5, 4, 4, 3, 3, 2, 2, 1, 1, 1]\n",
      "\n",
      "\n",
      "input [[5], [5], [0], [0], [5], [4], [4], [3], [3], [2], [2], [1], [5], [5], [4], [4], [3], [3], [2], [5], [5], [4], [4], [3], [3], [2], [1], [1], [5], [5], [0], [0], [5], [4], [4], [3], [3], [2], [2], [1], [1], [1]]\n",
      "output [5, 0, 0, 5, 4, 4, 3, 3, 2, 2, 1, 5, 5, 4, 4, 3, 3, 2, 5, 5, 4, 4, 3, 3, 2, 1, 1, 5, 5, 0, 0, 5, 4, 4, 3, 3, 2, 2, 1, 1, 1, 5]\n",
      "\n",
      "\n",
      "input [[5], [0], [0], [5], [4], [4], [3], [3], [2], [2], [1], [5], [5], [4], [4], [3], [3], [2], [5], [5], [4], [4], [3], [3], [2], [1], [1], [5], [5], [0], [0], [5], [4], [4], [3], [3], [2], [2], [1], [1], [1], [5]]\n",
      "output [0, 0, 5, 4, 4, 3, 3, 2, 2, 1, 5, 5, 4, 4, 3, 3, 2, 5, 5, 4, 4, 3, 3, 2, 1, 1, 5, 5, 0, 0, 5, 4, 4, 3, 3, 2, 2, 1, 1, 1, 5, 5]\n",
      "\n",
      "\n",
      "input [[0], [0], [5], [4], [4], [3], [3], [2], [2], [1], [5], [5], [4], [4], [3], [3], [2], [5], [5], [4], [4], [3], [3], [2], [1], [1], [5], [5], [0], [0], [5], [4], [4], [3], [3], [2], [2], [1], [1], [1], [5], [5]]\n",
      "output [0, 5, 4, 4, 3, 3, 2, 2, 1, 5, 5, 4, 4, 3, 3, 2, 5, 5, 4, 4, 3, 3, 2, 1, 1, 5, 5, 0, 0, 5, 4, 4, 3, 3, 2, 2, 1, 1, 1, 5, 5, 0]\n",
      "\n",
      "\n",
      "input [[0], [5], [4], [4], [3], [3], [2], [2], [1], [5], [5], [4], [4], [3], [3], [2], [5], [5], [4], [4], [3], [3], [2], [1], [1], [5], [5], [0], [0], [5], [4], [4], [3], [3], [2], [2], [1], [1], [1], [5], [5], [0]]\n",
      "output [5, 4, 4, 3, 3, 2, 2, 1, 5, 5, 4, 4, 3, 3, 2, 5, 5, 4, 4, 3, 3, 2, 1, 1, 5, 5, 0, 0, 5, 4, 4, 3, 3, 2, 2, 1, 1, 1, 5, 5, 0, 0]\n",
      "\n",
      "\n",
      "input [[5], [4], [4], [3], [3], [2], [2], [1], [5], [5], [4], [4], [3], [3], [2], [5], [5], [4], [4], [3], [3], [2], [1], [1], [5], [5], [0], [0], [5], [4], [4], [3], [3], [2], [2], [1], [1], [1], [5], [5], [0], [0]]\n",
      "output [4, 4, 3, 3, 2, 2, 1, 5, 5, 4, 4, 3, 3, 2, 5, 5, 4, 4, 3, 3, 2, 1, 1, 5, 5, 0, 0, 5, 4, 4, 3, 3, 2, 2, 1, 1, 1, 5, 5, 0, 0, 5]\n",
      "\n",
      "\n",
      "input [[4], [4], [3], [3], [2], [2], [1], [5], [5], [4], [4], [3], [3], [2], [5], [5], [4], [4], [3], [3], [2], [1], [1], [5], [5], [0], [0], [5], [4], [4], [3], [3], [2], [2], [1], [1], [1], [5], [5], [0], [0], [5]]\n",
      "output [4, 3, 3, 2, 2, 1, 5, 5, 4, 4, 3, 3, 2, 5, 5, 4, 4, 3, 3, 2, 1, 1, 5, 5, 0, 0, 5, 4, 4, 3, 3, 2, 2, 1, 1, 1, 5, 5, 0, 0, 5, 4]\n",
      "\n",
      "\n",
      "input [[4], [3], [3], [2], [2], [1], [5], [5], [4], [4], [3], [3], [2], [5], [5], [4], [4], [3], [3], [2], [1], [1], [5], [5], [0], [0], [5], [4], [4], [3], [3], [2], [2], [1], [1], [1], [5], [5], [0], [0], [5], [4]]\n",
      "output [3, 3, 2, 2, 1, 5, 5, 4, 4, 3, 3, 2, 5, 5, 4, 4, 3, 3, 2, 1, 1, 5, 5, 0, 0, 5, 4, 4, 3, 3, 2, 2, 1, 1, 1, 5, 5, 0, 0, 5, 4, 4]\n",
      "\n",
      "\n",
      "input [[3], [3], [2], [2], [1], [5], [5], [4], [4], [3], [3], [2], [5], [5], [4], [4], [3], [3], [2], [1], [1], [5], [5], [0], [0], [5], [4], [4], [3], [3], [2], [2], [1], [1], [1], [5], [5], [0], [0], [5], [4], [4]]\n",
      "output [3, 2, 2, 1, 5, 5, 4, 4, 3, 3, 2, 5, 5, 4, 4, 3, 3, 2, 1, 1, 5, 5, 0, 0, 5, 4, 4, 3, 3, 2, 2, 1, 1, 1, 5, 5, 0, 0, 5, 4, 4, 3]\n",
      "\n",
      "\n",
      "input [[3], [2], [2], [1], [5], [5], [4], [4], [3], [3], [2], [5], [5], [4], [4], [3], [3], [2], [1], [1], [5], [5], [0], [0], [5], [4], [4], [3], [3], [2], [2], [1], [1], [1], [5], [5], [0], [0], [5], [4], [4], [3]]\n",
      "output [2, 2, 1, 5, 5, 4, 4, 3, 3, 2, 5, 5, 4, 4, 3, 3, 2, 1, 1, 5, 5, 0, 0, 5, 4, 4, 3, 3, 2, 2, 1, 1, 1, 5, 5, 0, 0, 5, 4, 4, 3, 3]\n",
      "\n",
      "\n",
      "input [[2], [2], [1], [5], [5], [4], [4], [3], [3], [2], [5], [5], [4], [4], [3], [3], [2], [1], [1], [5], [5], [0], [0], [5], [4], [4], [3], [3], [2], [2], [1], [1], [1], [5], [5], [0], [0], [5], [4], [4], [3], [3]]\n",
      "output [2, 1, 5, 5, 4, 4, 3, 3, 2, 5, 5, 4, 4, 3, 3, 2, 1, 1, 5, 5, 0, 0, 5, 4, 4, 3, 3, 2, 2, 1, 1, 1, 5, 5, 0, 0, 5, 4, 4, 3, 3, 2]\n",
      "\n",
      "\n",
      "input [[2], [1], [5], [5], [4], [4], [3], [3], [2], [5], [5], [4], [4], [3], [3], [2], [1], [1], [5], [5], [0], [0], [5], [4], [4], [3], [3], [2], [2], [1], [1], [1], [5], [5], [0], [0], [5], [4], [4], [3], [3], [2]]\n",
      "output [1, 5, 5, 4, 4, 3, 3, 2, 5, 5, 4, 4, 3, 3, 2, 1, 1, 5, 5, 0, 0, 5, 4, 4, 3, 3, 2, 2, 1, 1, 1, 5, 5, 0, 0, 5, 4, 4, 3, 3, 2, 2]\n",
      "\n",
      "\n",
      "input [[1], [5], [5], [4], [4], [3], [3], [2], [5], [5], [4], [4], [3], [3], [2], [1], [1], [5], [5], [0], [0], [5], [4], [4], [3], [3], [2], [2], [1], [1], [1], [5], [5], [0], [0], [5], [4], [4], [3], [3], [2], [2]]\n",
      "output [5, 5, 4, 4, 3, 3, 2, 5, 5, 4, 4, 3, 3, 2, 1, 1, 5, 5, 0, 0, 5, 4, 4, 3, 3, 2, 2, 1, 1, 1, 5, 5, 0, 0, 5, 4, 4, 3, 3, 2, 2, 1]\n",
      "\n",
      "\n",
      "input [[5], [5], [4], [4], [3], [3], [2], [5], [5], [4], [4], [3], [3], [2], [1], [1], [5], [5], [0], [0], [5], [4], [4], [3], [3], [2], [2], [1], [1], [1], [5], [5], [0], [0], [5], [4], [4], [3], [3], [2], [2], [1]]\n",
      "output [5, 4, 4, 3, 3, 2, 5, 5, 4, 4, 3, 3, 2, 1, 1, 5, 5, 0, 0, 5, 4, 4, 3, 3, 2, 2, 1, 1, 1, 5, 5, 0, 0, 5, 4, 4, 3, 3, 2, 2, 1, 5]\n",
      "\n",
      "\n",
      "input [[5], [4], [4], [3], [3], [2], [5], [5], [4], [4], [3], [3], [2], [1], [1], [5], [5], [0], [0], [5], [4], [4], [3], [3], [2], [2], [1], [1], [1], [5], [5], [0], [0], [5], [4], [4], [3], [3], [2], [2], [1], [5]]\n",
      "output [4, 4, 3, 3, 2, 5, 5, 4, 4, 3, 3, 2, 1, 1, 5, 5, 0, 0, 5, 4, 4, 3, 3, 2, 2, 1, 1, 1, 5, 5, 0, 0, 5, 4, 4, 3, 3, 2, 2, 1, 5, 5]\n",
      "\n",
      "\n",
      "input [[4], [4], [3], [3], [2], [5], [5], [4], [4], [3], [3], [2], [1], [1], [5], [5], [0], [0], [5], [4], [4], [3], [3], [2], [2], [1], [1], [1], [5], [5], [0], [0], [5], [4], [4], [3], [3], [2], [2], [1], [5], [5]]\n",
      "output [4, 3, 3, 2, 5, 5, 4, 4, 3, 3, 2, 1, 1, 5, 5, 0, 0, 5, 4, 4, 3, 3, 2, 2, 1, 1, 1, 5, 5, 0, 0, 5, 4, 4, 3, 3, 2, 2, 1, 5, 5, 4]\n",
      "\n",
      "\n",
      "input [[4], [3], [3], [2], [5], [5], [4], [4], [3], [3], [2], [1], [1], [5], [5], [0], [0], [5], [4], [4], [3], [3], [2], [2], [1], [1], [1], [5], [5], [0], [0], [5], [4], [4], [3], [3], [2], [2], [1], [5], [5], [4]]\n",
      "output [3, 3, 2, 5, 5, 4, 4, 3, 3, 2, 1, 1, 5, 5, 0, 0, 5, 4, 4, 3, 3, 2, 2, 1, 1, 1, 5, 5, 0, 0, 5, 4, 4, 3, 3, 2, 2, 1, 5, 5, 4, 4]\n",
      "\n",
      "\n",
      "input [[3], [3], [2], [5], [5], [4], [4], [3], [3], [2], [1], [1], [5], [5], [0], [0], [5], [4], [4], [3], [3], [2], [2], [1], [1], [1], [5], [5], [0], [0], [5], [4], [4], [3], [3], [2], [2], [1], [5], [5], [4], [4]]\n",
      "output [3, 2, 5, 5, 4, 4, 3, 3, 2, 1, 1, 5, 5, 0, 0, 5, 4, 4, 3, 3, 2, 2, 1, 1, 1, 5, 5, 0, 0, 5, 4, 4, 3, 3, 2, 2, 1, 5, 5, 4, 4, 3]\n",
      "\n",
      "\n",
      "input [[3], [2], [5], [5], [4], [4], [3], [3], [2], [1], [1], [5], [5], [0], [0], [5], [4], [4], [3], [3], [2], [2], [1], [1], [1], [5], [5], [0], [0], [5], [4], [4], [3], [3], [2], [2], [1], [5], [5], [4], [4], [3]]\n",
      "output [2, 5, 5, 4, 4, 3, 3, 2, 1, 1, 5, 5, 0, 0, 5, 4, 4, 3, 3, 2, 2, 1, 1, 1, 5, 5, 0, 0, 5, 4, 4, 3, 3, 2, 2, 1, 5, 5, 4, 4, 3, 3]\n",
      "\n",
      "\n",
      "input [[2], [5], [5], [4], [4], [3], [3], [2], [1], [1], [5], [5], [0], [0], [5], [4], [4], [3], [3], [2], [2], [1], [1], [1], [5], [5], [0], [0], [5], [4], [4], [3], [3], [2], [2], [1], [5], [5], [4], [4], [3], [3]]\n",
      "output [5, 5, 4, 4, 3, 3, 2, 1, 1, 5, 5, 0, 0, 5, 4, 4, 3, 3, 2, 2, 1, 1, 1, 5, 5, 0, 0, 5, 4, 4, 3, 3, 2, 2, 1, 5, 5, 4, 4, 3, 3, 2]\n",
      "\n",
      "\n",
      "input [[5], [5], [4], [4], [3], [3], [2], [1], [1], [5], [5], [0], [0], [5], [4], [4], [3], [3], [2], [2], [1], [1], [1], [5], [5], [0], [0], [5], [4], [4], [3], [3], [2], [2], [1], [5], [5], [4], [4], [3], [3], [2]]\n",
      "output [5, 4, 4, 3, 3, 2, 1, 1, 5, 5, 0, 0, 5, 4, 4, 3, 3, 2, 2, 1, 1, 1, 5, 5, 0, 0, 5, 4, 4, 3, 3, 2, 2, 1, 5, 5, 4, 4, 3, 3, 2, 5]\n",
      "\n",
      "\n",
      "input [[5], [4], [4], [3], [3], [2], [1], [1], [5], [5], [0], [0], [5], [4], [4], [3], [3], [2], [2], [1], [1], [1], [5], [5], [0], [0], [5], [4], [4], [3], [3], [2], [2], [1], [5], [5], [4], [4], [3], [3], [2], [5]]\n",
      "output [4, 4, 3, 3, 2, 1, 1, 5, 5, 0, 0, 5, 4, 4, 3, 3, 2, 2, 1, 1, 1, 5, 5, 0, 0, 5, 4, 4, 3, 3, 2, 2, 1, 5, 5, 4, 4, 3, 3, 2, 5, 5]\n",
      "\n",
      "\n",
      "input [[4], [4], [3], [3], [2], [1], [1], [5], [5], [0], [0], [5], [4], [4], [3], [3], [2], [2], [1], [1], [1], [5], [5], [0], [0], [5], [4], [4], [3], [3], [2], [2], [1], [5], [5], [4], [4], [3], [3], [2], [5], [5]]\n",
      "output [4, 3, 3, 2, 1, 1, 5, 5, 0, 0, 5, 4, 4, 3, 3, 2, 2, 1, 1, 1, 5, 5, 0, 0, 5, 4, 4, 3, 3, 2, 2, 1, 5, 5, 4, 4, 3, 3, 2, 5, 5, 4]\n",
      "\n",
      "\n",
      "input [[4], [3], [3], [2], [1], [1], [5], [5], [0], [0], [5], [4], [4], [3], [3], [2], [2], [1], [1], [1], [5], [5], [0], [0], [5], [4], [4], [3], [3], [2], [2], [1], [5], [5], [4], [4], [3], [3], [2], [5], [5], [4]]\n",
      "output [3, 3, 2, 1, 1, 5, 5, 0, 0, 5, 4, 4, 3, 3, 2, 2, 1, 1, 1, 5, 5, 0, 0, 5, 4, 4, 3, 3, 2, 2, 1, 5, 5, 4, 4, 3, 3, 2, 5, 5, 4, 4]\n",
      "\n",
      "\n",
      "input [[3], [3], [2], [1], [1], [5], [5], [0], [0], [5], [4], [4], [3], [3], [2], [2], [1], [1], [1], [5], [5], [0], [0], [5], [4], [4], [3], [3], [2], [2], [1], [5], [5], [4], [4], [3], [3], [2], [5], [5], [4], [4]]\n",
      "output [3, 2, 1, 1, 5, 5, 0, 0, 5, 4, 4, 3, 3, 2, 2, 1, 1, 1, 5, 5, 0, 0, 5, 4, 4, 3, 3, 2, 2, 1, 5, 5, 4, 4, 3, 3, 2, 5, 5, 4, 4, 3]\n",
      "\n",
      "\n",
      "input [[3], [2], [1], [1], [5], [5], [0], [0], [5], [4], [4], [3], [3], [2], [2], [1], [1], [1], [5], [5], [0], [0], [5], [4], [4], [3], [3], [2], [2], [1], [5], [5], [4], [4], [3], [3], [2], [5], [5], [4], [4], [3]]\n",
      "output [2, 1, 1, 5, 5, 0, 0, 5, 4, 4, 3, 3, 2, 2, 1, 1, 1, 5, 5, 0, 0, 5, 4, 4, 3, 3, 2, 2, 1, 5, 5, 4, 4, 3, 3, 2, 5, 5, 4, 4, 3, 3]\n",
      "\n",
      "\n",
      "input [[2], [1], [1], [5], [5], [0], [0], [5], [4], [4], [3], [3], [2], [2], [1], [1], [1], [5], [5], [0], [0], [5], [4], [4], [3], [3], [2], [2], [1], [5], [5], [4], [4], [3], [3], [2], [5], [5], [4], [4], [3], [3]]\n",
      "output [1, 1, 5, 5, 0, 0, 5, 4, 4, 3, 3, 2, 2, 1, 1, 1, 5, 5, 0, 0, 5, 4, 4, 3, 3, 2, 2, 1, 5, 5, 4, 4, 3, 3, 2, 5, 5, 4, 4, 3, 3, 2]\n",
      "\n",
      "\n",
      "input [[1], [1], [5], [5], [0], [0], [5], [4], [4], [3], [3], [2], [2], [1], [1], [1], [5], [5], [0], [0], [5], [4], [4], [3], [3], [2], [2], [1], [5], [5], [4], [4], [3], [3], [2], [5], [5], [4], [4], [3], [3], [2]]\n",
      "output [1, 5, 5, 0, 0, 5, 4, 4, 3, 3, 2, 2, 1, 1, 1, 5, 5, 0, 0, 5, 4, 4, 3, 3, 2, 2, 1, 5, 5, 4, 4, 3, 3, 2, 5, 5, 4, 4, 3, 3, 2, 1]\n",
      "\n",
      "\n",
      "input [[1], [5], [5], [0], [0], [5], [4], [4], [3], [3], [2], [2], [1], [1], [1], [5], [5], [0], [0], [5], [4], [4], [3], [3], [2], [2], [1], [5], [5], [4], [4], [3], [3], [2], [5], [5], [4], [4], [3], [3], [2], [1]]\n",
      "output [5, 5, 0, 0, 5, 4, 4, 3, 3, 2, 2, 1, 1, 1, 5, 5, 0, 0, 5, 4, 4, 3, 3, 2, 2, 1, 5, 5, 4, 4, 3, 3, 2, 5, 5, 4, 4, 3, 3, 2, 1, 1]\n",
      "\n",
      "\n",
      "input [[5], [5], [0], [0], [5], [4], [4], [3], [3], [2], [2], [1], [1], [1], [5], [5], [0], [0], [5], [4], [4], [3], [3], [2], [2], [1], [5], [5], [4], [4], [3], [3], [2], [5], [5], [4], [4], [3], [3], [2], [1], [1]]\n",
      "output [5, 0, 0, 5, 4, 4, 3, 3, 2, 2, 1, 1, 1, 5, 5, 0, 0, 5, 4, 4, 3, 3, 2, 2, 1, 5, 5, 4, 4, 3, 3, 2, 5, 5, 4, 4, 3, 3, 2, 1, 1, 5]\n",
      "\n",
      "\n",
      "input [[5], [0], [0], [5], [4], [4], [3], [3], [2], [2], [1], [1], [1], [5], [5], [0], [0], [5], [4], [4], [3], [3], [2], [2], [1], [5], [5], [4], [4], [3], [3], [2], [5], [5], [4], [4], [3], [3], [2], [1], [1], [5]]\n",
      "output [0, 0, 5, 4, 4, 3, 3, 2, 2, 1, 1, 1, 5, 5, 0, 0, 5, 4, 4, 3, 3, 2, 2, 1, 5, 5, 4, 4, 3, 3, 2, 5, 5, 4, 4, 3, 3, 2, 1, 1, 5, 5]\n",
      "\n",
      "\n",
      "input [[0], [0], [5], [4], [4], [3], [3], [2], [2], [1], [1], [1], [5], [5], [0], [0], [5], [4], [4], [3], [3], [2], [2], [1], [5], [5], [4], [4], [3], [3], [2], [5], [5], [4], [4], [3], [3], [2], [1], [1], [5], [5]]\n",
      "output [0, 5, 4, 4, 3, 3, 2, 2, 1, 1, 1, 5, 5, 0, 0, 5, 4, 4, 3, 3, 2, 2, 1, 5, 5, 4, 4, 3, 3, 2, 5, 5, 4, 4, 3, 3, 2, 1, 1, 5, 5, 0]\n",
      "\n",
      "\n",
      "input [[0], [5], [4], [4], [3], [3], [2], [2], [1], [1], [1], [5], [5], [0], [0], [5], [4], [4], [3], [3], [2], [2], [1], [5], [5], [4], [4], [3], [3], [2], [5], [5], [4], [4], [3], [3], [2], [1], [1], [5], [5], [0]]\n",
      "output [5, 4, 4, 3, 3, 2, 2, 1, 1, 1, 5, 5, 0, 0, 5, 4, 4, 3, 3, 2, 2, 1, 5, 5, 4, 4, 3, 3, 2, 5, 5, 4, 4, 3, 3, 2, 1, 1, 5, 5, 0, 0]\n",
      "\n",
      "\n",
      "input [[5], [4], [4], [3], [3], [2], [2], [1], [1], [1], [5], [5], [0], [0], [5], [4], [4], [3], [3], [2], [2], [1], [5], [5], [4], [4], [3], [3], [2], [5], [5], [4], [4], [3], [3], [2], [1], [1], [5], [5], [0], [0]]\n",
      "output [4, 4, 3, 3, 2, 2, 1, 1, 1, 5, 5, 0, 0, 5, 4, 4, 3, 3, 2, 2, 1, 5, 5, 4, 4, 3, 3, 2, 5, 5, 4, 4, 3, 3, 2, 1, 1, 5, 5, 0, 0, 5]\n",
      "\n",
      "\n",
      "input [[4], [4], [3], [3], [2], [2], [1], [1], [1], [5], [5], [0], [0], [5], [4], [4], [3], [3], [2], [2], [1], [5], [5], [4], [4], [3], [3], [2], [5], [5], [4], [4], [3], [3], [2], [1], [1], [5], [5], [0], [0], [5]]\n",
      "output [4, 3, 3, 2, 2, 1, 1, 1, 5, 5, 0, 0, 5, 4, 4, 3, 3, 2, 2, 1, 5, 5, 4, 4, 3, 3, 2, 5, 5, 4, 4, 3, 3, 2, 1, 1, 5, 5, 0, 0, 5, 4]\n",
      "\n",
      "\n",
      "input [[4], [3], [3], [2], [2], [1], [1], [1], [5], [5], [0], [0], [5], [4], [4], [3], [3], [2], [2], [1], [5], [5], [4], [4], [3], [3], [2], [5], [5], [4], [4], [3], [3], [2], [1], [1], [5], [5], [0], [0], [5], [4]]\n",
      "output [3, 3, 2, 2, 1, 1, 1, 5, 5, 0, 0, 5, 4, 4, 3, 3, 2, 2, 1, 5, 5, 4, 4, 3, 3, 2, 5, 5, 4, 4, 3, 3, 2, 1, 1, 5, 5, 0, 0, 5, 4, 4]\n",
      "\n",
      "\n",
      "input [[3], [3], [2], [2], [1], [1], [1], [5], [5], [0], [0], [5], [4], [4], [3], [3], [2], [2], [1], [5], [5], [4], [4], [3], [3], [2], [5], [5], [4], [4], [3], [3], [2], [1], [1], [5], [5], [0], [0], [5], [4], [4]]\n",
      "output [3, 2, 2, 1, 1, 1, 5, 5, 0, 0, 5, 4, 4, 3, 3, 2, 2, 1, 5, 5, 4, 4, 3, 3, 2, 5, 5, 4, 4, 3, 3, 2, 1, 1, 5, 5, 0, 0, 5, 4, 4, 3]\n",
      "\n",
      "\n",
      "input [[3], [2], [2], [1], [1], [1], [5], [5], [0], [0], [5], [4], [4], [3], [3], [2], [2], [1], [5], [5], [4], [4], [3], [3], [2], [5], [5], [4], [4], [3], [3], [2], [1], [1], [5], [5], [0], [0], [5], [4], [4], [3]]\n",
      "output [2, 2, 1, 1, 1, 5, 5, 0, 0, 5, 4, 4, 3, 3, 2, 2, 1, 5, 5, 4, 4, 3, 3, 2, 5, 5, 4, 4, 3, 3, 2, 1, 1, 5, 5, 0, 0, 5, 4, 4, 3, 3]\n",
      "\n",
      "\n",
      "input [[2], [2], [1], [1], [1], [5], [5], [0], [0], [5], [4], [4], [3], [3], [2], [2], [1], [5], [5], [4], [4], [3], [3], [2], [5], [5], [4], [4], [3], [3], [2], [1], [1], [5], [5], [0], [0], [5], [4], [4], [3], [3]]\n",
      "output [2, 1, 1, 1, 5, 5, 0, 0, 5, 4, 4, 3, 3, 2, 2, 1, 5, 5, 4, 4, 3, 3, 2, 5, 5, 4, 4, 3, 3, 2, 1, 1, 5, 5, 0, 0, 5, 4, 4, 3, 3, 2]\n",
      "\n",
      "\n",
      "input [[2], [1], [1], [1], [5], [5], [0], [0], [5], [4], [4], [3], [3], [2], [2], [1], [5], [5], [4], [4], [3], [3], [2], [5], [5], [4], [4], [3], [3], [2], [1], [1], [5], [5], [0], [0], [5], [4], [4], [3], [3], [2]]\n",
      "output [1, 1, 1, 5, 5, 0, 0, 5, 4, 4, 3, 3, 2, 2, 1, 5, 5, 4, 4, 3, 3, 2, 5, 5, 4, 4, 3, 3, 2, 1, 1, 5, 5, 0, 0, 5, 4, 4, 3, 3, 2, 2]\n",
      "\n",
      "\n",
      "input [[1], [1], [1], [5], [5], [0], [0], [5], [4], [4], [3], [3], [2], [2], [1], [5], [5], [4], [4], [3], [3], [2], [5], [5], [4], [4], [3], [3], [2], [1], [1], [5], [5], [0], [0], [5], [4], [4], [3], [3], [2], [2]]\n",
      "output [1, 1, 5, 5, 0, 0, 5, 4, 4, 3, 3, 2, 2, 1, 5, 5, 4, 4, 3, 3, 2, 5, 5, 4, 4, 3, 3, 2, 1, 1, 5, 5, 0, 0, 5, 4, 4, 3, 3, 2, 2, 1]\n",
      "\n",
      "\n"
     ]
    }
   ],
   "source": [
    "\n",
    "def get_batch(source, i):# -> Tuple[Tensor, Tensor]\n",
    "    \"\"\"\n",
    "    Args:\n",
    "        source: Tensor, shape [full_seq_len, batch_size]\n",
    "        i: int\n",
    "\n",
    "    Returns:\n",
    "        tuple (data, target), where data has shape [seq_len, batch_size] and\n",
    "        target has shape [seq_len * batch_size]\n",
    "    \"\"\"\n",
    "    data=[]\n",
    "    target=[]\n",
    "    for pos in range(i,i+bptt):\n",
    "        data.append(source[pos%len(source)])\n",
    "        target+=source[(pos+1)%len(source)]\n",
    "    return data, target\n",
    "\n",
    "bptt=42\n",
    "for i in range(42):\n",
    "    d,t=get_batch(DaisyBell,i)\n",
    "    #print(d[-1],t[:4])\n",
    "    print(f\"input {d}\")\n",
    "    print(f\"output {t}\")\n",
    "    print(\"\\n\")\n",
    "  "
   ]
  },
  {
   "cell_type": "code",
   "execution_count": 7,
   "id": "edd06c98",
   "metadata": {},
   "outputs": [],
   "source": [
    "class TransformerModel(nn.Module):\n",
    "\n",
    "    def __init__(self, ntoken: int, d_model: int, nhead: int, d_hid: int,\n",
    "                 nlayers: int, dropout: float = 0.5):\n",
    "        super().__init__()\n",
    "        self.model_type = 'Transformer'\n",
    "        self.pos_encoder = PositionalEncoding(d_model, dropout)\n",
    "        encoder_layers = TransformerEncoderLayer(d_model, nhead, d_hid, dropout)\n",
    "        self.transformer_encoder = TransformerEncoder(encoder_layers, nlayers)\n",
    "        self.encoder = nn.Embedding(ntoken, d_model)\n",
    "        self.d_model = d_model\n",
    "        self.decoder = nn.Linear(d_model, ntoken)\n",
    "\n",
    "        self.init_weights()\n",
    "\n",
    "    def init_weights(self) -> None:\n",
    "        initrange = 0.1\n",
    "        self.encoder.weight.data.uniform_(-initrange, initrange)\n",
    "        self.decoder.bias.data.zero_()\n",
    "        self.decoder.weight.data.uniform_(-initrange, initrange)\n",
    "\n",
    "    def forward(self, src: Tensor, src_mask: Tensor, verbose=False) -> Tensor:\n",
    "        \"\"\"\n",
    "        Args:\n",
    "            src: Tensor, shape [seq_len, batch_size]\n",
    "            src_mask: Tensor, shape [seq_len, seq_len]\n",
    "\n",
    "        Returns:\n",
    "            output Tensor of shape [seq_len, batch_size, ntoken]\n",
    "        \"\"\"\n",
    "        src = self.encoder(src) * math.sqrt(self.d_model)\n",
    "        if verbose:\n",
    "            print(src.shape)\n",
    "            figure()\n",
    "            imshow(src.detach().numpy().reshape((42,20)))\n",
    "        src = self.pos_encoder(src)\n",
    "        if verbose:\n",
    "            print(src.shape)\n",
    "            figure()\n",
    "            imshow(src.detach().numpy().reshape((42,20)))\n",
    "        output = self.transformer_encoder(src, src_mask)\n",
    "        if verbose:\n",
    "            print(output.shape)\n",
    "            figure()\n",
    "            imshow(output.detach().numpy().reshape((42,20)))\n",
    "        output = self.decoder(output)\n",
    "        if verbose:\n",
    "            print(output.shape)\n",
    "            figure()\n",
    "            imshow(output.detach().numpy().reshape((42,6)))\n",
    "        return output\n",
    "\n",
    "def generate_square_subsequent_mask(sz: int) -> Tensor:\n",
    "    \"\"\"Generates an upper-triangular matrix of -inf, with zeros on diag.\"\"\"\n",
    "    return torch.triu(torch.ones(sz, sz) * float('-inf'), diagonal=1)"
   ]
  },
  {
   "cell_type": "code",
   "execution_count": 8,
   "id": "59cafb7b",
   "metadata": {},
   "outputs": [],
   "source": [
    "class PositionalEncoding(nn.Module):\n",
    "\n",
    "    def __init__(self, d_model: int, dropout: float = 0.1, max_len: int = 5000):\n",
    "        super().__init__()\n",
    "        self.dropout = nn.Dropout(p=dropout)\n",
    "\n",
    "        position = torch.arange(max_len).unsqueeze(1)\n",
    "        div_term = torch.exp(torch.arange(0, d_model, 2) * (-math.log(10000.0) / d_model))\n",
    "        pe = torch.zeros(max_len, 1, d_model)\n",
    "        pe[:, 0, 0::2] = torch.sin(position * div_term)\n",
    "        pe[:, 0, 1::2] = torch.cos(position * div_term)\n",
    "        self.register_buffer('pe', pe)\n",
    "\n",
    "    def forward(self, x: Tensor) -> Tensor:\n",
    "        \"\"\"\n",
    "        Args:\n",
    "            x: Tensor, shape [seq_len, batch_size, embedding_dim]\n",
    "        \"\"\"\n",
    "        x = x + self.pe[:x.size(0)]\n",
    "        return self.dropout(x)"
   ]
  },
  {
   "cell_type": "code",
   "execution_count": 9,
   "id": "a54b2c93",
   "metadata": {},
   "outputs": [],
   "source": [
    "device = torch.device('cuda' if torch.cuda.is_available() else 'cpu')"
   ]
  },
  {
   "cell_type": "code",
   "execution_count": 10,
   "id": "dc354b96",
   "metadata": {},
   "outputs": [],
   "source": [
    "data,target=get_batch(DaisyBell,0)"
   ]
  },
  {
   "cell_type": "code",
   "execution_count": 11,
   "id": "fc668059",
   "metadata": {},
   "outputs": [
    {
     "name": "stdout",
     "output_type": "stream",
     "text": [
      "tensor([[0., -inf, -inf,  ..., -inf, -inf, -inf],\n",
      "        [0., 0., -inf,  ..., -inf, -inf, -inf],\n",
      "        [0., 0., 0.,  ..., -inf, -inf, -inf],\n",
      "        ...,\n",
      "        [0., 0., 0.,  ..., 0., -inf, -inf],\n",
      "        [0., 0., 0.,  ..., 0., 0., -inf],\n",
      "        [0., 0., 0.,  ..., 0., 0., 0.]])\n"
     ]
    }
   ],
   "source": [
    "src_mask = generate_square_subsequent_mask(bptt).to(device)\n",
    "print(src_mask)"
   ]
  },
  {
   "cell_type": "code",
   "execution_count": 12,
   "id": "33fc4078",
   "metadata": {},
   "outputs": [
    {
     "name": "stderr",
     "output_type": "stream",
     "text": [
      "/Library/Frameworks/Python.framework/Versions/3.10/lib/python3.10/site-packages/torch/nn/modules/transformer.py:286: UserWarning: enable_nested_tensor is True, but self.use_nested_tensor is False because encoder_layer.self_attn.batch_first was not True(use batch_first for better inference performance)\n",
      "  warnings.warn(f\"enable_nested_tensor is True, but self.use_nested_tensor is False because {why_not_sparsity_fast_path}\")\n"
     ]
    }
   ],
   "source": [
    "# I generated this part not sure if its right\n",
    "model = TransformerModel(ntoken=6, d_model=64, nhead=4, d_hid=256, nlayers=2, dropout=0.2)"
   ]
  },
  {
   "cell_type": "code",
   "execution_count": 13,
   "id": "09985543",
   "metadata": {},
   "outputs": [
    {
     "data": {
      "text/plain": [
       "tensor([[[ 0.1111, -0.3954, -0.3748, -0.2094,  0.4523, -0.6660]],\n",
       "\n",
       "        [[ 0.3258, -1.1727, -0.7050, -0.9065,  0.3691, -0.8163]],\n",
       "\n",
       "        [[ 0.4328, -0.2084, -0.9706, -0.4329, -0.0228, -1.3555]],\n",
       "\n",
       "        [[ 0.4098, -0.5244, -0.8856, -0.0487,  0.1180, -0.7192]],\n",
       "\n",
       "        [[ 0.5030, -0.3071, -0.4646, -0.5558,  0.2106, -0.7770]],\n",
       "\n",
       "        [[ 0.4266, -0.2180, -0.2781,  0.0828,  0.5920, -0.2243]],\n",
       "\n",
       "        [[-0.0745, -0.2030, -0.5345, -0.0315,  0.4607, -0.8713]],\n",
       "\n",
       "        [[ 0.4316, -0.7871, -0.3973,  0.3487,  0.7010, -0.5584]],\n",
       "\n",
       "        [[ 0.2979, -0.3885, -0.5178,  0.2247,  0.4797, -0.2066]],\n",
       "\n",
       "        [[ 0.7504, -0.1709, -0.8815, -0.0672,  0.2453,  0.2935]],\n",
       "\n",
       "        [[ 0.5379,  0.0900, -0.8399, -0.7302,  0.1646, -0.0182]],\n",
       "\n",
       "        [[-0.2097,  0.1813, -0.9185, -0.4423,  0.5174, -0.0602]],\n",
       "\n",
       "        [[-0.2625, -0.1977, -1.0940, -0.3966,  0.5448, -0.3439]],\n",
       "\n",
       "        [[ 0.0746, -0.7696, -1.1741, -0.1329,  0.6657, -0.1189]],\n",
       "\n",
       "        [[ 0.1845, -0.4749, -1.2802,  0.5078,  0.4005, -0.3551]],\n",
       "\n",
       "        [[ 0.5027, -0.5498, -1.1916,  0.3037,  0.1608, -0.7893]],\n",
       "\n",
       "        [[ 0.4002, -0.8954, -0.8107, -0.8593, -0.0358, -0.3069]],\n",
       "\n",
       "        [[ 0.3148, -0.4353, -0.9580, -1.0650,  0.4541, -0.8965]],\n",
       "\n",
       "        [[ 0.6294,  0.0153, -0.6570, -0.6512, -0.4588, -0.6727]],\n",
       "\n",
       "        [[ 0.1682,  0.1377, -0.8477, -0.6515,  0.1088, -0.4686]],\n",
       "\n",
       "        [[-0.2696,  0.1560, -1.1932, -0.5307,  0.3323, -0.0969]],\n",
       "\n",
       "        [[ 0.2227, -0.5628, -1.4056, -0.0544,  0.6163, -0.6862]],\n",
       "\n",
       "        [[ 0.7740, -0.0192, -1.3317,  0.0504,  0.5397, -0.3662]],\n",
       "\n",
       "        [[ 0.1537, -0.0907, -0.6209, -0.3683,  0.0870, -0.8344]],\n",
       "\n",
       "        [[ 0.0797, -0.2793, -0.7169, -0.6105,  0.0229, -1.0808]],\n",
       "\n",
       "        [[ 0.0455, -0.1961, -0.0572, -0.8478, -0.1627, -0.9233]],\n",
       "\n",
       "        [[ 0.0598, -0.1123, -0.1592, -0.6088, -0.0962, -0.7246]],\n",
       "\n",
       "        [[ 0.0767, -0.0251, -0.5415, -0.1349,  0.7418, -0.3815]],\n",
       "\n",
       "        [[-0.1514, -0.3183, -0.1976, -0.9449,  0.9520, -0.9162]],\n",
       "\n",
       "        [[ 0.0884, -0.4292, -0.5460, -1.0590,  0.9886, -0.5476]],\n",
       "\n",
       "        [[ 0.3672, -0.2992, -0.1720,  0.5706,  0.6978, -0.6972]],\n",
       "\n",
       "        [[ 0.2844, -0.1223, -0.1260,  0.2062,  0.0211, -1.3916]],\n",
       "\n",
       "        [[ 0.2199,  0.0493, -0.1227, -0.3533,  1.1735,  0.4362]],\n",
       "\n",
       "        [[ 0.3874,  0.0376, -0.2072, -0.6056,  1.1747,  0.2358]],\n",
       "\n",
       "        [[-0.3559,  0.3757, -0.2842, -0.3845,  0.4996, -0.6220]],\n",
       "\n",
       "        [[ 0.3806, -0.5509, -0.5686, -0.1367, -0.2056, -0.8355]],\n",
       "\n",
       "        [[-0.2016, -0.5294, -0.0413,  0.1132, -0.2032, -1.0340]],\n",
       "\n",
       "        [[-0.0583,  0.2599, -0.2259, -0.1978, -0.4320, -1.0531]],\n",
       "\n",
       "        [[-0.5498, -0.0152, -0.1455, -0.0091,  0.2534, -0.8597]],\n",
       "\n",
       "        [[-0.5977,  0.0966, -0.5037,  0.4999,  0.9907, -0.7283]],\n",
       "\n",
       "        [[-0.1835, -0.0618, -0.7414,  0.0354,  0.5962, -0.4869]],\n",
       "\n",
       "        [[-0.1458, -0.1381, -1.0467, -0.8189,  1.3307, -0.9677]]],\n",
       "       grad_fn=<ViewBackward0>)"
      ]
     },
     "execution_count": 13,
     "metadata": {},
     "output_type": "execute_result"
    }
   ],
   "source": [
    "data,target=get_batch(DaisyBell,0)\n",
    "output = model(torch.tensor(data,dtype=torch.long),src_mask)\n",
    "output"
   ]
  },
  {
   "cell_type": "code",
   "execution_count": 17,
   "id": "a004e6cb",
   "metadata": {},
   "outputs": [],
   "source": [
    "\n",
    "def train(model: nn.Module,train_data) -> None:\n",
    "    model.train()  # turn on train mode\n",
    "    total_loss = 0.\n",
    "    log_interval = 200\n",
    "    start_time = time.time()\n",
    "    src_mask = generate_square_subsequent_mask(bptt).to(device)\n",
    "\n",
    "    num_batches = len(train_data) // bptt\n",
    "    #for batch, i in enumerate(range(0, train_data.size(0) - 1, bptt)):\n",
    "    for batch, i in enumerate(range(0, len(train_data) - 1, bptt)):\n",
    "        data, targets = get_batch(train_data, i)\n",
    "        seq_len = len(data)\n",
    "        if seq_len != bptt:  # only on last batch\n",
    "            src_mask = src_mask[:seq_len, :seq_len]\n",
    "        output = model(torch.tensor(data,dtype=torch.long), src_mask)\n",
    "        loss = criterion(output.view(-1, ntokens), torch.tensor(targets,dtype=torch.long))\n",
    "\n",
    "        optimizer.zero_grad()\n",
    "        loss.backward()\n",
    "        torch.nn.utils.clip_grad_norm_(model.parameters(), 0.5)\n",
    "        optimizer.step()\n",
    "\n",
    "        total_loss += loss.item()\n",
    "        if batch % log_interval == 0 and batch > 0:\n",
    "            lr = scheduler.get_last_lr()[0]\n",
    "            ms_per_batch = (time.time() - start_time) * 1000 / log_interval\n",
    "            cur_loss = total_loss / log_interval\n",
    "            ppl = math.exp(cur_loss)\n",
    "            print(f'| epoch {epoch:3d} | {batch:5d}/{num_batches:5d} batches | '\n",
    "                  f'lr {lr:02.2f} | ms/batch {ms_per_batch:5.2f} | '\n",
    "                  f'loss {cur_loss:5.2f} | ppl {ppl:8.2f}')\n",
    "            total_loss = 0\n",
    "            start_time = time.time()\n",
    "\n",
    "def evaluate(model: nn.Module, eval_data: Tensor) -> float:\n",
    "    model.eval()  # turn on evaluation mode\n",
    "    total_loss = 0.\n",
    "    src_mask = generate_square_subsequent_mask(bptt).to(device)\n",
    "    with torch.no_grad():\n",
    "        for i in range(0, len(eval_data) - 1, bptt):\n",
    "            data, targets = get_batch(eval_data, i)\n",
    "            seq_len = len(data)\n",
    "            if seq_len != bptt:\n",
    "                src_mask = src_mask[:seq_len, :seq_len]\n",
    "            output = model(torch.tensor(data,dtype=torch.long), src_mask)\n",
    "            output_flat = output.view(-1, ntokens)\n",
    "            total_loss += seq_len * criterion(output_flat, torch.tensor(targets,dtype=torch.long)).item()\n",
    "    return total_loss / (len(eval_data) - 1)"
   ]
  },
  {
   "cell_type": "code",
   "execution_count": 18,
   "id": "02c304e8",
   "metadata": {},
   "outputs": [
    {
     "name": "stdout",
     "output_type": "stream",
     "text": [
      "mkdir: models: File exists\n"
     ]
    }
   ],
   "source": [
    "!mkdir models"
   ]
  },
  {
   "cell_type": "code",
   "execution_count": 19,
   "id": "a4e5db83",
   "metadata": {},
   "outputs": [],
   "source": [
    "def EI(A,B,nrOfSymbols):\n",
    "    pseudoCount=0.0\n",
    "    Pxy=numpy.zeros((nrOfSymbols,nrOfSymbols))+pseudoCount\n",
    "    Py=numpy.zeros((nrOfSymbols))+pseudoCount\n",
    "    for i in range(len(A)):\n",
    "        a=A[i]\n",
    "        b=B[i]\n",
    "        Pxy[a][b]+=1.0\n",
    "        Py[b]+=1.0\n",
    "    Pxy/=Pxy.sum()\n",
    "    Py/=Py.sum()\n",
    "    I=0.0\n",
    "    for a in range(nrOfSymbols):\n",
    "        for b in range(nrOfSymbols):\n",
    "            if Pxy[a][b]!=0.0 and Py[b]!=0.0:\n",
    "                I+=Pxy[a][b]*numpy.log2(Pxy[a][b]/Py[b])\n",
    "    return -I"
   ]
  },
  {
   "cell_type": "code",
   "execution_count": 22,
   "id": "c816ada6",
   "metadata": {},
   "outputs": [],
   "source": [
    "def MI(A,B,nrOfSymbols):\n",
    "    pseudoCount=0.0\n",
    "    Pxy=numpy.zeros((nrOfSymbols,nrOfSymbols))+pseudoCount\n",
    "    Px=numpy.zeros((nrOfSymbols))+pseudoCount\n",
    "    Py=numpy.zeros((nrOfSymbols))+pseudoCount\n",
    "    for i in range(len(A)):\n",
    "        a=A[i]\n",
    "        b=B[i]\n",
    "        Pxy[a][b]+=1.0\n",
    "        Px[a]+=1.0\n",
    "        Py[b]+=1.0\n",
    "    Pxy/=Pxy.sum()\n",
    "    Px/=Px.sum()\n",
    "    Py/=Py.sum()\n",
    "    I=0.0\n",
    "    for a in range(nrOfSymbols):\n",
    "        for b in range(nrOfSymbols):\n",
    "            if Pxy[a][b]!=0.0 and Px[a]!=0.0 and Py[b]!=0.0:\n",
    "                I+=Pxy[a][b]*numpy.log2(Pxy[a][b]/(Px[a]*Py[b]))\n",
    "    return I"
   ]
  },
  {
   "cell_type": "code",
   "execution_count": 21,
   "id": "e84af5e6",
   "metadata": {},
   "outputs": [
    {
     "name": "stdout",
     "output_type": "stream",
     "text": [
      "2.2232522479081007\n"
     ]
    },
    {
     "name": "stderr",
     "output_type": "stream",
     "text": [
      "/Library/Frameworks/Python.framework/Versions/3.10/lib/python3.10/site-packages/sklearn/cluster/_kmeans.py:1416: FutureWarning: The default value of `n_init` will change from 10 to 'auto' in 1.4. Set the value of `n_init` explicitly to suppress the warning\n",
      "  super()._check_params_vs_input(X, default_n_init=10)\n",
      "/Library/Frameworks/Python.framework/Versions/3.10/lib/python3.10/site-packages/sklearn/cluster/_kmeans.py:1416: FutureWarning: The default value of `n_init` will change from 10 to 'auto' in 1.4. Set the value of `n_init` explicitly to suppress the warning\n",
      "  super()._check_params_vs_input(X, default_n_init=10)\n",
      "/Library/Frameworks/Python.framework/Versions/3.10/lib/python3.10/site-packages/sklearn/cluster/_kmeans.py:1416: FutureWarning: The default value of `n_init` will change from 10 to 'auto' in 1.4. Set the value of `n_init` explicitly to suppress the warning\n",
      "  super()._check_params_vs_input(X, default_n_init=10)\n",
      "/Library/Frameworks/Python.framework/Versions/3.10/lib/python3.10/site-packages/sklearn/cluster/_kmeans.py:1416: FutureWarning: The default value of `n_init` will change from 10 to 'auto' in 1.4. Set the value of `n_init` explicitly to suppress the warning\n",
      "  super()._check_params_vs_input(X, default_n_init=10)\n",
      "/Library/Frameworks/Python.framework/Versions/3.10/lib/python3.10/site-packages/sklearn/cluster/_kmeans.py:1416: FutureWarning: The default value of `n_init` will change from 10 to 'auto' in 1.4. Set the value of `n_init` explicitly to suppress the warning\n",
      "  super()._check_params_vs_input(X, default_n_init=10)\n",
      "/Library/Frameworks/Python.framework/Versions/3.10/lib/python3.10/site-packages/sklearn/cluster/_kmeans.py:1416: FutureWarning: The default value of `n_init` will change from 10 to 'auto' in 1.4. Set the value of `n_init` explicitly to suppress the warning\n",
      "  super()._check_params_vs_input(X, default_n_init=10)\n"
     ]
    }
   ],
   "source": [
    "def atomicPhi(data):\n",
    "    fsState=numpy.zeros(data.shape[0])\n",
    "    theSum=0.0\n",
    "    for i in range(data.shape[1]):\n",
    "        if len(unique(data.transpose()[i]))>1:\n",
    "            kmeans = KMeans(n_clusters=2).fit(data.transpose()[i].reshape((data.shape[0],1)))\n",
    "            state=kmeans.labels_\n",
    "        else:\n",
    "            state=numpy.zeros((data.shape[0])).astype(int)\n",
    "        fsState=(fsState*2)+state\n",
    "        theSum+=EI(state,numpy.roll(state,shift=1),2)\n",
    "    aPhi=0.0\n",
    "    fsState=fsState.astype(int)\n",
    "    sysEI=EI(fsState,numpy.roll(fsState,shift=1),2**data.shape[1])\n",
    "    return -sysEI+theSum\n",
    "\n",
    "print(atomicPhi(DaisyBellMatrix))"
   ]
  },
  {
   "cell_type": "code",
   "execution_count": 41,
   "id": "3b16aad8",
   "metadata": {
    "scrolled": false
   },
   "outputs": [
    {
     "name": "stderr",
     "output_type": "stream",
     "text": [
      "/Library/Frameworks/Python.framework/Versions/3.10/lib/python3.10/site-packages/torch/nn/modules/transformer.py:286: UserWarning: enable_nested_tensor is True, but self.use_nested_tensor is False because encoder_layer.self_attn.batch_first was not True(use batch_first for better inference performance)\n",
      "  warnings.warn(f\"enable_nested_tensor is True, but self.use_nested_tensor is False because {why_not_sparsity_fast_path}\")\n",
      "/Library/Frameworks/Python.framework/Versions/3.10/lib/python3.10/site-packages/sklearn/cluster/_kmeans.py:1416: FutureWarning: The default value of `n_init` will change from 10 to 'auto' in 1.4. Set the value of `n_init` explicitly to suppress the warning\n",
      "  super()._check_params_vs_input(X, default_n_init=10)\n",
      "/Library/Frameworks/Python.framework/Versions/3.10/lib/python3.10/site-packages/sklearn/cluster/_kmeans.py:1416: FutureWarning: The default value of `n_init` will change from 10 to 'auto' in 1.4. Set the value of `n_init` explicitly to suppress the warning\n",
      "  super()._check_params_vs_input(X, default_n_init=10)\n"
     ]
    },
    {
     "name": "stdout",
     "output_type": "stream",
     "text": [
      "torch.Size([42, 1, 20])\n",
      "torch.Size([42, 1, 20])\n",
      "torch.Size([42, 1, 20])\n",
      "torch.Size([42, 1, 6])\n",
      "output shape torch.Size([42, 1, 6])\n",
      "[1, 5, 5, 0, 0, 5, 4, 4, 3, 3, 2, 2, 1, 5, 5, 4, 4, 3, 3, 2, 5, 5, 4, 4, 3, 3, 2, 1, 1, 5, 5, 0, 0, 5, 4, 4, 3, 3, 2, 2, 1, 1]\n",
      "tensor([[[-6.8511e-01, -6.9101e-01, -2.5243e+00,  4.9069e-01,  9.1927e-01,\n",
      "           1.9374e+00]],\n",
      "\n",
      "        [[-7.4486e-01, -1.0105e+00, -2.7324e+00,  5.2974e-01,  1.4101e+00,\n",
      "           1.9767e+00]],\n",
      "\n",
      "        [[-5.5167e-01, -1.2021e+00, -3.3039e+00,  5.6129e-02,  2.4735e+00,\n",
      "           2.0431e+00]],\n",
      "\n",
      "        [[-6.1597e-01, -1.2116e+00, -3.3766e+00,  1.1311e-01,  2.6081e+00,\n",
      "           1.9733e+00]],\n",
      "\n",
      "        [[-8.7912e-01, -1.5389e+00, -3.4680e+00,  6.1087e-01,  2.7558e+00,\n",
      "           1.9716e+00]],\n",
      "\n",
      "        [[-1.0642e+00, -1.5723e+00, -3.4432e+00,  7.3978e-01,  2.6905e+00,\n",
      "           1.9721e+00]],\n",
      "\n",
      "        [[-9.4016e-01, -1.1665e+00, -3.3741e+00,  1.8106e-01,  2.5604e+00,\n",
      "           1.9798e+00]],\n",
      "\n",
      "        [[-1.2330e+00, -5.7172e-01, -2.7220e+00,  6.7353e-03,  2.3004e+00,\n",
      "           1.4158e+00]],\n",
      "\n",
      "        [[-1.2778e+00, -6.4640e-01, -2.8446e+00,  5.9171e-02,  2.4307e+00,\n",
      "           1.4765e+00]],\n",
      "\n",
      "        [[-1.8855e+00, -1.3439e+00, -3.0113e+00,  1.0082e+00,  2.4674e+00,\n",
      "           1.9561e+00]],\n",
      "\n",
      "        [[-1.9631e+00, -1.1882e+00, -3.2461e+00,  1.0696e+00,  2.3922e+00,\n",
      "           2.0854e+00]],\n",
      "\n",
      "        [[-1.7983e+00, -5.2084e-01, -3.4884e+00,  7.6690e-01,  1.9604e+00,\n",
      "           2.0181e+00]],\n",
      "\n",
      "        [[-1.8890e+00, -2.6371e-01, -3.2288e+00,  6.3109e-01,  1.4808e+00,\n",
      "           2.1153e+00]],\n",
      "\n",
      "        [[-1.7355e+00, -7.2361e-01, -3.1213e+00,  5.6262e-01,  1.6310e+00,\n",
      "           2.2615e+00]],\n",
      "\n",
      "        [[-1.0931e+00, -9.9355e-01, -3.4049e+00,  1.4834e-02,  2.4459e+00,\n",
      "           2.2473e+00]],\n",
      "\n",
      "        [[-9.7417e-01, -1.0604e+00, -3.4587e+00,  4.7769e-02,  2.5577e+00,\n",
      "           2.1859e+00]],\n",
      "\n",
      "        [[-1.0745e+00, -6.6291e-01, -3.1676e+00,  3.2648e-03,  2.4752e+00,\n",
      "           1.7368e+00]],\n",
      "\n",
      "        [[-1.0667e+00, -6.2588e-01, -3.1412e+00,  2.4659e-02,  2.4203e+00,\n",
      "           1.6981e+00]],\n",
      "\n",
      "        [[-1.7612e+00, -1.2650e+00, -3.1696e+00,  1.1122e+00,  2.0209e+00,\n",
      "           2.3373e+00]],\n",
      "\n",
      "        [[-1.9087e+00, -1.3540e+00, -2.9307e+00,  1.1772e+00,  1.9886e+00,\n",
      "           2.2749e+00]],\n",
      "\n",
      "        [[-1.6183e+00, -1.0145e+00, -3.2940e+00,  7.7568e-01,  2.2181e+00,\n",
      "           1.9930e+00]],\n",
      "\n",
      "        [[-1.0940e+00, -1.1746e+00, -3.4496e+00,  2.4848e-01,  2.7131e+00,\n",
      "           2.0016e+00]],\n",
      "\n",
      "        [[-1.0923e+00, -1.1195e+00, -3.5195e+00,  2.9044e-01,  2.7342e+00,\n",
      "           1.9560e+00]],\n",
      "\n",
      "        [[-1.3175e+00, -5.1020e-01, -3.1095e+00,  2.4127e-01,  2.4466e+00,\n",
      "           1.4754e+00]],\n",
      "\n",
      "        [[-1.4395e+00, -2.8434e-01, -2.9687e+00,  2.2370e-01,  2.2036e+00,\n",
      "           1.4310e+00]],\n",
      "\n",
      "        [[-2.3474e+00, -6.5274e-01, -2.7984e+00,  1.2767e+00,  1.6080e+00,\n",
      "           1.9794e+00]],\n",
      "\n",
      "        [[-2.2126e+00, -6.2953e-01, -2.7969e+00,  1.0733e+00,  1.6736e+00,\n",
      "           2.0161e+00]],\n",
      "\n",
      "        [[-1.7999e+00, -2.8884e-01, -3.3372e+00,  7.0844e-01,  1.8594e+00,\n",
      "           1.9551e+00]],\n",
      "\n",
      "        [[-1.6043e+00, -6.6208e-01, -3.4715e+00,  7.4900e-01,  2.0489e+00,\n",
      "           2.0760e+00]],\n",
      "\n",
      "        [[-1.4741e+00, -5.6681e-01, -3.5022e+00,  7.4446e-01,  1.9094e+00,\n",
      "           2.0879e+00]],\n",
      "\n",
      "        [[-9.8157e-01, -5.4636e-01, -3.5397e+00,  1.8882e-01,  2.1283e+00,\n",
      "           2.1215e+00]],\n",
      "\n",
      "        [[-9.8021e-01, -5.0339e-01, -3.4657e+00,  1.5747e-01,  2.0106e+00,\n",
      "           2.1526e+00]],\n",
      "\n",
      "        [[-1.3088e+00, -7.6514e-01, -3.3853e+00,  6.2456e-01,  2.0025e+00,\n",
      "           2.2198e+00]],\n",
      "\n",
      "        [[-1.2116e+00, -9.1693e-01, -3.4105e+00,  5.9157e-01,  2.2814e+00,\n",
      "           2.0934e+00]],\n",
      "\n",
      "        [[-8.8039e-01, -7.8330e-01, -3.4662e+00,  2.0414e-01,  2.4130e+00,\n",
      "           1.9541e+00]],\n",
      "\n",
      "        [[-1.0530e+00, -3.2280e-01, -3.1210e+00,  2.0734e-01,  2.2945e+00,\n",
      "           1.4295e+00]],\n",
      "\n",
      "        [[-1.1265e+00, -1.8574e-01, -3.0270e+00,  2.6502e-01,  2.1800e+00,\n",
      "           1.2990e+00]],\n",
      "\n",
      "        [[-1.8977e+00, -5.9813e-01, -2.7033e+00,  1.4721e+00,  1.5613e+00,\n",
      "           1.6067e+00]],\n",
      "\n",
      "        [[-2.0937e+00, -5.4511e-01, -2.4916e+00,  1.4386e+00,  1.5033e+00,\n",
      "           1.5393e+00]],\n",
      "\n",
      "        [[-1.9081e+00, -9.0605e-02, -3.0548e+00,  1.1034e+00,  1.7121e+00,\n",
      "           1.3801e+00]],\n",
      "\n",
      "        [[-1.8136e+00, -1.7158e-01, -3.2635e+00,  9.8798e-01,  1.9843e+00,\n",
      "           1.4425e+00]],\n",
      "\n",
      "        [[-1.7965e+00, -4.8146e-01, -3.4160e+00,  1.0335e+00,  2.0701e+00,\n",
      "           1.6699e+00]]])\n",
      "5\n"
     ]
    },
    {
     "name": "stderr",
     "output_type": "stream",
     "text": [
      "/Library/Frameworks/Python.framework/Versions/3.10/lib/python3.10/site-packages/sklearn/cluster/_kmeans.py:1416: FutureWarning: The default value of `n_init` will change from 10 to 'auto' in 1.4. Set the value of `n_init` explicitly to suppress the warning\n",
      "  super()._check_params_vs_input(X, default_n_init=10)\n",
      "/Library/Frameworks/Python.framework/Versions/3.10/lib/python3.10/site-packages/sklearn/cluster/_kmeans.py:1416: FutureWarning: The default value of `n_init` will change from 10 to 'auto' in 1.4. Set the value of `n_init` explicitly to suppress the warning\n",
      "  super()._check_params_vs_input(X, default_n_init=10)\n",
      "/Library/Frameworks/Python.framework/Versions/3.10/lib/python3.10/site-packages/sklearn/cluster/_kmeans.py:1416: FutureWarning: The default value of `n_init` will change from 10 to 'auto' in 1.4. Set the value of `n_init` explicitly to suppress the warning\n",
      "  super()._check_params_vs_input(X, default_n_init=10)\n"
     ]
    },
    {
     "data": {
      "text/plain": [
       "[<matplotlib.lines.Line2D at 0x29e0d32e0>]"
      ]
     },
     "execution_count": 41,
     "metadata": {},
     "output_type": "execute_result"
    },
    {
     "data": {
      "image/png": "[encoded data removed]",
      "text/plain": [
       "<Figure size 640x480 with 1 Axes>"
      ]
     },
     "metadata": {},
     "output_type": "display_data"
    },
    {
     "data": {
      "image/png": "[encoded data removed]",
      "text/plain": [
       "<Figure size 640x480 with 1 Axes>"
      ]
     },
     "metadata": {},
     "output_type": "display_data"
    },
    {
     "data": {
      "image/png": "[encoded data removed]",
      "text/plain": [
       "<Figure size 640x480 with 1 Axes>"
      ]
     },
     "metadata": {},
     "output_type": "display_data"
    },
    {
     "data": {
      "image/png": "[encoded data removed]",
      "text/plain": [
       "<Figure size 640x480 with 2 Axes>"
      ]
     },
     "metadata": {},
     "output_type": "display_data"
    }
   ],
   "source": [
    "bptt = 42\n",
    "\n",
    "ntokens = 6  # size of vocabulary\n",
    "emsize = 20  # embedding dimension\n",
    "d_hid = 20  # dimension of the feedforward network model in nn.TransformerEncoder\n",
    "nlayers = 2  # number of nn.TransformerEncoderLayer in nn.TransformerEncoder\n",
    "nhead = 4  # number of heads in nn.MultiheadAttention\n",
    "dropout = 0.0  # dropout probability\n",
    "\n",
    "criterion = nn.CrossEntropyLoss()\n",
    "lr = 5.0  # learning rate\n",
    "model = TransformerModel(ntokens, emsize, nhead, d_hid, nlayers, dropout).to(device)\n",
    "optimizer = torch.optim.SGD(model.parameters(), lr=lr)\n",
    "scheduler = torch.optim.lr_scheduler.StepLR(optimizer, 1.0, gamma=0.95)\n",
    "\n",
    "\n",
    "epochs=1\n",
    "W=[]\n",
    "Os=[]\n",
    "phi=[]\n",
    "phiSamples=[]\n",
    "Wsamples=[]\n",
    "for epoch in range(1, epochs + 1):\n",
    "    train(model,DaisyBell)\n",
    "    \n",
    "    model.eval()\n",
    "    data,target=get_batch(DaisyBell,0)\n",
    "    src_mask = generate_square_subsequent_mask(bptt).to(device)\n",
    "    output = model(torch.tensor(data,dtype=torch.long),src_mask,verbose=True)\n",
    "    torch.save(model,\"models/DB_tf_epoch_{0}.model\".format(epoch))\n",
    "    print(f\"output shape {output.shape}\")\n",
    "    print(target)\n",
    "    print(output.detach())\n",
    "    print(numpy.argmax(output.detach().numpy()[0]))\n",
    "    answer=[]\n",
    "    for i in range(bptt):\n",
    "        answer.append(numpy.argmax(output.detach().numpy()[i]))\n",
    "        #print(numpy.argmax(output.detach().numpy()[i]))\n",
    "    W.append(corrcoef(target,answer)[1][0])\n",
    "    A=numpy.argmax(output.detach().numpy().reshape((42,6)),axis=1)\n",
    "    directM=numpy.zeros((42,6))\n",
    "    for i in range(42):\n",
    "        directM[i][A[i]]=1\n",
    "    phi.append(atomicPhi(directM))\n",
    "\n",
    "    \n",
    "    M=numpy.zeros((42,6))\n",
    "    for i in range(42):\n",
    "        data,target=get_batch(DaisyBell,i)\n",
    "        src_mask = generate_square_subsequent_mask(bptt).to(device)\n",
    "        output = model(torch.tensor(data,dtype=torch.long),src_mask)\n",
    "        O=output.detach().numpy().reshape((bptt,6))[-1]\n",
    "        O=numpy.abs(O*(O>=0.0))\n",
    "        M[i]=O/O.sum()\n",
    "    for i in range(1000):\n",
    "        if i==0:\n",
    "            R=1.0*(numpy.random.random((42,6))<numpy.roll(M,shift=-1,axis=0))\n",
    "        else:\n",
    "            R=numpy.concatenate((R,1.0*(numpy.random.random((42,6))<numpy.roll(M,shift=-1,axis=0))))\n",
    "    phiSamples.append(atomicPhi(R))\n",
    "    #phi.append(atomicPhi(M))\n",
    "    if epoch%10==0:\n",
    "        print(epoch,W[-1],phi[-1],phiSamples[-1])\n",
    "    #val_loss = evaluate(model, DaisyBell)\n",
    "    #val_ppl = math.exp(val_loss)\n",
    "    #print(f'| end of epoch {epoch:3d} | ' f'valid loss {val_loss:5.2f} | valid ppl {val_ppl:8.2f}')\n",
    "\n",
    "    #if val_loss < best_val_loss:\n",
    "        #best_val_loss = val_loss\n",
    "    scheduler.step()\n",
    "plot(W)\n",
    "twinx()\n",
    "plot(phi,'k')\n",
    "plot(phiSamples,'r')"
   ]
  },
  {
   "cell_type": "code",
   "execution_count": 47,
   "id": "7da807fb",
   "metadata": {},
   "outputs": [
    {
     "name": "stdout",
     "output_type": "stream",
     "text": [
      "Input notes:  [[1], [1], [5], [5], [0], [0], [5], [4], [4], [3], [3], [2], [2], [1], [5], [5], [4], [4], [3], [3], [2], [5], [5], [4], [4], [3], [3], [2], [1], [1], [5], [5], [0], [0], [5], [4], [4], [3], [3], [2], [2], [1]]\n",
      "Predicted notes:  [[5]\n",
      " [5]\n",
      " [4]\n",
      " [4]\n",
      " [4]\n",
      " [4]\n",
      " [4]\n",
      " [4]\n",
      " [4]\n",
      " [4]\n",
      " [4]\n",
      " [5]\n",
      " [5]\n",
      " [5]\n",
      " [4]\n",
      " [4]\n",
      " [4]\n",
      " [4]\n",
      " [5]\n",
      " [5]\n",
      " [4]\n",
      " [4]\n",
      " [4]\n",
      " [4]\n",
      " [4]\n",
      " [5]\n",
      " [5]\n",
      " [5]\n",
      " [5]\n",
      " [5]\n",
      " [4]\n",
      " [5]\n",
      " [5]\n",
      " [4]\n",
      " [4]\n",
      " [4]\n",
      " [4]\n",
      " [5]\n",
      " [5]\n",
      " [4]\n",
      " [4]\n",
      " [4]]\n"
     ]
    }
   ],
   "source": [
    "import torch\n",
    "import numpy as np\n",
    "\n",
    "# Assume `model` is your trained Transformer model\n",
    "# Assume `input_notes` is your sequence of input notes, as a list of integers\n",
    "data,target=get_batch(DaisyBell,0)\n",
    "# Convert the input notes to a tensor and add an extra dimension\n",
    "\n",
    "# Create a mask for the input\n",
    "src_mask = generate_square_subsequent_mask(len(data)).to(device)\n",
    "\n",
    "# Run the model on the input tensor\n",
    "output = model(torch.tensor(data,dtype=torch.long),src_mask)\n",
    "\n",
    "# Detach the output from the computation graph and convert to numpy array\n",
    "output_array = output.detach().numpy()\n",
    "\n",
    "# Get the predicted notes by finding the index of the maximum value in each output vector\n",
    "predicted_notes = np.argmax(output_array, axis=-1)\n",
    "\n",
    "print(\"Input notes: \", DaisyBell)\n",
    "print(\"Predicted notes: \", predicted_notes)"
   ]
  },
  {
   "cell_type": "code",
   "execution_count": 28,
   "id": "595cde50",
   "metadata": {},
   "outputs": [
    {
     "name": "stdout",
     "output_type": "stream",
     "text": [
      "[-0.2802917090602756]\n"
     ]
    }
   ],
   "source": [
    "print(W)"
   ]
  },
  {
   "cell_type": "code",
   "execution_count": 29,
   "id": "e67953a2",
   "metadata": {},
   "outputs": [
    {
     "data": {
      "image/png": "[encoded data removed]",
      "text/plain": [
       "<Figure size 640x480 with 2 Axes>"
      ]
     },
     "metadata": {},
     "output_type": "display_data"
    }
   ],
   "source": [
    "plot(W,label='performance')\n",
    "ylabel('performance')\n",
    "twinx()\n",
    "plot(phi,'k',label=r\"$\\phi_{det}$\")\n",
    "plot(phiSamples,'r',label=r\"$\\phi_{prob}$\")\n",
    "ylabel(r\"$\\phi_{atomic} [bits]$\")\n",
    "legend()\n",
    "savefig(\"phi.pdf\")"
   ]
  },
  {
   "cell_type": "code",
   "execution_count": 328,
   "id": "086d4b80",
   "metadata": {},
   "outputs": [
    {
     "data": {
      "text/plain": [
       "<matplotlib.image.AxesImage at 0x2aa03c6a0>"
      ]
     },
     "execution_count": 328,
     "metadata": {},
     "output_type": "execute_result"
    },
    {
     "data": {
      "image/png": "[encoded data removed]",
      "text/plain": [
       "<Figure size 640x480 with 2 Axes>"
      ]
     },
     "metadata": {},
     "output_type": "display_data"
    }
   ],
   "source": [
    "subplot(1,2,1)\n",
    "imshow(numpy.roll(M,shift=-1,axis=0),vmin=0.0,vmax=1.0,cmap=\"gray\")\n",
    "subplot(1,2,2)\n",
    "imshow(DaisyBellMatrix,cmap=\"gray\")"
   ]
  },
  {
   "cell_type": "code",
   "execution_count": 330,
   "id": "a656d83c",
   "metadata": {},
   "outputs": [
    {
     "data": {
      "text/plain": [
       "<matplotlib.image.AxesImage at 0x2aa171160>"
      ]
     },
     "execution_count": 330,
     "metadata": {},
     "output_type": "execute_result"
    },
    {
     "data": {
      "image/png": "[encoded data removed]",
      "text/plain": [
       "<Figure size 640x480 with 1 Axes>"
      ]
     },
     "metadata": {},
     "output_type": "display_data"
    }
   ],
   "source": [
    "imshow(R)"
   ]
  },
  {
   "cell_type": "code",
   "execution_count": 229,
   "id": "3a7f5fe9",
   "metadata": {},
   "outputs": [
    {
     "data": {
      "text/plain": [
       "([], [])"
      ]
     },
     "execution_count": 229,
     "metadata": {},
     "output_type": "execute_result"
    },
    {
     "data": {
      "image/png": "[encoded data removed]",
      "text/plain": [
       "<Figure size 640x480 with 12 Axes>"
      ]
     },
     "metadata": {},
     "output_type": "display_data"
    }
   ],
   "source": [
    "#figure(figsize=[3.25,1.25])\n",
    "for o in range(10):\n",
    "    subplot(12,1,o+1)\n",
    "    imshow(Os[o].transpose(),cmap=\"gray\",vmin=0.0)\n",
    "    xticks([])\n",
    "    yticks([])\n",
    "tight_layout()\n",
    "subplot(12,1,11)\n",
    "imshow(Os[-1].transpose(),cmap=\"gray\",vmin=0.0)\n",
    "xticks([])\n",
    "yticks([])\n",
    "subplot(12,1,12)\n",
    "imshow(DaisyBellMatrix.transpose(),cmap=\"gray\",vmin=0.0)\n",
    "xticks([])\n",
    "yticks([])\n",
    "#tight_layout()\n"
   ]
  },
  {
   "cell_type": "code",
   "execution_count": 188,
   "id": "30ae0c65",
   "metadata": {},
   "outputs": [
    {
     "data": {
      "text/plain": [
       "<matplotlib.image.AxesImage at 0x17f626df0>"
      ]
     },
     "execution_count": 188,
     "metadata": {},
     "output_type": "execute_result"
    },
    {
     "data": {
      "image/png": "[encoded data removed]",
      "text/plain": [
       "<Figure size 640x480 with 1 Axes>"
      ]
     },
     "metadata": {},
     "output_type": "display_data"
    }
   ],
   "source": [
    "O=Os[10]\n",
    "O=numpy.abs(O*(1.0*(O>=0.0)))\n",
    "imshow((O.transpose()/O.sum(1)).transpose())"
   ]
  },
  {
   "cell_type": "code",
   "execution_count": 189,
   "id": "d2afb735",
   "metadata": {},
   "outputs": [],
   "source": [
    "plot(target,answer,'.k')"
   ]
  },
  {
   "cell_type": "code",
   "execution_count": 111,
   "id": "c486edde",
   "metadata": {},
   "outputs": [
    {
     "name": "stdout",
     "output_type": "stream",
     "text": [
      "[[[-0.          4.64955235 -0.         -0.         -0.\n",
      "    4.71620655]]\n",
      "\n",
      " [[-0.          4.60671139 -0.         -0.         -0.\n",
      "    4.75843668]]\n",
      "\n",
      " [[ 4.58779287 -0.         -0.         -0.         -0.\n",
      "    4.8894496 ]]\n",
      "\n",
      " [[ 5.30454111 -0.         -0.         -0.          0.04894729\n",
      "    4.70245886]]\n",
      "\n",
      " [[ 4.59989929 -0.         -0.         -0.         -0.\n",
      "    5.08052826]]\n",
      "\n",
      " [[ 3.40157962 -0.         -0.         -0.         -0.\n",
      "    4.92247868]]\n",
      "\n",
      " [[-0.         -0.         -0.          1.02906966  7.94073439\n",
      "    3.10807848]]\n",
      "\n",
      " [[-0.         -0.         -0.          6.04761934  6.2900157\n",
      "   -0.        ]]\n",
      "\n",
      " [[-0.         -0.         -0.          6.3077693   6.20473242\n",
      "   -0.        ]]\n",
      "\n",
      " [[-0.         -0.          5.23940849  5.25566769 -0.\n",
      "   -0.        ]]\n",
      "\n",
      " [[-0.         -0.          5.34251785  4.94773579 -0.\n",
      "   -0.        ]]\n",
      "\n",
      " [[-0.          3.63474751  3.48890495 -0.         -0.\n",
      "    2.52837467]]\n",
      "\n",
      " [[-0.          3.61038899  3.457757   -0.         -0.\n",
      "    2.5791378 ]]\n",
      "\n",
      " [[-0.          5.66743803 -0.         -0.         -0.\n",
      "    7.70806742]]\n",
      "\n",
      " [[ 0.85237712 -0.         -0.         -0.          5.67444897\n",
      "    4.70426226]]\n",
      "\n",
      " [[ 1.08926511 -0.         -0.         -0.          5.65721464\n",
      "    4.58676386]]\n",
      "\n",
      " [[-0.         -0.         -0.          5.04497528  5.30277491\n",
      "   -0.        ]]\n",
      "\n",
      " [[-0.         -0.         -0.          5.229424    5.15141058\n",
      "   -0.        ]]\n",
      "\n",
      " [[-0.         -0.          4.87287807  4.97401094 -0.\n",
      "   -0.        ]]\n",
      "\n",
      " [[-0.         -0.          4.93644285  4.84864855 -0.\n",
      "   -0.        ]]\n",
      "\n",
      " [[-0.          3.64045238  3.1329608  -0.         -0.\n",
      "    2.78484869]]\n",
      "\n",
      " [[ 1.45904052 -0.         -0.         -0.          4.71557522\n",
      "    4.63165522]]\n",
      "\n",
      " [[ 1.76110172 -0.         -0.         -0.          4.583848\n",
      "    4.44205999]]\n",
      "\n",
      " [[-0.         -0.         -0.          5.28096962  5.24762011\n",
      "   -0.        ]]\n",
      "\n",
      " [[-0.         -0.         -0.          5.43446732  5.20518732\n",
      "   -0.        ]]\n",
      "\n",
      " [[-0.         -0.          4.91325855  5.01031446 -0.\n",
      "   -0.        ]]\n",
      "\n",
      " [[-0.         -0.          4.9337554   4.91009283 -0.\n",
      "   -0.        ]]\n",
      "\n",
      " [[-0.          4.00569773  3.1177907  -0.         -0.\n",
      "    2.38708138]]\n",
      "\n",
      " [[-0.          7.25534248 -0.         -0.         -0.\n",
      "    6.97501993]]\n",
      "\n",
      " [[-0.          7.16881084 -0.         -0.         -0.\n",
      "    7.05933332]]\n",
      "\n",
      " [[ 2.58867168 -0.         -0.         -0.          3.39536786\n",
      "    3.93483186]]\n",
      "\n",
      " [[ 2.71034122 -0.         -0.         -0.          3.39138651\n",
      "    3.80448675]]\n",
      "\n",
      " [[ 5.64477396 -0.         -0.         -0.         -0.\n",
      "    5.52220631]]\n",
      "\n",
      " [[ 5.07178545 -0.         -0.         -0.         -0.\n",
      "    5.45403624]]\n",
      "\n",
      " [[ 1.21125627 -0.         -0.         -0.          5.00572729\n",
      "    3.84872365]]\n",
      "\n",
      " [[-0.         -0.         -0.          5.27165461  5.21663475\n",
      "   -0.        ]]\n",
      "\n",
      " [[-0.         -0.         -0.          5.38754749  5.13450384\n",
      "   -0.        ]]\n",
      "\n",
      " [[-0.         -0.          5.06527519  4.94061852 -0.\n",
      "   -0.        ]]\n",
      "\n",
      " [[-0.         -0.          5.18391657  4.89860201 -0.\n",
      "   -0.        ]]\n",
      "\n",
      " [[-0.          3.97765422  3.34163785 -0.         -0.\n",
      "    1.90292907]]\n",
      "\n",
      " [[-0.          4.04193926  3.36137176 -0.         -0.\n",
      "    1.91824245]]\n",
      "\n",
      " [[-0.          8.08450317 -0.         -0.         -0.\n",
      "    5.8863883 ]]]\n"
     ]
    }
   ],
   "source": [
    "O=output.detach().numpy()\n",
    "O=(O*(1.0*(O>0.0)))\n",
    "print(O)"
   ]
  },
  {
   "cell_type": "code",
   "execution_count": 232,
   "id": "ceb04838",
   "metadata": {},
   "outputs": [
    {
     "data": {
      "text/plain": [
       "<matplotlib.image.AxesImage at 0x17e82a820>"
      ]
     },
     "execution_count": 232,
     "metadata": {},
     "output_type": "execute_result"
    },
    {
     "data": {
      "image/png": "[encoded data removed]",
      "text/plain": [
       "<Figure size 640x480 with 2 Axes>"
      ]
     },
     "metadata": {},
     "output_type": "display_data"
    }
   ],
   "source": [
    "bptt=42\n",
    "M=numpy.zeros((42,6))\n",
    "for i in range(42):\n",
    "    data,target=get_batch(DaisyBell,i)\n",
    "    src_mask = generate_square_subsequent_mask(bptt).to(device)\n",
    "    model.eval()\n",
    "    output = model(torch.tensor(data,dtype=torch.long),src_mask)\n",
    "    M[i]=output.detach().numpy().reshape((bptt,6))[-1]\n",
    "subplot(1,2,1)\n",
    "imshow(numpy.roll(M,shift=1),vmin=0.0,cmap=\"gray\")\n",
    "subplot(1,2,2)\n",
    "imshow(DaisyBellMatrix,vmin=0.0,cmap=\"gray\")"
   ]
  },
  {
   "cell_type": "code",
   "execution_count": 233,
   "id": "8ae4be3c",
   "metadata": {},
   "outputs": [
    {
     "data": {
      "text/plain": [
       "array([[-3.61732411e+00,  5.37543535e+00,  7.99647093e-01,\n",
       "        -2.42201257e+00, -8.99926841e-01,  9.74684298e-01],\n",
       "       [-3.78051853e+00,  5.32374477e+00,  8.16112280e-01,\n",
       "        -2.28453946e+00, -7.36243904e-01,  8.48447978e-01],\n",
       "       [-3.91380095e+00,  5.28374434e+00,  8.59648168e-01,\n",
       "        -2.14722848e+00, -6.14830852e-01,  6.94618106e-01],\n",
       "       [-3.03551936e+00,  8.94988477e-01, -1.29198897e+00,\n",
       "        -6.67495489e-01,  4.21270227e+00, -7.45388150e-01],\n",
       "       [-2.95249295e+00,  9.30240929e-01, -1.27758861e+00,\n",
       "        -7.68393099e-01,  4.14113235e+00, -6.91498518e-01],\n",
       "       [ 3.48129845e+00,  3.01641703e-01, -1.89433849e+00,\n",
       "        -2.26152992e+00, -2.58340120e+00,  3.63948107e+00],\n",
       "       [ 3.24390864e+00,  2.34872222e-01, -1.99873602e+00,\n",
       "        -2.03720498e+00, -2.14454913e+00,  3.32657552e+00],\n",
       "       [-3.35277796e+00,  6.34858429e-01, -1.34238946e+00,\n",
       "        -2.72466004e-01,  4.57711554e+00, -9.36182261e-01],\n",
       "       [-4.18902445e+00, -1.67162395e+00, -6.62773475e-02,\n",
       "         3.80012012e+00,  4.60157681e+00, -3.14178014e+00],\n",
       "       [-4.16856909e+00, -1.68208075e+00, -2.90147960e-04,\n",
       "         3.83119035e+00,  4.56501389e+00, -3.21159172e+00],\n",
       "       [-3.37705588e+00, -4.38249290e-01,  3.64217949e+00,\n",
       "         4.15890551e+00,  3.07444602e-01, -4.52134800e+00],\n",
       "       [-3.18971372e+00, -3.78915012e-01,  3.83810568e+00,\n",
       "         4.13416243e+00, -1.26129031e-01, -4.44157457e+00],\n",
       "       [-3.47113800e+00,  3.14823246e+00,  3.15773344e+00,\n",
       "         6.14196301e-01, -2.87619203e-01, -3.38989663e+00],\n",
       "       [-3.47179556e+00,  3.24496198e+00,  3.15993261e+00,\n",
       "         5.24874032e-01, -3.60630989e-01, -3.31595707e+00],\n",
       "       [-4.21119261e+00,  5.14583254e+00,  7.88639843e-01,\n",
       "        -1.93885612e+00, -1.99663609e-01,  5.00518560e-01],\n",
       "       [-3.29747963e+00,  6.74951375e-01, -1.26263332e+00,\n",
       "        -1.75506637e-01,  4.48398590e+00, -1.09351230e+00],\n",
       "       [-3.29842973e+00,  6.92958891e-01, -1.28538144e+00,\n",
       "        -2.26499334e-01,  4.48091841e+00, -1.03284609e+00],\n",
       "       [-4.06320381e+00, -1.75845098e+00,  2.80492678e-02,\n",
       "         3.86498213e+00,  4.46939945e+00, -3.20824218e+00],\n",
       "       [-4.03314734e+00, -1.78590655e+00,  1.10501423e-02,\n",
       "         3.87896276e+00,  4.48707151e+00, -3.22314024e+00],\n",
       "       [-3.21939492e+00, -4.11764503e-01,  3.82420349e+00,\n",
       "         4.15729523e+00, -9.85453725e-02, -4.43186903e+00],\n",
       "       [-3.00016904e+00, -3.68898273e-01,  3.92619371e+00,\n",
       "         4.10289240e+00, -4.03508961e-01, -4.38897943e+00],\n",
       "       [-3.47765064e+00,  3.17074728e+00,  3.08422828e+00,\n",
       "         5.43190002e-01, -2.14525908e-01, -3.35056114e+00],\n",
       "       [-3.18934035e+00,  6.84227407e-01, -1.34934413e+00,\n",
       "        -3.74368459e-01,  4.46122694e+00, -8.94318581e-01],\n",
       "       [-3.31098151e+00,  6.69811487e-01, -1.34593284e+00,\n",
       "        -3.02185923e-01,  4.53586197e+00, -9.11908984e-01],\n",
       "       [-4.05761433e+00, -1.82160664e+00,  1.45489946e-02,\n",
       "         3.92210364e+00,  4.50752401e+00, -3.21133709e+00],\n",
       "       [-4.06210089e+00, -1.81706738e+00,  5.75137883e-03,\n",
       "         3.95033193e+00,  4.49115658e+00, -3.19892311e+00],\n",
       "       [-2.96230459e+00, -3.11825693e-01,  3.98418808e+00,\n",
       "         4.09961128e+00, -5.47400177e-01, -4.35859108e+00],\n",
       "       [-2.73923755e+00, -2.00747609e-01,  4.12661839e+00,\n",
       "         3.97213984e+00, -9.58354533e-01, -4.23622465e+00],\n",
       "       [-3.00619268e+00,  3.39958358e+00,  3.37673831e+00,\n",
       "         2.89146274e-01, -1.04579306e+00, -3.13573194e+00],\n",
       "       [-3.59548569e+00,  5.40973520e+00,  8.80923569e-01,\n",
       "        -2.44118690e+00, -9.68238771e-01,  9.24884677e-01],\n",
       "       [-3.82834029e+00,  5.34966993e+00,  9.14998353e-01,\n",
       "        -2.25681758e+00, -7.53052890e-01,  7.54856586e-01],\n",
       "       [-2.77923322e+00,  8.84390652e-01, -1.37572253e+00,\n",
       "        -8.10999155e-01,  4.08152342e+00, -6.16121888e-01],\n",
       "       [-2.66357827e+00,  8.67659628e-01, -1.44688702e+00,\n",
       "        -8.85750830e-01,  4.06007862e+00, -5.54007888e-01],\n",
       "       [ 3.67108989e+00,  4.04193461e-01, -1.69992697e+00,\n",
       "        -2.47447991e+00, -2.89043546e+00,  3.68484831e+00],\n",
       "       [ 3.41823578e+00,  2.46261775e-01, -1.92688644e+00,\n",
       "        -2.22984624e+00, -2.34486437e+00,  3.48535299e+00],\n",
       "       [-3.16330886e+00,  6.62439406e-01, -1.37055409e+00,\n",
       "        -4.29256111e-01,  4.46815872e+00, -8.37331533e-01],\n",
       "       [-4.08498955e+00, -1.75276089e+00, -9.94320735e-02,\n",
       "         3.83574533e+00,  4.57860136e+00, -3.13942981e+00],\n",
       "       [-4.09112930e+00, -1.75447750e+00, -8.99158046e-02,\n",
       "         3.85343981e+00,  4.57946396e+00, -3.15111971e+00],\n",
       "       [-3.24335408e+00, -3.24358702e-01,  3.84237123e+00,\n",
       "         4.13918018e+00, -1.16377503e-01, -4.45109224e+00],\n",
       "       [-3.00901151e+00, -2.41551042e-01,  4.03456974e+00,\n",
       "         4.06081867e+00, -5.82574010e-01, -4.34365606e+00],\n",
       "       [-3.13557076e+00,  3.22739720e+00,  3.31024265e+00,\n",
       "         4.81445849e-01, -7.48493552e-01, -3.29822254e+00],\n",
       "       [-3.11156726e+00,  3.39029813e+00,  3.36643529e+00,\n",
       "         3.27951670e-01, -9.45621192e-01, -3.15910673e+00]])"
      ]
     },
     "execution_count": 233,
     "metadata": {},
     "output_type": "execute_result"
    }
   ],
   "source": [
    "M"
   ]
  },
  {
   "cell_type": "code",
   "execution_count": 25,
   "id": "aa3665be",
   "metadata": {},
   "outputs": [
    {
     "data": {
      "text/plain": [
       "tensor([ 3849,    12,   300,  6302,  3989,  1930, 10559,   451,     4,     7,\n",
       "            2,  1511, 10115,   942,  2439,   572,     1,    47,    30,  1990,\n",
       "         3869,   315,    19,    29,   939,     2,    10,  2139,  4916, 16615,\n",
       "          235,     3,    13,     7,    24,    17, 13737,    97,  7720,     4,\n",
       "          881,    67,   807,  5402,     6,    38, 28188,    25,     2,    77,\n",
       "            7,  2394,    17,   516,    14, 16403,  3714,  4618,    12,  1108,\n",
       "            9,   196,  6041,   190,   218, 11776,    17,     1,  1200,     2,\n",
       "            0,    10,   591,    40,  6004,     2,    50,     3,  3131,  3781,\n",
       "        20000,    21,  6406,    14,     3,    10,     8,   114,    24,  2294,\n",
       "         1684,  7156,  1681,   191,   928,  5879,    51,     9,  1147,     5])"
      ]
     },
     "execution_count": 25,
     "metadata": {},
     "output_type": "execute_result"
    }
   ],
   "source": [
    "targets"
   ]
  },
  {
   "cell_type": "code",
   "execution_count": 1,
   "id": "d4645add",
   "metadata": {},
   "outputs": [
    {
     "ename": "NameError",
     "evalue": "name 'get_batch' is not defined",
     "output_type": "error",
     "traceback": [
      "\u001b[0;31m---------------------------------------------------------------------------\u001b[0m",
      "\u001b[0;31mNameError\u001b[0m                                 Traceback (most recent call last)",
      "Input \u001b[0;32mIn [1]\u001b[0m, in \u001b[0;36m<cell line: 2>\u001b[0;34m()\u001b[0m\n\u001b[1;32m      1\u001b[0m bptt\u001b[38;5;241m=\u001b[39m\u001b[38;5;241m5\u001b[39m\n\u001b[0;32m----> 2\u001b[0m data, targets \u001b[38;5;241m=\u001b[39m \u001b[43mget_batch\u001b[49m(train_data, \u001b[38;5;241m1\u001b[39m)\n\u001b[1;32m      3\u001b[0m \u001b[38;5;28mprint\u001b[39m(data\u001b[38;5;241m.\u001b[39mshape,targets\u001b[38;5;241m.\u001b[39mshape)\n",
      "\u001b[0;31mNameError\u001b[0m: name 'get_batch' is not defined"
     ]
    }
   ],
   "source": [
    "bptt=5\n",
    "data, targets = get_batch(train_data, 1)\n",
    "print(data.shape,targets.shape)"
   ]
  },
  {
   "cell_type": "code",
   "execution_count": 50,
   "id": "b00c2ff7",
   "metadata": {},
   "outputs": [
    {
     "data": {
      "text/plain": [
       "2"
      ]
     },
     "execution_count": 50,
     "metadata": {},
     "output_type": "execute_result"
    }
   ],
   "source": [
    "12%5"
   ]
  },
  {
   "cell_type": "code",
   "execution_count": 25,
   "id": "ccd703f1",
   "metadata": {},
   "outputs": [
    {
     "data": {
      "text/plain": [
       "tensor([[[-1.5466, -0.8360, -0.6768, -0.5004, -0.4938,  3.2323]],\n",
       "\n",
       "        [[-1.3803, -0.7228, -0.5060, -0.7009, -0.5490,  2.9875]],\n",
       "\n",
       "        [[-1.4833, -0.8431, -0.5844, -0.6821, -0.2417,  2.9131]],\n",
       "\n",
       "        [[-1.1066, -1.0999, -1.0482, -0.5969,  0.3707,  2.6071]],\n",
       "\n",
       "        [[-1.4882, -1.4286, -1.0977, -0.2929,  0.5141,  2.9791]],\n",
       "\n",
       "        [[-2.3027, -1.7583, -0.5509,  0.1020,  0.2049,  3.5118]],\n",
       "\n",
       "        [[-2.4871, -1.5904, -0.1678, -0.0159, -0.1174,  3.5959]],\n",
       "\n",
       "        [[-2.0026, -1.1550, -0.2251, -0.4764, -0.1607,  3.2757]],\n",
       "\n",
       "        [[-2.6860, -1.3325, -0.5237,  0.0619,  0.1812,  3.1792]],\n",
       "\n",
       "        [[-2.8779, -1.3933, -0.7564,  0.1797,  0.5048,  3.2523]],\n",
       "\n",
       "        [[-3.0802, -1.3507, -0.0817, -0.0389,  0.0718,  3.6286]],\n",
       "\n",
       "        [[-3.3767, -1.5165, -0.1724,  0.1201,  0.1192,  3.9511]],\n",
       "\n",
       "        [[-3.2704, -0.9247,  0.0438, -0.2262, -0.0614,  3.9351]],\n",
       "\n",
       "        [[-2.8094, -0.5650,  0.2289, -0.6448, -0.3370,  3.6598]],\n",
       "\n",
       "        [[-2.4509, -0.7559, -0.2386, -0.6735, -0.1818,  3.6387]],\n",
       "\n",
       "        [[-1.5143, -0.8088, -0.8702, -0.8384,  0.4454,  2.9285]],\n",
       "\n",
       "        [[-1.6872, -1.1389, -1.1786, -0.5803,  0.7682,  3.1147]],\n",
       "\n",
       "        [[-2.8037, -1.7834, -1.5521,  0.4552,  1.0970,  3.4128]],\n",
       "\n",
       "        [[-2.9313, -1.9065, -1.3912,  0.4830,  0.8769,  3.6449]],\n",
       "\n",
       "        [[-2.6030, -1.5815, -0.1842, -0.2810, -0.1759,  3.7116]],\n",
       "\n",
       "        [[-2.3356, -1.2632,  0.0223, -0.5167, -0.2997,  3.3003]],\n",
       "\n",
       "        [[-2.6832, -1.0545,  0.0540, -0.7710,  0.0204,  3.5611]],\n",
       "\n",
       "        [[-2.4477, -1.6742, -0.9313, -0.4106,  0.7373,  3.6722]],\n",
       "\n",
       "        [[-3.1393, -2.0906, -1.0895, -0.0427,  0.9384,  4.3169]],\n",
       "\n",
       "        [[-3.6812, -2.1883, -1.1816,  0.6664,  0.9070,  4.0966]],\n",
       "\n",
       "        [[-3.6008, -1.9308, -0.9644,  0.5169,  0.6070,  3.9959]],\n",
       "\n",
       "        [[-3.1800, -1.3173,  0.0390, -0.2207, -0.2453,  3.7392]],\n",
       "\n",
       "        [[-2.9568, -1.1168, -0.0970, -0.3950, -0.1171,  3.4776]],\n",
       "\n",
       "        [[-3.1323, -0.8869, -0.4452, -0.4971,  0.4183,  3.5945]],\n",
       "\n",
       "        [[-3.3675, -1.5277, -1.0552, -0.0315,  0.6462,  4.1880]],\n",
       "\n",
       "        [[-3.3513, -1.5717, -1.0439,  0.0646,  0.5081,  4.2555]],\n",
       "\n",
       "        [[-2.1380, -1.2301, -1.1430, -0.2466,  0.4770,  3.3263]],\n",
       "\n",
       "        [[-1.6340, -0.9206, -0.9350, -0.5381,  0.2066,  2.8461]],\n",
       "\n",
       "        [[-1.6369, -1.0446, -0.7542, -0.6655,  0.0982,  2.8340]],\n",
       "\n",
       "        [[-1.8252, -1.2994, -0.9769, -0.4893,  0.4700,  2.8837]],\n",
       "\n",
       "        [[-1.9433, -1.3952, -1.3508, -0.2472,  0.8199,  2.9092]],\n",
       "\n",
       "        [[-2.6934, -1.7377, -1.3785,  0.6219,  0.8689,  2.9176]],\n",
       "\n",
       "        [[-2.7611, -1.6383, -1.0755,  0.6008,  0.5390,  2.9788]],\n",
       "\n",
       "        [[-2.4373, -1.0169,  0.2393, -0.0388, -0.5780,  2.7540]],\n",
       "\n",
       "        [[-2.3576, -0.6800,  0.4234, -0.2480, -0.6747,  2.5019]],\n",
       "\n",
       "        [[-3.0731, -0.3422,  0.4251, -0.4846, -0.2986,  2.8926]],\n",
       "\n",
       "        [[-3.5245, -0.6399,  0.0560, -0.1586,  0.2034,  3.2097]]],\n",
       "       grad_fn=<ViewBackward0>)"
      ]
     },
     "execution_count": 25,
     "metadata": {},
     "output_type": "execute_result"
    }
   ],
   "source": [
    "output"
   ]
  },
  {
   "cell_type": "code",
   "execution_count": 27,
   "id": "68f8e51b",
   "metadata": {},
   "outputs": [
    {
     "data": {
      "text/plain": [
       "[[1],\n",
       " [1],\n",
       " [1],\n",
       " [5],\n",
       " [5],\n",
       " [0],\n",
       " [0],\n",
       " [5],\n",
       " [4],\n",
       " [4],\n",
       " [3],\n",
       " [3],\n",
       " [2],\n",
       " [2],\n",
       " [1],\n",
       " [5],\n",
       " [5],\n",
       " [4],\n",
       " [4],\n",
       " [3],\n",
       " [3],\n",
       " [2],\n",
       " [5],\n",
       " [5],\n",
       " [4],\n",
       " [4],\n",
       " [3],\n",
       " [3],\n",
       " [2],\n",
       " [1],\n",
       " [1],\n",
       " [5],\n",
       " [5],\n",
       " [0],\n",
       " [0],\n",
       " [5],\n",
       " [4],\n",
       " [4],\n",
       " [3],\n",
       " [3],\n",
       " [2],\n",
       " [2]]"
      ]
     },
     "execution_count": 27,
     "metadata": {},
     "output_type": "execute_result"
    }
   ],
   "source": [
    "data"
   ]
  },
  {
   "cell_type": "code",
   "execution_count": 29,
   "id": "7bf45f2d",
   "metadata": {},
   "outputs": [
    {
     "data": {
      "text/plain": [
       "torch.Size([42, 42])"
      ]
     },
     "execution_count": 29,
     "metadata": {},
     "output_type": "execute_result"
    }
   ],
   "source": [
    "src_mask.shape"
   ]
  },
  {
   "cell_type": "code",
   "execution_count": 32,
   "id": "0fe58bcc",
   "metadata": {},
   "outputs": [
    {
     "data": {
      "text/plain": [
       "array([0.        , 0.        , 0.05600245, 0.        , 0.20343632,\n",
       "       3.209741  ], dtype=float32)"
      ]
     },
     "execution_count": 32,
     "metadata": {},
     "output_type": "execute_result"
    }
   ],
   "source": [
    "O"
   ]
  },
  {
   "cell_type": "code",
   "execution_count": null,
   "id": "090a12cf",
   "metadata": {},
   "outputs": [],
   "source": []
  }
 ],
 "metadata": {
  "kernelspec": {
   "display_name": "Python 3 (ipykernel)",
   "language": "python",
   "name": "python3"
  },
  "language_info": {
   "codemirror_mode": {
    "name": "ipython",
    "version": 3
   },
   "file_extension": ".py",
   "mimetype": "text/x-python",
   "name": "python",
   "nbconvert_exporter": "python",
   "pygments_lexer": "ipython3",
   "version": "3.10.4"
  }
 },
 "nbformat": 4,
 "nbformat_minor": 5
}
