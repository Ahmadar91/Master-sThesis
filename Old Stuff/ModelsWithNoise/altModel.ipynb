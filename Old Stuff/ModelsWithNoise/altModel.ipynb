{
 "cells": [
  {
   "cell_type": "code",
   "execution_count": 2,
   "id": "0111566d",
   "metadata": {},
   "outputs": [
    {
     "name": "stdout",
     "output_type": "stream",
     "text": [
      "%pylab is deprecated, use %matplotlib inline and import the required libraries.\n",
      "Populating the interactive namespace from numpy and matplotlib\n"
     ]
    },
    {
     "name": "stderr",
     "output_type": "stream",
     "text": [
      "/Library/Frameworks/Python.framework/Versions/3.10/lib/python3.10/site-packages/IPython/core/magics/pylab.py:162: UserWarning: pylab import has clobbered these variables: ['copy']\n",
      "`%matplotlib` prevents importing * from pylab and numpy\n",
      "  warn(\"pylab import has clobbered these variables: %s\"  % clobbered +\n"
     ]
    }
   ],
   "source": [
    "%pylab inline"
   ]
  },
  {
   "cell_type": "code",
   "execution_count": 1,
   "id": "6be541e8",
   "metadata": {},
   "outputs": [],
   "source": [
    "import torch\n",
    "import torch.nn as nn\n",
    "import torch.optim as optim\n",
    "import torch.nn.functional as F\n",
    "from sklearn.metrics.cluster import mutual_info_score\n",
    "from sklearn.cluster import KMeans\n",
    "from scipy.stats import entropy\n",
    "import copy\n"
   ]
  },
  {
   "cell_type": "code",
   "execution_count": 4,
   "id": "00a7c01f",
   "metadata": {},
   "outputs": [
    {
     "name": "stdout",
     "output_type": "stream",
     "text": [
      "(42, 41) (42, 41) (42,)\n"
     ]
    }
   ],
   "source": [
    "def getTrainingData(songStrings,nrOfSongs):\n",
    "    notes=list(\"ABCDEFGH\")\n",
    "    chord=[[0],\n",
    "           [1],\n",
    "           [2],\n",
    "           [3],\n",
    "           [4],\n",
    "           [5],\n",
    "           [6],\n",
    "           [7]]\n",
    "    source=[]\n",
    "    target=[]\n",
    "    song=[]\n",
    "    for s in range(nrOfSongs):\n",
    "        for i in range(42):\n",
    "            sentence=[]\n",
    "            answer=[]\n",
    "            song.append(s)\n",
    "            for j in range(41):\n",
    "                sentence.append(chord[notes.index(songStrings[s][(i+j)%42])][0])\n",
    "                answer.append(chord[notes.index(songStrings[s][(i+j+1)%42])][0])\n",
    "            source.append(sentence)\n",
    "            target.append(answer)\n",
    "    return numpy.array(source),numpy.array(target),numpy.array(song)\n",
    "\n",
    "songStrings = numpy.array([\n",
    "    \"CCGGAAGFFEEDDCGGFFEEDGGFFEEDCCGGAAGFFEEDDC\",\n",
    "    \"ABCDEFABCDEFABCDEFABCDEFABCDEFABCDEFABCDEF\",\n",
    "    \"ABACADAEAFABEFADECBABCFEDEFABCADEBACADFABE\",\n",
    "    \"DBCACBCFFDCEFFEFCDDEFEBEACFECBBBCBECBFDAFB\",\n",
    "    \"ABEBCAEFCDFFBCBDBBBCEDCBFBFFECBCEBCAAFFADB\",\n",
    "    \"BEEFBAFDAEAAEFDBDFDEFCACEBCCDACEACACEEDBAA\",\n",
    "    \"BFEBFEEBDBCFEAACAAAFDFCBFBFEAACFFCAABCEDDC\",\n",
    "    \"BADDFFEADBEDFDFBEBCCADEFDEABBFDEFFEBEEFDEF\",\n",
    "    \"ABFFEDBDBFECEDEAEBBEECFDDAEDCDBBFCADADBBCF\",\n",
    "    \"DFBCEBDAADAAFCDACADDAFFACDCFCCDDDCFBEBBDED\",\n",
    "    \"CCFBEFDDCBFDADDBFBCCEEABAFAAAEDCDCEAEFBFCD\",\n",
    "    \"EBADFFAAFADDDABEABBDFDCAFBCDEEBBBECDDFEEAE\",\n",
    "    \"AFADDFEFADDBCDCFEEFCAEEEDFFEDBCADBBDBAEFCD\"])\n",
    "\n",
    "I,O,S=getTrainingData(songStrings,1)\n",
    "print(I.shape,O.shape,S.shape)"
   ]
  },
  {
   "cell_type": "code",
   "execution_count": 6,
   "id": "f34d66c9",
   "metadata": {},
   "outputs": [
    {
     "name": "stdout",
     "output_type": "stream",
     "text": [
      "[2 2 6 6 0 0 6 5 5 4 4 3 3 2 6 6 5 5 4 4 3 6 6 5 5 4 4 3 2 2 6 6 0 0 6 5 5\n",
      " 4 4 3 3] [2 6 6 0 0 6 5 5 4 4 3 3 2 6 6 5 5 4 4 3 6 6 5 5 4 4 3 2 2 6 6 0 0 6 5 5 4\n",
      " 4 3 3 2]\n",
      "[2 6 6 0 0 6 5 5 4 4 3 3 2 6 6 5 5 4 4 3 6 6 5 5 4 4 3 2 2 6 6 0 0 6 5 5 4\n",
      " 4 3 3 2] [6 6 0 0 6 5 5 4 4 3 3 2 6 6 5 5 4 4 3 6 6 5 5 4 4 3 2 2 6 6 0 0 6 5 5 4 4\n",
      " 3 3 2 2]\n"
     ]
    }
   ],
   "source": [
    "print(I[0].flatten(),O[0].flatten())\n",
    "print(I[1].flatten(),O[1].flatten())"
   ]
  },
  {
   "cell_type": "code",
   "execution_count": 85,
   "id": "3541090a",
   "metadata": {},
   "outputs": [],
   "source": [
    "class TransformerModel(nn.Module):\n",
    "    def __init__(self, ntokens, emsize, nhead, d_hid, nlayers, dropout=0.5):\n",
    "        super(TransformerModel, self).__init__()\n",
    "        self.model_type = 'Transformer'\n",
    "        self.src_mask = None\n",
    "        self.pos_encoder = PositionalEncoding(emsize, dropout)\n",
    "        encoder_layers = nn.TransformerEncoderLayer(emsize, nhead, d_hid, dropout)\n",
    "        self.transformer_encoder = nn.TransformerEncoder(encoder_layers, nlayers)\n",
    "        self.encoder = nn.Embedding(ntokens, emsize)\n",
    "        self.emsize = emsize\n",
    "        self.decoder = nn.Linear(emsize, ntokens)\n",
    "        self.ntokens=ntokens\n",
    "        self.init_weights()\n",
    "\n",
    "    def _generate_square_subsequent_mask(self, sz):\n",
    "        mask = (torch.triu(torch.ones(sz, sz)) == 1).transpose(0, 1)\n",
    "        mask = mask.float().masked_fill(mask == 0, float('-inf')).masked_fill(mask == 1, float(0.0))\n",
    "        return mask\n",
    "\n",
    "    def init_weights(self):\n",
    "        initrange = 0.1\n",
    "        self.encoder.weight.data.uniform_(-initrange, initrange)\n",
    "        self.decoder.bias.data.zero_()\n",
    "        self.decoder.weight.data.uniform_(-initrange, initrange)\n",
    "\n",
    "    def forward(self, src,verbose=False):\n",
    "        if self.src_mask is None or self.src_mask.size(0) != len(src):\n",
    "            device = src.device\n",
    "            mask = self._generate_square_subsequent_mask(len(src)).to(device)\n",
    "            self.src_mask = mask\n",
    "\n",
    "        src = self.encoder(src) * math.sqrt(self.emsize)\n",
    "        src = self.pos_encoder(src)\n",
    "        output = self.transformer_encoder(src, self.src_mask)\n",
    "        self.store=output.detach().numpy().copy()\n",
    "        if verbose:\n",
    "            print(output.shape)\n",
    "        output = self.decoder(output)\n",
    "        return output\n",
    "\n",
    "class PositionalEncoding(nn.Module):\n",
    "    def __init__(self, d_model, dropout=0.1, max_len=5000):\n",
    "        super(PositionalEncoding, self).__init__()\n",
    "        self.dropout = nn.Dropout(p=dropout)\n",
    "\n",
    "        position = torch.arange(0, max_len).unsqueeze(1)\n",
    "        div_term = torch.exp(torch.arange(0, d_model, 2) * -(math.log(10000.0) / d_model))\n",
    "        pe = torch.zeros(max_len, 1, d_model)\n",
    "        pe[:, 0, 0::2] = torch.sin(position * div_term)\n",
    "        pe[:, 0, 1::2] = torch.cos(position * div_term)\n",
    "        self.register_buffer('pe', pe)\n",
    "\n",
    "    def forward(self, x):\n",
    "        x = x + self.pe[:x.size(0)]\n",
    "        return self.dropout(x)\n",
    "\n",
    "# Parameters\n",
    "ntokens = 8  # size of vocabulary\n",
    "emsize = 20  # embedding dimension\n",
    "nhead = 4  # number of heads in the nn.MultiheadAttention\n",
    "d_hid = 20  # dimension of the feedforward network model in nn.TransformerEncoder\n",
    "nlayers = 2  # number of nn.TransformerEncoderLayer\n",
    "dropout = 0.03  # dropout probability\n",
    "\n",
    "# Initialize the model\n",
    "model = TransformerModel(ntokens, emsize, nhead, d_hid, nlayers, dropout)\n"
   ]
  },
  {
   "cell_type": "code",
   "execution_count": null,
   "id": "8aad73e3",
   "metadata": {
    "scrolled": false
   },
   "outputs": [
    {
     "name": "stderr",
     "output_type": "stream",
     "text": [
      "/var/folders/v5/p_4s6t910c15jfm5gzfn59d00000gq/T/ipykernel_85847/3156798142.py:8: UserWarning: To copy construct from a tensor, it is recommended to use sourceTensor.clone().detach() or sourceTensor.clone().detach().requires_grad_(True), rather than torch.tensor(sourceTensor).\n",
      "  source = torch.tensor(source, dtype=torch.long)\n",
      "/var/folders/v5/p_4s6t910c15jfm5gzfn59d00000gq/T/ipykernel_85847/3156798142.py:9: UserWarning: To copy construct from a tensor, it is recommended to use sourceTensor.clone().detach() or sourceTensor.clone().detach().requires_grad_(True), rather than torch.tensor(sourceTensor).\n",
      "  target = torch.tensor(target, dtype=torch.long)\n",
      "/var/folders/v5/p_4s6t910c15jfm5gzfn59d00000gq/T/ipykernel_85847/550002729.py:6: UserWarning: To copy construct from a tensor, it is recommended to use sourceTensor.clone().detach() or sourceTensor.clone().detach().requires_grad_(True), rather than torch.tensor(sourceTensor).\n",
      "  source = torch.tensor(source, dtype=torch.long)\n",
      "/var/folders/v5/p_4s6t910c15jfm5gzfn59d00000gq/T/ipykernel_85847/550002729.py:7: UserWarning: To copy construct from a tensor, it is recommended to use sourceTensor.clone().detach() or sourceTensor.clone().detach().requires_grad_(True), rather than torch.tensor(sourceTensor).\n",
      "  target = torch.tensor(target, dtype=torch.long)\n"
     ]
    },
    {
     "name": "stdout",
     "output_type": "stream",
     "text": [
      "Epoch 1, Loss: 0.0049\n",
      "acc: 0.14907084785133565\n",
      "Epoch 101, Loss: 0.0042\n",
      "acc: 0.2753193960511034\n",
      "Epoch 201, Loss: 0.0037\n",
      "acc: 0.38501742160278746\n",
      "Epoch 301, Loss: 0.0029\n",
      "acc: 0.5161440185830429\n",
      "Epoch 401, Loss: 0.0021\n",
      "acc: 0.6451800232288037\n",
      "Epoch 501, Loss: 0.0016\n",
      "acc: 0.7366434378629501\n",
      "Epoch 601, Loss: 0.0012\n",
      "acc: 0.8113240418118467\n",
      "Epoch 701, Loss: 0.0010\n",
      "acc: 0.8557491289198607\n"
     ]
    }
   ],
   "source": [
    "def train(model, source, target, num_epochs=1000, learning_rate=1e-3):\n",
    "    W=[]\n",
    "    model.train()  # Set the model to training mode\n",
    "    criterion = torch.nn.CrossEntropyLoss()\n",
    "    optimizer = torch.optim.Adam(model.parameters(), lr=learning_rate)\n",
    "    \n",
    "    # Assuming source and target are numpy arrays of shape (sentences, 41) and need to be converted to tensors\n",
    "    source = torch.tensor(source, dtype=torch.long)\n",
    "    target = torch.tensor(target, dtype=torch.long)\n",
    "    \n",
    "    for epoch in range(num_epochs):\n",
    "        total_loss = 0\n",
    "        \n",
    "        # Here, we assume batching is handled externally, and source is directly fed into the model\n",
    "        optimizer.zero_grad()  # Clear the gradients of all optimized tensors\n",
    "        \n",
    "        # Adjust for PyTorch expecting (sequence_length, batch_size), so we transpose source and target\n",
    "        src = source.transpose(0, 1)  # Now shape [41, sentences]\n",
    "        tgt = target.transpose(0, 1)  # Now shape [41, sentences]\n",
    "        \n",
    "        output = model(src)  # Forward pass: compute the output of the model\n",
    "        \n",
    "        # Output is [sequence_length, batch_size, ntokens], target is [sequence_length, batch_size]\n",
    "        # Flatten output to [sequence_length*batch_size, ntokens] for compatibility with CrossEntropyLoss\n",
    "        output_flat = output.view(-1, model.ntokens)\n",
    "        tgt_flat = tgt.reshape(-1)\n",
    "        \n",
    "        loss = criterion(output_flat, tgt_flat)  # Compute the loss\n",
    "        loss.backward()  # Backward pass: compute gradient of the loss with respect to model parameters\n",
    "        optimizer.step()  # Perform a single optimization step (parameter update)\n",
    "        \n",
    "        total_loss += loss.item()\n",
    "        \n",
    "        avg_loss = total_loss / src.size(1)  # average loss per sentence\n",
    "        if epoch % 100 ==0:\n",
    "            print(f'Epoch {epoch+1}, Loss: {avg_loss:.4f}')\n",
    "            W.append(test(model,source,target))\n",
    "            print(\"acc:\",W[-1])\n",
    "    return W\n",
    "# Example usage\n",
    "# Assuming `model` is your model instance, and `source`, `target` are your data tensors\n",
    "\n",
    "ntokens = 8  # size of vocabulary\n",
    "emsize = 20  # embedding dimension\n",
    "nhead = 4  # number of heads in the nn.MultiheadAttention\n",
    "d_hid = 20  # dimension of the feedforward network model in nn.TransformerEncoder\n",
    "nlayers = 2  # number of nn.TransformerEncoderLayer\n",
    "dropout = 0.03  # dropout probability\n",
    "\n",
    "# Initialize the model\n",
    "model = TransformerModel(ntokens, emsize, nhead, d_hid, nlayers, dropout)\n",
    "\n",
    "nrOfSongs=10\n",
    "source,target,songs=getTrainingData(songStrings,nrOfSongs)\n",
    "\n",
    "W=train(model, torch.tensor(source), torch.tensor(target),num_epochs=5000)\n",
    "plot(W)"
   ]
  },
  {
   "cell_type": "code",
   "execution_count": 88,
   "id": "219611b5",
   "metadata": {},
   "outputs": [],
   "source": [
    "def test(model, source, target):\n",
    "    model.eval()  # Set the model to evaluation mode\n",
    "    correct = 0\n",
    "    total = 0\n",
    "    \n",
    "    source = torch.tensor(source, dtype=torch.long)\n",
    "    target = torch.tensor(target, dtype=torch.long)\n",
    "\n",
    "    with torch.no_grad():  # No need to track gradients\n",
    "        src = source.transpose(0, 1)  # Adjust for the expected input dimensions [sequence_length, batch_size]\n",
    "        tgt = target.transpose(0, 1)  # Same adjustment for the target\n",
    "        \n",
    "        output = model(src)  # Compute the output\n",
    "        \n",
    "        # The output is [sequence_length, batch_size, ntokens]. Get the most likely token predictions\n",
    "        predictions = output.argmax(dim=2)  # Get the index of the max log-probability\n",
    "        \n",
    "        correct += (predictions == tgt).sum().item()  # Count how many predictions match the target\n",
    "        total += tgt.numel()  # Total number of predictions\n",
    "        \n",
    "    accuracy = correct / total  # Calculate the accuracy\n",
    "    return accuracy"
   ]
  },
  {
   "cell_type": "code",
   "execution_count": 89,
   "id": "2e30a14b",
   "metadata": {},
   "outputs": [
    {
     "name": "stderr",
     "output_type": "stream",
     "text": [
      "/var/folders/v5/p_4s6t910c15jfm5gzfn59d00000gq/T/ipykernel_85847/550002729.py:6: UserWarning: To copy construct from a tensor, it is recommended to use sourceTensor.clone().detach() or sourceTensor.clone().detach().requires_grad_(True), rather than torch.tensor(sourceTensor).\n",
      "  source = torch.tensor(source, dtype=torch.long)\n",
      "/var/folders/v5/p_4s6t910c15jfm5gzfn59d00000gq/T/ipykernel_85847/550002729.py:7: UserWarning: To copy construct from a tensor, it is recommended to use sourceTensor.clone().detach() or sourceTensor.clone().detach().requires_grad_(True), rather than torch.tensor(sourceTensor).\n",
      "  target = torch.tensor(target, dtype=torch.long)\n"
     ]
    },
    {
     "data": {
      "text/plain": [
       "0.9677700348432056"
      ]
     },
     "execution_count": 89,
     "metadata": {},
     "output_type": "execute_result"
    }
   ],
   "source": [
    "test(model,torch.tensor(source),torch.tensor(target))"
   ]
  },
  {
   "cell_type": "code",
   "execution_count": 90,
   "id": "1b48ea28",
   "metadata": {},
   "outputs": [
    {
     "name": "stdout",
     "output_type": "stream",
     "text": [
      "torch.Size([41, 1, 20])\n",
      "Predicted next token index: 0\n",
      "0\n"
     ]
    }
   ],
   "source": [
    "def predict_next_token(model, token_indices,verbose=False):\n",
    "    model.eval()  # Ensure the model is in evaluation mode\n",
    "    \n",
    "    # Convert the list of token indices to a PyTorch tensor and add a batch dimension\n",
    "    src = torch.tensor(token_indices, dtype=torch.long).unsqueeze(1)  # Shape [sequence_length, 1] to match expected input\n",
    "\n",
    "    with torch.no_grad():\n",
    "        output = model(src,verbose)  # Get model output for the entire sequence\n",
    "\n",
    "    # Assuming output is [sequence_length, 1, ntokens] and we're interested in the last token's prediction\n",
    "    last_token_logits = output[-1, 0, :]  # Get logits for the last token\n",
    "    predicted_token_index = last_token_logits.argmax().item()  # Find the index of the max log-probability\n",
    "    \n",
    "    return predicted_token_index\n",
    "\n",
    "# Example usage:\n",
    "# Assuming you have a `model` instance and a sentence represented as a list of token indices\n",
    "# token_indices = [1, 2, 3, 2, 1, 2, 3, ...]\n",
    "who=34\n",
    "predicted_token_index = predict_next_token(model, source[who],verbose=True)\n",
    "print(f'Predicted next token index: {predicted_token_index}')\n",
    "print(target[who][-1])"
   ]
  },
  {
   "cell_type": "code",
   "execution_count": 209,
   "id": "5626ff44",
   "metadata": {},
   "outputs": [
    {
     "name": "stdout",
     "output_type": "stream",
     "text": [
      "(20, 420)\n"
     ]
    },
    {
     "data": {
      "image/png": "[encoded data removed]",
      "text/plain": [
       "<Figure size 640x480 with 1 Axes>"
      ]
     },
     "metadata": {},
     "output_type": "display_data"
    }
   ],
   "source": [
    "def symbolEntropy(D,base=2):\n",
    "    value,counts = numpy.unique(D, return_counts=True)\n",
    "    return entropy(counts,base=base)\n",
    "\n",
    "def computeTransmissionHfast(I,H,O,maskC,maskNC,iMult=2,oMult=2):\n",
    "    #print(\"I H O\",I.shape,H.shape,O.shape)\n",
    "    B=numpy.bitwise_and(H,maskNC)\n",
    "    IB=(B*iMult)+I\n",
    "    AB=H#numpy.bitwise_and(H,maskC+maskNC)\n",
    "    BO=(B*oMult)+O\n",
    "    IAB=(AB*iMult)+I\n",
    "    IBO=(B*(iMult*oMult))+(I*oMult)+O\n",
    "    ABO=(AB*oMult)+O\n",
    "    IABO=(AB*(iMult*oMult))+(I*oMult)+O\n",
    "    hB=symbolEntropy(B, base=2)\n",
    "    hIB=symbolEntropy(IB, base=2)\n",
    "    hAB=symbolEntropy(AB, base=2)\n",
    "    hBO=symbolEntropy(BO, base=2)\n",
    "    hIAB=symbolEntropy(IAB, base=2)\n",
    "    hIBO=symbolEntropy(IBO, base=2)\n",
    "    hABO=symbolEntropy(ABO, base=2)\n",
    "    hIABO=symbolEntropy(IABO, base=2)\n",
    "    #-H(B)+H(IB)+H(AB)+H(BO)-H(IAB)-H(IBO)-H(ABO)+H(IABO)\n",
    "    #print(hB,hIB,hAB,hBO,hIAB,hIBO,hABO,hIABO)\n",
    "    return-hB+hIB+hAB+hBO-hIAB-hIBO-hABO+hIABO\n",
    "\n",
    "def singleShrinkingDecompositionInformation(I,H,O,width,iMult=2,oMult=2):\n",
    "    nodes=list(range(width))\n",
    "    cols=[]\n",
    "    colh=[]\n",
    "    while len(nodes)>0:\n",
    "        infos=[]\n",
    "        for node in nodes:\n",
    "            subset=copy.deepcopy(nodes)\n",
    "            subset.remove(node)\n",
    "            maskA=0\n",
    "            for s in subset:\n",
    "                maskA+=1*(2**s)\n",
    "            maskA=int(maskA)\n",
    "            maskB=numpy.bitwise_and(numpy.bitwise_not(maskA),((2**width)-1))\n",
    "            h=computeTransmissionHfast(I,H,O,maskA,maskB,iMult=iMult,oMult=oMult)\n",
    "            infos.append(h)\n",
    "        nodeToDrop=nodes[infos.index(max(infos))]\n",
    "        nodes.remove(nodeToDrop)\n",
    "        cols.append(copy.deepcopy(nodes))\n",
    "        colh.append(max(infos))\n",
    "    return cols,colh\n",
    "\n",
    "def getAllIOH(model,source,target,songs,width=20):\n",
    "    I=[]\n",
    "    O=[]\n",
    "    H=[]\n",
    "    for i in range(len(songs)):\n",
    "        I.append(songs[i])\n",
    "        predicted_token_index = predict_next_token(model, source[i])\n",
    "        if predicted_token_index==target[i][-1]:\n",
    "            O.append(songs[i])\n",
    "        else:\n",
    "            O.append((songs[i]+1)%max(songs))\n",
    "        H.append(list(model.store[-1].flatten()))\n",
    "    H=numpy.array(H).transpose()\n",
    "    imshow(H)\n",
    "    B=numpy.zeros(H.shape)\n",
    "    clusterNr=2\n",
    "    for i in range(B.shape[0]):\n",
    "        a=H[i].reshape(-1, 1)\n",
    "        if len(numpy.unique(a))==1:\n",
    "            who=numpy.random.randint(len(a))\n",
    "            a[who]=1-a[who]\n",
    "        kmeans = KMeans(n_clusters=clusterNr,n_init=10).fit(a)\n",
    "        B[i]=kmeans.labels_\n",
    "    print(B.shape)\n",
    "    H=numpy.zeros((H.shape[1]))\n",
    "    for i in range(width):\n",
    "        H+=B[i]*(clusterNr**i)\n",
    "    H=H.astype((int))\n",
    "    return numpy.array(I),numpy.array(O),H\n",
    "\n",
    "def shrinkingDecompositionInformation(model,source,target,songs,numbers=[0,1,2,3],width=20):\n",
    "    allI,allO,H=getAllIOH(model,source,target,songs,width=width)\n",
    "    collectorSet=dict()\n",
    "    collectorH=dict()\n",
    "    for number in numbers:\n",
    "        I=(1*(songs==number)).astype(int)\n",
    "        O=(1*(allO==number)).astype(int)\n",
    "        s,h=singleShrinkingDecompositionInformation(I,H,O,width)\n",
    "        collectorSet[number]=s\n",
    "        collectorH[number]=h\n",
    "    return collectorSet,collectorH\n",
    "\n",
    "def removalIntoVec(res,width,H):\n",
    "    V=numpy.zeros(width)\n",
    "    #for i,r in enumerate(res):\n",
    "    #    for e in r:\n",
    "    #        V[e]+=H[0]-H[i]\n",
    "    fullSet=list(range(width))\n",
    "    nRes=copy.deepcopy(res)\n",
    "    nRes.insert(0,fullSet)\n",
    "    nodeList=[]\n",
    "    for i in range(width):\n",
    "        removedNode=list(set(nRes[i])-set(nRes[i+1]))[0]\n",
    "        nodeList.append(removedNode)\n",
    "    for i,node in enumerate(nodeList):\n",
    "        V[node]=H[0]-H[i]\n",
    "    #V=sqrt(V)\n",
    "    if V.sum()==0:\n",
    "        return V\n",
    "    return V#/V.max()\n",
    "\n",
    "def removalIntoMatrix(res,width,H):\n",
    "    M=[]\n",
    "    for i in range(len(res)):\n",
    "        M.append(removalIntoVec(res[i],width,H[i]))\n",
    "    return numpy.array(M)\n",
    "\n",
    "s,h=shrinkingDecompositionInformation(model,source,target,songs,numbers=list(range(10)),width=20)"
   ]
  },
  {
   "cell_type": "code",
   "execution_count": 207,
   "id": "2ffa17e7",
   "metadata": {
    "scrolled": true
   },
   "outputs": [],
   "source": [
    "M=removalIntoMatrix(s,20,h)"
   ]
  },
  {
   "cell_type": "code",
   "execution_count": 208,
   "id": "0966474b",
   "metadata": {},
   "outputs": [
    {
     "name": "stdout",
     "output_type": "stream",
     "text": [
      "0.014703536095720171 -0.03460333316354136\n"
     ]
    },
    {
     "data": {
      "image/png": "[encoded data removed]",
      "text/plain": [
       "<Figure size 640x480 with 1 Axes>"
      ]
     },
     "metadata": {},
     "output_type": "display_data"
    }
   ],
   "source": [
    "imshow(M,cmap=\"gray\")\n",
    "print(M.max(),M.min())"
   ]
  },
  {
   "cell_type": "code",
   "execution_count": 201,
   "id": "fe4530b0",
   "metadata": {},
   "outputs": [
    {
     "name": "stdout",
     "output_type": "stream",
     "text": [
      "(20, 420)\n"
     ]
    },
    {
     "data": {
      "image/png": "[encoded data removed]",
      "text/plain": [
       "<Figure size 640x480 with 1 Axes>"
      ]
     },
     "metadata": {},
     "output_type": "display_data"
    }
   ],
   "source": [
    "allI,allO,H=getAllIOH(model,source,target,songs,width=20)"
   ]
  },
  {
   "cell_type": "code",
   "execution_count": 197,
   "id": "7c4158a1",
   "metadata": {
    "scrolled": true
   },
   "outputs": [],
   "source": [
    "number=5\n",
    "I=(1*(songs==number)).astype(int)\n",
    "O=(target.transpose()[-1]==allO)"
   ]
  },
  {
   "cell_type": "code",
   "execution_count": 202,
   "id": "0efa0cdb",
   "metadata": {},
   "outputs": [
    {
     "data": {
      "text/plain": [
       "array([0, 0, 0, 0, 0, 0, 0, 0, 0, 0, 0, 0, 0, 0, 0, 0, 0, 0, 0, 0, 0, 0,\n",
       "       0, 0, 0, 0, 0, 0, 0, 0, 0, 0, 0, 0, 0, 0, 0, 0, 0, 0, 0, 0, 1, 1,\n",
       "       1, 1, 1, 1, 1, 1, 1, 1, 1, 1, 1, 1, 1, 1, 1, 1, 1, 1, 1, 1, 1, 1,\n",
       "       1, 1, 1, 1, 1, 1, 1, 1, 1, 1, 1, 1, 1, 1, 1, 1, 1, 1, 2, 2, 2, 2,\n",
       "       2, 2, 2, 2, 2, 2, 2, 2, 2, 2, 2, 2, 2, 2, 2, 2, 2, 2, 2, 2, 2, 2,\n",
       "       2, 2, 2, 2, 2, 2, 2, 2, 2, 2, 2, 2, 2, 2, 2, 2, 3, 3, 3, 3, 3, 3,\n",
       "       3, 3, 3, 3, 3, 3, 3, 3, 3, 3, 3, 3, 3, 3, 3, 3, 3, 3, 3, 3, 3, 3,\n",
       "       3, 3, 3, 3, 3, 3, 3, 3, 3, 3, 3, 3, 3, 3, 4, 4, 4, 4, 4, 4, 4, 4,\n",
       "       4, 4, 4, 4, 4, 4, 4, 4, 4, 4, 4, 4, 4, 4, 4, 4, 4, 4, 4, 4, 4, 4,\n",
       "       4, 4, 4, 4, 4, 4, 4, 4, 4, 4, 4, 4, 5, 5, 5, 5, 5, 5, 5, 5, 5, 5,\n",
       "       5, 5, 5, 5, 5, 5, 5, 5, 5, 5, 5, 5, 5, 5, 5, 5, 5, 5, 5, 5, 5, 5,\n",
       "       5, 5, 5, 5, 5, 5, 5, 5, 5, 5, 6, 6, 6, 6, 6, 6, 6, 6, 6, 6, 6, 6,\n",
       "       6, 6, 6, 6, 6, 6, 6, 6, 6, 6, 6, 6, 6, 6, 6, 6, 6, 6, 6, 6, 6, 6,\n",
       "       6, 6, 6, 6, 6, 6, 6, 6, 7, 7, 7, 7, 7, 7, 7, 7, 7, 7, 7, 7, 7, 7,\n",
       "       7, 7, 7, 7, 7, 7, 7, 7, 7, 7, 7, 7, 7, 7, 7, 7, 7, 7, 7, 7, 7, 7,\n",
       "       7, 7, 7, 7, 7, 7, 8, 8, 8, 8, 8, 8, 8, 8, 8, 8, 8, 8, 8, 8, 8, 8,\n",
       "       8, 8, 8, 8, 8, 8, 8, 8, 8, 8, 8, 8, 8, 8, 8, 8, 8, 8, 8, 8, 8, 8,\n",
       "       8, 8, 8, 8, 9, 9, 9, 9, 9, 9, 9, 9, 9, 9, 9, 9, 9, 9, 9, 9, 9, 9,\n",
       "       9, 9, 9, 9, 9, 9, 9, 9, 9, 9, 9, 9, 9, 9, 9, 9, 9, 9, 9, 9, 9, 9,\n",
       "       9, 9])"
      ]
     },
     "execution_count": 202,
     "metadata": {},
     "output_type": "execute_result"
    }
   ],
   "source": [
    "allI"
   ]
  },
  {
   "cell_type": "code",
   "execution_count": 203,
   "id": "cda2ede8",
   "metadata": {},
   "outputs": [
    {
     "data": {
      "text/plain": [
       "array([0, 0, 0, 0, 0, 0, 0, 0, 0, 0, 0, 0, 0, 0, 0, 0, 0, 0, 0, 0, 0, 0,\n",
       "       0, 0, 0, 0, 0, 0, 0, 0, 0, 0, 0, 0, 0, 0, 0, 0, 0, 0, 0, 0, 1, 1,\n",
       "       1, 1, 1, 1, 1, 1, 1, 1, 1, 1, 1, 1, 1, 1, 1, 1, 1, 1, 1, 1, 1, 1,\n",
       "       1, 1, 1, 1, 1, 1, 1, 1, 1, 1, 1, 1, 1, 1, 1, 1, 1, 1, 2, 2, 2, 2,\n",
       "       2, 2, 2, 2, 2, 2, 2, 2, 2, 2, 2, 2, 2, 2, 2, 2, 2, 2, 2, 2, 2, 2,\n",
       "       2, 2, 2, 2, 2, 2, 2, 2, 2, 2, 2, 2, 2, 2, 2, 2, 3, 3, 3, 3, 3, 3,\n",
       "       3, 3, 3, 3, 3, 3, 3, 3, 3, 3, 3, 3, 3, 3, 3, 3, 3, 3, 3, 3, 3, 3,\n",
       "       3, 3, 3, 3, 3, 3, 3, 3, 3, 3, 3, 3, 3, 3, 4, 4, 4, 4, 4, 4, 4, 4,\n",
       "       4, 4, 4, 4, 4, 4, 4, 4, 4, 4, 4, 4, 4, 4, 4, 4, 4, 4, 4, 4, 4, 4,\n",
       "       4, 4, 4, 4, 4, 4, 4, 4, 4, 4, 4, 4, 5, 5, 5, 5, 5, 5, 5, 5, 5, 5,\n",
       "       5, 5, 5, 5, 5, 5, 5, 5, 5, 5, 5, 5, 5, 5, 5, 5, 5, 5, 5, 5, 5, 5,\n",
       "       5, 5, 5, 5, 5, 5, 5, 5, 5, 5, 6, 6, 6, 6, 6, 6, 6, 6, 6, 6, 6, 6,\n",
       "       6, 6, 6, 6, 6, 6, 6, 6, 6, 6, 6, 6, 6, 6, 6, 6, 6, 6, 6, 6, 6, 6,\n",
       "       6, 6, 6, 6, 6, 6, 6, 6, 7, 7, 7, 7, 7, 7, 7, 7, 7, 7, 7, 7, 7, 7,\n",
       "       7, 7, 7, 7, 7, 7, 7, 7, 7, 7, 7, 7, 7, 7, 7, 7, 7, 7, 7, 7, 7, 7,\n",
       "       7, 7, 7, 7, 7, 7, 8, 8, 8, 8, 8, 8, 8, 8, 8, 8, 8, 8, 8, 8, 8, 8,\n",
       "       8, 8, 8, 8, 8, 8, 8, 8, 8, 8, 8, 8, 8, 8, 8, 8, 8, 8, 8, 8, 8, 8,\n",
       "       8, 8, 8, 8, 9, 9, 9, 9, 9, 9, 9, 9, 9, 9, 9, 9, 9, 9, 9, 9, 9, 9,\n",
       "       9, 9, 9, 9, 9, 9, 9, 9, 9, 9, 9, 9, 9, 9, 9, 9, 9, 9, 9, 9, 9, 9,\n",
       "       9, 9])"
      ]
     },
     "execution_count": 203,
     "metadata": {},
     "output_type": "execute_result"
    }
   ],
   "source": [
    "allO"
   ]
  },
  {
   "cell_type": "code",
   "execution_count": 195,
   "id": "69ade25e",
   "metadata": {},
   "outputs": [
    {
     "data": {
      "text/plain": [
       "array([2, 2, 2, 6, 6, 0, 0, 6, 5, 5, 4, 4, 3, 3, 2, 6, 6, 5, 5, 4, 4, 3,\n",
       "       6, 6, 5, 5, 4, 4, 3, 2, 2, 6, 6, 0, 0, 6, 5, 5, 4, 4, 3, 3, 5, 0,\n",
       "       1, 2, 3, 4, 5, 0, 1, 2, 3, 4, 5, 0, 1, 2, 3, 4, 5, 0, 1, 2, 3, 4,\n",
       "       5, 0, 1, 2, 3, 4, 5, 0, 1, 2, 3, 4, 5, 0, 1, 2, 3, 4, 4, 0, 1, 0,\n",
       "       2, 0, 3, 0, 4, 0, 5, 0, 1, 4, 5, 0, 3, 4, 2, 1, 0, 1, 2, 5, 4, 3,\n",
       "       4, 5, 0, 1, 2, 0, 3, 4, 1, 0, 2, 0, 3, 5, 0, 1, 1, 3, 1, 2, 0, 2,\n",
       "       1, 2, 5, 5, 3, 2, 4, 5, 5, 4, 5, 2, 3, 3, 4, 5, 4, 1, 4, 0, 2, 5,\n",
       "       4, 2, 1, 1, 1, 2, 1, 4, 2, 1, 5, 3, 0, 5, 1, 0, 1, 4, 1, 2, 0, 4,\n",
       "       5, 2, 3, 5, 5, 1, 2, 1, 3, 1, 1, 1, 2, 4, 3, 2, 1, 5, 1, 5, 5, 4,\n",
       "       2, 1, 2, 4, 1, 2, 0, 0, 5, 5, 0, 3, 0, 1, 4, 4, 5, 1, 0, 5, 3, 0,\n",
       "       4, 0, 0, 4, 5, 3, 1, 3, 5, 3, 4, 5, 2, 0, 2, 4, 1, 2, 2, 3, 0, 2,\n",
       "       4, 0, 2, 0, 2, 4, 4, 3, 1, 0, 2, 1, 5, 4, 1, 5, 4, 4, 1, 3, 1, 2,\n",
       "       5, 4, 0, 0, 2, 0, 0, 0, 5, 3, 5, 2, 1, 5, 1, 5, 4, 0, 0, 2, 5, 5,\n",
       "       2, 0, 0, 1, 2, 4, 3, 3, 5, 1, 0, 3, 3, 5, 5, 4, 0, 3, 1, 4, 3, 5,\n",
       "       3, 5, 1, 4, 1, 2, 2, 0, 3, 4, 5, 3, 4, 0, 1, 1, 5, 3, 4, 5, 5, 4,\n",
       "       1, 4, 4, 5, 3, 4, 5, 0, 1, 5, 5, 4, 3, 1, 3, 1, 5, 4, 2, 4, 3, 4,\n",
       "       0, 4, 1, 1, 4, 4, 2, 5, 3, 3, 0, 4, 3, 2, 3, 1, 1, 5, 2, 0, 3, 0,\n",
       "       3, 1, 1, 2, 3, 3, 5, 1, 2, 4, 1, 3, 0, 0, 3, 0, 0, 5, 2, 3, 0, 2,\n",
       "       0, 3, 3, 0, 5, 5, 0, 2, 3, 2, 5, 2, 2, 3, 3, 3, 2, 5, 1, 4, 1, 1,\n",
       "       3, 4])"
      ]
     },
     "execution_count": 195,
     "metadata": {},
     "output_type": "execute_result"
    }
   ],
   "source": [
    "allI"
   ]
  },
  {
   "cell_type": "code",
   "execution_count": null,
   "id": "0277a48e",
   "metadata": {},
   "outputs": [],
   "source": []
  }
 ],
 "metadata": {
  "kernelspec": {
   "display_name": "Python 3 (ipykernel)",
   "language": "python",
   "name": "python3"
  },
  "language_info": {
   "codemirror_mode": {
    "name": "ipython",
    "version": 3
   },
   "file_extension": ".py",
   "mimetype": "text/x-python",
   "name": "python",
   "nbconvert_exporter": "python",
   "pygments_lexer": "ipython3",
   "version": "3.10.4"
  }
 },
 "nbformat": 4,
 "nbformat_minor": 5
}
