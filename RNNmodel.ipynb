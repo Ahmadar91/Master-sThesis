{
 "cells": [
  {
   "cell_type": "code",
   "execution_count": 1,
   "id": "46268dd5",
   "metadata": {},
   "outputs": [
    {
     "name": "stdout",
     "output_type": "stream",
     "text": [
      "%pylab is deprecated, use %matplotlib inline and import the required libraries.\n",
      "Populating the interactive namespace from numpy and matplotlib\n"
     ]
    }
   ],
   "source": [
    "%pylab inline"
   ]
  },
  {
   "cell_type": "code",
   "execution_count": 2,
   "id": "897a5baa",
   "metadata": {},
   "outputs": [],
   "source": [
    "import torch\n",
    "import torch.nn as nn\n",
    "import torch.optim as optim"
   ]
  },
  {
   "cell_type": "code",
   "execution_count": 3,
   "id": "3fd9e81e",
   "metadata": {},
   "outputs": [
    {
     "data": {
      "text/plain": [
       "<matplotlib.image.AxesImage at 0x239a32456d0>"
      ]
     },
     "execution_count": 3,
     "metadata": {},
     "output_type": "execute_result"
    },
    {
     "data": {
      "image/png": "[encoded data removed]",
      "text/plain": [
       "<Figure size 640x480 with 2 Axes>"
      ]
     },
     "metadata": {},
     "output_type": "display_data"
    }
   ],
   "source": [
    "\n",
    "songStrings = numpy.array([\n",
    "    \"CCGGAAGFFEEDDCGGFFEEDGGFFEEDCCGGAAGFFEEDDC\",\n",
    "    \"ABCDEFABCDEFABCDEFABCDEFABCDEFABCDEFABCDEF\",\n",
    "    \"ABACADAEAFABEFADECBABCFEDEFABCADEBACADFABE\",\n",
    "    \"DBCACBCFFDCEFFEFCDDEFEBEACFECBBBCBECBFDAFB\",\n",
    "    \"ABEBCAEFCDFFBCBDBBBCEDCBFBFFECBCEBCAAFFADB\",\n",
    "    \"BEEFBAFDAEAAEFDBDFDEFCACEBCCDACEACACEEDBAA\",\n",
    "    \"BFEBFEEBDBCFEAACAAAFDFCBFBFEAACFFCAABCEDDC\",\n",
    "    \"BADDFFEADBEDFDFBEBCCADEFDEABBFDEFFEBEEFDEF\",\n",
    "    \"ABFFEDBDBFECEDEAEBBEECFDDAEDCDBBFCADADBBCF\",\n",
    "    \"DFBCEBDAADAAFCDACADDAFFACDCFCCDDDCFBEBBDED\",\n",
    "    \"CCFBEFDDCBFDADDBFBCCEEABAFAAAEDCDCEAEFBFCD\",\n",
    "    \"EBADFFAAFADDDABEABBDFDCAFBCDEEBBBECDDFEEAE\",\n",
    "    \"AFADDFEFADDBCDCFEEFCAEEEDFFEDBCADBBDBAEFCD\"])\n",
    "\n",
    "notes=list(\"ABCDEFGH\")\n",
    "\n",
    "\n",
    "def generateIOData(songNr,songStrings=songStrings):\n",
    "    I=numpy.zeros((41,8))\n",
    "    O=numpy.zeros((41,8))\n",
    "    for i in range(41):\n",
    "        I[i][notes.index(songStrings[songNr][i])]=1.0\n",
    "        O[i][notes.index(songStrings[songNr][i+1])]=1.0\n",
    "    return I,O\n",
    "\n",
    "I,O=generateIOData(0,songStrings)\n",
    "subplot(1,2,1)\n",
    "imshow(I)\n",
    "subplot(1,2,2)\n",
    "imshow(O)"
   ]
  },
  {
   "cell_type": "code",
   "execution_count": 4,
   "id": "fa8349c8",
   "metadata": {},
   "outputs": [
    {
     "data": {
      "text/plain": [
       "array([[0., 0., 1., 0., 0., 0., 0., 0.],\n",
       "       [0., 0., 1., 0., 0., 0., 0., 0.],\n",
       "       [0., 0., 0., 0., 0., 0., 1., 0.],\n",
       "       [0., 0., 0., 0., 0., 0., 1., 0.],\n",
       "       [1., 0., 0., 0., 0., 0., 0., 0.],\n",
       "       [1., 0., 0., 0., 0., 0., 0., 0.],\n",
       "       [0., 0., 0., 0., 0., 0., 1., 0.],\n",
       "       [0., 0., 0., 0., 0., 1., 0., 0.],\n",
       "       [0., 0., 0., 0., 0., 1., 0., 0.],\n",
       "       [0., 0., 0., 0., 1., 0., 0., 0.],\n",
       "       [0., 0., 0., 0., 1., 0., 0., 0.],\n",
       "       [0., 0., 0., 1., 0., 0., 0., 0.],\n",
       "       [0., 0., 0., 1., 0., 0., 0., 0.],\n",
       "       [0., 0., 1., 0., 0., 0., 0., 0.],\n",
       "       [0., 0., 0., 0., 0., 0., 1., 0.],\n",
       "       [0., 0., 0., 0., 0., 0., 1., 0.],\n",
       "       [0., 0., 0., 0., 0., 1., 0., 0.],\n",
       "       [0., 0., 0., 0., 0., 1., 0., 0.],\n",
       "       [0., 0., 0., 0., 1., 0., 0., 0.],\n",
       "       [0., 0., 0., 0., 1., 0., 0., 0.],\n",
       "       [0., 0., 0., 1., 0., 0., 0., 0.],\n",
       "       [0., 0., 0., 0., 0., 0., 1., 0.],\n",
       "       [0., 0., 0., 0., 0., 0., 1., 0.],\n",
       "       [0., 0., 0., 0., 0., 1., 0., 0.],\n",
       "       [0., 0., 0., 0., 0., 1., 0., 0.],\n",
       "       [0., 0., 0., 0., 1., 0., 0., 0.],\n",
       "       [0., 0., 0., 0., 1., 0., 0., 0.],\n",
       "       [0., 0., 0., 1., 0., 0., 0., 0.],\n",
       "       [0., 0., 1., 0., 0., 0., 0., 0.],\n",
       "       [0., 0., 1., 0., 0., 0., 0., 0.],\n",
       "       [0., 0., 0., 0., 0., 0., 1., 0.],\n",
       "       [0., 0., 0., 0., 0., 0., 1., 0.],\n",
       "       [1., 0., 0., 0., 0., 0., 0., 0.],\n",
       "       [1., 0., 0., 0., 0., 0., 0., 0.],\n",
       "       [0., 0., 0., 0., 0., 0., 1., 0.],\n",
       "       [0., 0., 0., 0., 0., 1., 0., 0.],\n",
       "       [0., 0., 0., 0., 0., 1., 0., 0.],\n",
       "       [0., 0., 0., 0., 1., 0., 0., 0.],\n",
       "       [0., 0., 0., 0., 1., 0., 0., 0.],\n",
       "       [0., 0., 0., 1., 0., 0., 0., 0.],\n",
       "       [0., 0., 0., 1., 0., 0., 0., 0.]])"
      ]
     },
     "execution_count": 4,
     "metadata": {},
     "output_type": "execute_result"
    }
   ],
   "source": [
    "I"
   ]
  },
  {
   "cell_type": "code",
   "execution_count": 7,
   "id": "52eb15f4",
   "metadata": {},
   "outputs": [
    {
     "data": {
      "text/plain": [
       "torch.Size([41, 8])"
      ]
     },
     "execution_count": 7,
     "metadata": {},
     "output_type": "execute_result"
    }
   ],
   "source": [
    "class SimpleRNNModel(nn.Module):\n",
    "    def __init__(self):\n",
    "        super(SimpleRNNModel, self).__init__()\n",
    "        self.expansion_layer = nn.Linear(in_features=8, out_features=20)\n",
    "        self.rnn_layer = nn.GRU(input_size=20, hidden_size=20, batch_first=True)\n",
    "        self.output_layer = nn.Linear(in_features=20, out_features=8)\n",
    "\n",
    "    def forward(self, x):\n",
    "        x = torch.relu(self.expansion_layer(x))\n",
    "        x, _ = self.rnn_layer(x)\n",
    "        x = torch.sigmoid(self.output_layer(x))\n",
    "        return x\n",
    "model=SimpleRNNModel()\n",
    "output=model(torch.Tensor(I))\n",
    "output.shape"
   ]
  },
  {
   "cell_type": "code",
   "execution_count": 11,
   "id": "bf524d98",
   "metadata": {},
   "outputs": [
    {
     "name": "stdout",
     "output_type": "stream",
     "text": [
      "Epoch 1, Loss: 0.2220947578549385, Losses: [0.22 0.23 0.22 0.23 0.22 0.22 0.22 0.22 0.22 0.22]\n",
      "Epoch 11, Loss: 0.10963219106197357, Losses: [0.11 0.11 0.11 0.11 0.11 0.11 0.11 0.11 0.11 0.11]\n",
      "Epoch 21, Loss: 0.1072995662689209, Losses: [0.11 0.11 0.11 0.11 0.11 0.11 0.11 0.11 0.11 0.11]\n",
      "Epoch 31, Loss: 0.1064429111778736, Losses: [0.11 0.11 0.11 0.11 0.11 0.11 0.11 0.1  0.11 0.11]\n",
      "Epoch 41, Loss: 0.10590460672974586, Losses: [0.11 0.1  0.11 0.11 0.11 0.11 0.1  0.1  0.11 0.11]\n",
      "Epoch 51, Loss: 0.1055390052497387, Losses: [0.11 0.1  0.1  0.11 0.1  0.1  0.1  0.1  0.1  0.11]\n",
      "Epoch 61, Loss: 0.10524518117308616, Losses: [0.11 0.1  0.1  0.1  0.1  0.1  0.1  0.1  0.1  0.11]\n",
      "Epoch 71, Loss: 0.10495230928063393, Losses: [0.11 0.1  0.1  0.1  0.1  0.1  0.1  0.1  0.1  0.11]\n",
      "Epoch 81, Loss: 0.10469764843583107, Losses: [0.11 0.1  0.1  0.1  0.1  0.1  0.1  0.1  0.1  0.11]\n",
      "Epoch 91, Loss: 0.10439773574471474, Losses: [0.11 0.1  0.1  0.1  0.1  0.1  0.1  0.1  0.1  0.11]\n",
      "Epoch 101, Loss: 0.10412008091807365, Losses: [0.11 0.1  0.1  0.1  0.1  0.1  0.1  0.1  0.1  0.1 ]\n",
      "Epoch 111, Loss: 0.10383878871798516, Losses: [0.11 0.1  0.1  0.1  0.1  0.1  0.1  0.1  0.1  0.11]\n",
      "Epoch 121, Loss: 0.10358898714184761, Losses: [0.11 0.1  0.1  0.1  0.1  0.1  0.1  0.1  0.1  0.11]\n",
      "Epoch 131, Loss: 0.10337038412690162, Losses: [0.11 0.1  0.1  0.1  0.1  0.1  0.1  0.1  0.1  0.11]\n",
      "Epoch 141, Loss: 0.10313463732600212, Losses: [0.11 0.09 0.1  0.1  0.1  0.1  0.1  0.1  0.11 0.11]\n",
      "Epoch 151, Loss: 0.10292207673192025, Losses: [0.11 0.09 0.1  0.1  0.1  0.1  0.1  0.1  0.11 0.11]\n",
      "Epoch 161, Loss: 0.10270375534892082, Losses: [0.11 0.09 0.1  0.1  0.1  0.11 0.1  0.1  0.11 0.11]\n",
      "Epoch 171, Loss: 0.10244479477405548, Losses: [0.11 0.09 0.1  0.1  0.1  0.11 0.1  0.1  0.11 0.11]\n",
      "Epoch 181, Loss: 0.10221618860960006, Losses: [0.11 0.09 0.1  0.1  0.1  0.11 0.1  0.1  0.11 0.11]\n",
      "Epoch 191, Loss: 0.10173331052064896, Losses: [0.11 0.09 0.1  0.1  0.1  0.11 0.1  0.1  0.11 0.11]\n"
     ]
    }
   ],
   "source": [
    "model = SimpleRNNModel()\n",
    "\n",
    "songs =  list(range(10))\n",
    "\n",
    "# Loss function and optimizer\n",
    "criterion = nn.MSELoss()\n",
    "optimizer = optim.Adam(model.parameters())\n",
    "\n",
    "num_epochs = 1000  # Number of times to iterate over the entire dataset\n",
    "\n",
    "for epoch in range(num_epochs):\n",
    "    # Shuffle songs for each epoch\n",
    "    numpy.random.shuffle(songs)\n",
    "    acc=numpy.zeros((10))\n",
    "    for song in songs:\n",
    "        # Generate input-output data for the current song\n",
    "        I, O = generateIOData(song)\n",
    "        \n",
    "        # Convert data to tensors if not already\n",
    "        inputs = torch.tensor([I], dtype=torch.float)\n",
    "        targets = torch.tensor([O], dtype=torch.float) # Assuming O is one-hot encoded and targets are needed for CrossEntropyLoss\n",
    "        \n",
    "        # Forward pass\n",
    "        outputs = model(inputs)\n",
    "        \n",
    "        # Calculate loss\n",
    "        loss = criterion(outputs, targets)  # Reshape to match [batch_size*sequence_length, num_classes]\n",
    "        \n",
    "        # Zero gradients, perform a backward pass, and update the weights\n",
    "        optimizer.zero_grad()\n",
    "        loss.backward()\n",
    "        optimizer.step()\n",
    "        acc[song]=loss.item()\n",
    "    if epoch%10==0: \n",
    "        print(f'Epoch {epoch+1}, Loss: {mean(acc)}, Losses: {numpy.round(acc,2)}')"
   ]
  },
  {
   "cell_type": "code",
   "execution_count": 12,
   "id": "069f5d16",
   "metadata": {},
   "outputs": [
    {
     "data": {
      "text/plain": [
       "<matplotlib.image.AxesImage at 0x239a9a7db10>"
      ]
     },
     "execution_count": 12,
     "metadata": {},
     "output_type": "execute_result"
    },
    {
     "data": {
      "image/png": "[encoded data removed]",
      "text/plain": [
       "<Figure size 640x480 with 2 Axes>"
      ]
     },
     "metadata": {},
     "output_type": "display_data"
    }
   ],
   "source": [
    "subplot(1,2,1)\n",
    "imshow(outputs.detach().numpy()[0])\n",
    "subplot(1,2,2)\n",
    "imshow(targets[0])"
   ]
  },
  {
   "cell_type": "code",
   "execution_count": 51,
   "id": "f0385249",
   "metadata": {},
   "outputs": [
    {
     "data": {
      "text/plain": [
       "tensor([[[6.2933e-02, 8.4348e-01, 2.4340e-02, 6.7004e-04, 6.7271e-02,\n",
       "          3.3749e-02, 1.5372e-01, 3.6649e-02],\n",
       "         [5.5829e-03, 2.0019e-02, 9.6167e-01, 1.5576e-02, 4.8777e-03,\n",
       "          1.8232e-02, 4.1632e-02, 1.6342e-02],\n",
       "         [3.6625e-02, 6.2356e-04, 1.1142e-02, 9.2309e-01, 1.6710e-02,\n",
       "          7.8689e-03, 8.3584e-02, 3.6198e-03],\n",
       "         [2.6538e-03, 3.6964e-02, 7.7927e-03, 3.6237e-02, 9.4119e-01,\n",
       "          4.9598e-02, 1.2687e-02, 1.1308e-02],\n",
       "         [1.7936e-02, 2.7198e-02, 1.8638e-02, 3.1620e-02, 2.1931e-02,\n",
       "          9.2525e-01, 6.8082e-03, 1.3973e-02],\n",
       "         [9.6984e-01, 4.7989e-02, 3.7386e-03, 4.3506e-02, 8.7859e-03,\n",
       "          2.6663e-02, 2.8280e-02, 1.6428e-02],\n",
       "         [5.8935e-02, 9.1907e-01, 2.9881e-02, 6.1778e-05, 5.8253e-02,\n",
       "          1.3496e-02, 4.1035e-02, 2.0352e-02],\n",
       "         [3.9281e-03, 1.9236e-02, 9.5525e-01, 2.0004e-02, 1.1086e-02,\n",
       "          9.6329e-03, 3.3709e-02, 1.5818e-02],\n",
       "         [2.9192e-02, 5.9306e-04, 1.1793e-02, 9.1970e-01, 1.9825e-02,\n",
       "          9.3576e-03, 5.9393e-02, 3.5226e-03],\n",
       "         [3.0630e-03, 3.7747e-02, 5.2690e-03, 4.2849e-02, 9.4153e-01,\n",
       "          4.2528e-02, 1.2417e-02, 1.0937e-02],\n",
       "         [1.8007e-02, 2.8543e-02, 1.9521e-02, 2.7185e-02, 2.0026e-02,\n",
       "          9.2730e-01, 7.0778e-03, 1.4218e-02],\n",
       "         [9.7090e-01, 4.7646e-02, 3.8859e-03, 4.4479e-02, 8.3869e-03,\n",
       "          2.6963e-02, 2.8407e-02, 1.6612e-02],\n",
       "         [5.9910e-02, 9.1970e-01, 2.9787e-02, 6.2210e-05, 5.7812e-02,\n",
       "          1.3592e-02, 4.1090e-02, 2.0501e-02],\n",
       "         [3.9171e-03, 1.9288e-02, 9.5554e-01, 1.9981e-02, 1.1117e-02,\n",
       "          9.6195e-03, 3.3789e-02, 1.5893e-02],\n",
       "         [2.9220e-02, 5.9308e-04, 1.1798e-02, 9.1970e-01, 1.9802e-02,\n",
       "          9.3539e-03, 5.9471e-02, 3.5227e-03],\n",
       "         [3.0619e-03, 3.7733e-02, 5.2740e-03, 4.2851e-02, 9.4152e-01,\n",
       "          4.2540e-02, 1.2419e-02, 1.0937e-02],\n",
       "         [1.8005e-02, 2.8533e-02, 1.9514e-02, 2.7203e-02, 2.0037e-02,\n",
       "          9.2730e-01, 7.0765e-03, 1.4216e-02],\n",
       "         [9.7090e-01, 4.7649e-02, 3.8853e-03, 4.4472e-02, 8.3888e-03,\n",
       "          2.6963e-02, 2.8406e-02, 1.6612e-02],\n",
       "         [5.9908e-02, 9.1970e-01, 2.9788e-02, 6.2208e-05, 5.7813e-02,\n",
       "          1.3591e-02, 4.1089e-02, 2.0501e-02],\n",
       "         [3.9172e-03, 1.9288e-02, 9.5554e-01, 1.9981e-02, 1.1117e-02,\n",
       "          9.6195e-03, 3.3789e-02, 1.5893e-02],\n",
       "         [2.9220e-02, 5.9308e-04, 1.1798e-02, 9.1970e-01, 1.9802e-02,\n",
       "          9.3539e-03, 5.9471e-02, 3.5227e-03],\n",
       "         [3.0619e-03, 3.7733e-02, 5.2739e-03, 4.2851e-02, 9.4152e-01,\n",
       "          4.2540e-02, 1.2419e-02, 1.0937e-02],\n",
       "         [1.8005e-02, 2.8533e-02, 1.9514e-02, 2.7202e-02, 2.0037e-02,\n",
       "          9.2730e-01, 7.0765e-03, 1.4216e-02],\n",
       "         [9.7090e-01, 4.7649e-02, 3.8853e-03, 4.4472e-02, 8.3888e-03,\n",
       "          2.6963e-02, 2.8406e-02, 1.6612e-02],\n",
       "         [5.9908e-02, 9.1970e-01, 2.9788e-02, 6.2208e-05, 5.7813e-02,\n",
       "          1.3591e-02, 4.1089e-02, 2.0501e-02],\n",
       "         [3.9172e-03, 1.9288e-02, 9.5554e-01, 1.9981e-02, 1.1117e-02,\n",
       "          9.6195e-03, 3.3789e-02, 1.5893e-02],\n",
       "         [2.9220e-02, 5.9308e-04, 1.1798e-02, 9.1970e-01, 1.9802e-02,\n",
       "          9.3539e-03, 5.9471e-02, 3.5227e-03],\n",
       "         [3.0619e-03, 3.7733e-02, 5.2739e-03, 4.2851e-02, 9.4152e-01,\n",
       "          4.2540e-02, 1.2419e-02, 1.0937e-02],\n",
       "         [1.8005e-02, 2.8533e-02, 1.9514e-02, 2.7202e-02, 2.0037e-02,\n",
       "          9.2730e-01, 7.0765e-03, 1.4216e-02],\n",
       "         [9.7090e-01, 4.7649e-02, 3.8853e-03, 4.4472e-02, 8.3888e-03,\n",
       "          2.6963e-02, 2.8406e-02, 1.6612e-02],\n",
       "         [5.9908e-02, 9.1970e-01, 2.9788e-02, 6.2208e-05, 5.7813e-02,\n",
       "          1.3591e-02, 4.1089e-02, 2.0501e-02],\n",
       "         [3.9172e-03, 1.9288e-02, 9.5554e-01, 1.9981e-02, 1.1117e-02,\n",
       "          9.6195e-03, 3.3789e-02, 1.5893e-02],\n",
       "         [2.9220e-02, 5.9308e-04, 1.1798e-02, 9.1970e-01, 1.9802e-02,\n",
       "          9.3539e-03, 5.9471e-02, 3.5227e-03],\n",
       "         [3.0619e-03, 3.7733e-02, 5.2739e-03, 4.2851e-02, 9.4152e-01,\n",
       "          4.2540e-02, 1.2419e-02, 1.0937e-02],\n",
       "         [1.8005e-02, 2.8533e-02, 1.9514e-02, 2.7202e-02, 2.0037e-02,\n",
       "          9.2730e-01, 7.0765e-03, 1.4216e-02],\n",
       "         [9.7090e-01, 4.7649e-02, 3.8853e-03, 4.4472e-02, 8.3888e-03,\n",
       "          2.6963e-02, 2.8406e-02, 1.6612e-02],\n",
       "         [5.9908e-02, 9.1970e-01, 2.9788e-02, 6.2208e-05, 5.7813e-02,\n",
       "          1.3591e-02, 4.1089e-02, 2.0501e-02],\n",
       "         [3.9172e-03, 1.9288e-02, 9.5554e-01, 1.9981e-02, 1.1117e-02,\n",
       "          9.6195e-03, 3.3789e-02, 1.5893e-02],\n",
       "         [2.9220e-02, 5.9308e-04, 1.1798e-02, 9.1970e-01, 1.9802e-02,\n",
       "          9.3539e-03, 5.9471e-02, 3.5227e-03],\n",
       "         [3.0619e-03, 3.7733e-02, 5.2739e-03, 4.2851e-02, 9.4152e-01,\n",
       "          4.2540e-02, 1.2419e-02, 1.0937e-02],\n",
       "         [1.8005e-02, 2.8533e-02, 1.9514e-02, 2.7202e-02, 2.0037e-02,\n",
       "          9.2730e-01, 7.0765e-03, 1.4216e-02]]], grad_fn=<SigmoidBackward0>)"
      ]
     },
     "execution_count": 51,
     "metadata": {},
     "output_type": "execute_result"
    }
   ],
   "source": [
    "outputs"
   ]
  },
  {
   "cell_type": "code",
   "execution_count": 45,
   "id": "a5d977f3",
   "metadata": {},
   "outputs": [
    {
     "data": {
      "text/plain": [
       "tensor([[[0., 1., 0., 0., 0., 0., 0., 0.],\n",
       "         [0., 0., 1., 0., 0., 0., 0., 0.],\n",
       "         [0., 0., 0., 1., 0., 0., 0., 0.],\n",
       "         [0., 0., 0., 0., 1., 0., 0., 0.],\n",
       "         [0., 0., 0., 0., 0., 1., 0., 0.],\n",
       "         [1., 0., 0., 0., 0., 0., 0., 0.],\n",
       "         [0., 1., 0., 0., 0., 0., 0., 0.],\n",
       "         [0., 0., 1., 0., 0., 0., 0., 0.],\n",
       "         [0., 0., 0., 1., 0., 0., 0., 0.],\n",
       "         [0., 0., 0., 0., 1., 0., 0., 0.],\n",
       "         [0., 0., 0., 0., 0., 1., 0., 0.],\n",
       "         [1., 0., 0., 0., 0., 0., 0., 0.],\n",
       "         [0., 1., 0., 0., 0., 0., 0., 0.],\n",
       "         [0., 0., 1., 0., 0., 0., 0., 0.],\n",
       "         [0., 0., 0., 1., 0., 0., 0., 0.],\n",
       "         [0., 0., 0., 0., 1., 0., 0., 0.],\n",
       "         [0., 0., 0., 0., 0., 1., 0., 0.],\n",
       "         [1., 0., 0., 0., 0., 0., 0., 0.],\n",
       "         [0., 1., 0., 0., 0., 0., 0., 0.],\n",
       "         [0., 0., 1., 0., 0., 0., 0., 0.],\n",
       "         [0., 0., 0., 1., 0., 0., 0., 0.],\n",
       "         [0., 0., 0., 0., 1., 0., 0., 0.],\n",
       "         [0., 0., 0., 0., 0., 1., 0., 0.],\n",
       "         [1., 0., 0., 0., 0., 0., 0., 0.],\n",
       "         [0., 1., 0., 0., 0., 0., 0., 0.],\n",
       "         [0., 0., 1., 0., 0., 0., 0., 0.],\n",
       "         [0., 0., 0., 1., 0., 0., 0., 0.],\n",
       "         [0., 0., 0., 0., 1., 0., 0., 0.],\n",
       "         [0., 0., 0., 0., 0., 1., 0., 0.],\n",
       "         [1., 0., 0., 0., 0., 0., 0., 0.],\n",
       "         [0., 1., 0., 0., 0., 0., 0., 0.],\n",
       "         [0., 0., 1., 0., 0., 0., 0., 0.],\n",
       "         [0., 0., 0., 1., 0., 0., 0., 0.],\n",
       "         [0., 0., 0., 0., 1., 0., 0., 0.],\n",
       "         [0., 0., 0., 0., 0., 1., 0., 0.],\n",
       "         [1., 0., 0., 0., 0., 0., 0., 0.],\n",
       "         [0., 1., 0., 0., 0., 0., 0., 0.],\n",
       "         [0., 0., 1., 0., 0., 0., 0., 0.],\n",
       "         [0., 0., 0., 1., 0., 0., 0., 0.],\n",
       "         [0., 0., 0., 0., 1., 0., 0., 0.],\n",
       "         [0., 0., 0., 0., 0., 1., 0., 0.]]])"
      ]
     },
     "execution_count": 45,
     "metadata": {},
     "output_type": "execute_result"
    }
   ],
   "source": [
    "targets"
   ]
  },
  {
   "cell_type": "code",
   "execution_count": 20,
   "id": "61fe6b7b",
   "metadata": {},
   "outputs": [
    {
     "data": {
      "text/plain": [
       "tensor([[ 6.5679e-01,  2.4307e-01, -7.2380e-01,  6.3043e-01,  1.2702e-01,\n",
       "          7.0828e-02,  1.8839e-01, -7.5215e-01],\n",
       "        [ 3.1341e-01, -1.8593e-01, -1.0538e+00,  1.1308e+00,  2.1663e-01,\n",
       "         -7.2294e-01,  9.0816e-01,  2.8526e-01],\n",
       "        [-3.1880e-01, -2.3479e-01, -2.5365e-01,  8.6134e-02, -8.2675e-01,\n",
       "          4.4834e-01,  2.4902e+00,  3.7885e-01],\n",
       "        [ 6.6286e-01, -2.2794e-01, -2.4063e-01, -5.0145e-01, -2.1216e+00,\n",
       "          1.2792e+00,  1.9143e+00, -2.8365e-01],\n",
       "        [ 1.3765e+00,  5.4545e-01, -6.0843e-01, -6.0215e-01, -1.3420e+00,\n",
       "          2.6744e-01,  1.1796e+00,  1.2642e-01],\n",
       "        [ 8.7290e-01,  1.0165e+00, -9.1797e-02, -1.0536e+00,  4.1293e-01,\n",
       "         -4.9574e-01,  9.2834e-01, -5.4160e-02],\n",
       "        [ 1.7147e-01, -5.8072e-01, -3.3497e-01, -3.0923e-01, -6.4508e-01,\n",
       "          2.4471e+00,  3.7834e-01, -1.6770e+00],\n",
       "        [ 6.6204e-01, -5.2585e-01, -6.9489e-01,  5.2942e-01, -9.2505e-01,\n",
       "          2.0351e+00, -1.2939e+00, -2.0448e+00],\n",
       "        [ 3.8879e-01,  1.2807e+00, -9.7591e-02, -4.1880e-01,  1.5579e+00,\n",
       "         -1.0011e+00, -9.7700e-01, -5.8148e-01],\n",
       "        [-4.6452e-01,  1.1130e+00, -4.6977e-02,  4.9059e-01,  1.6859e+00,\n",
       "          1.4252e-01, -1.3575e+00, -1.9806e+00],\n",
       "        [ 1.4340e-01,  4.4374e-01, -6.8038e-02,  2.1390e+00,  2.9321e-01,\n",
       "          5.5400e-01, -1.6167e+00, -3.0791e+00],\n",
       "        [ 5.1847e-01,  7.1931e-01,  3.3226e-01,  1.7881e+00,  9.3086e-02,\n",
       "         -7.3567e-01,  4.9015e-03, -2.2455e+00],\n",
       "        [ 6.5680e-01,  9.4721e-01,  8.1891e-01,  2.5379e-01, -3.9808e-02,\n",
       "         -6.0873e-02,  6.6456e-01, -2.0104e+00],\n",
       "        [ 1.3300e+00, -1.4159e-01,  2.5033e-01, -3.0680e-01, -9.0049e-01,\n",
       "          1.0127e+00,  1.6279e-01, -1.5290e+00],\n",
       "        [ 6.1676e-01,  5.2797e-02, -5.0361e-01, -5.5088e-01, -4.1605e-01,\n",
       "          1.5802e+00,  9.2445e-01, -1.4678e+00],\n",
       "        [ 5.7975e-01, -3.1468e-01, -4.5931e-01, -3.6826e-01, -1.3215e+00,\n",
       "          2.6770e+00,  1.6551e-01, -2.5256e+00],\n",
       "        [ 1.0767e+00, -1.1436e-02, -7.1784e-01, -3.0758e-01, -7.2215e-01,\n",
       "          1.6436e+00, -1.1907e+00, -1.8961e+00],\n",
       "        [ 1.0520e-01,  1.3046e+00, -1.3528e-01, -4.6566e-01,  1.9373e+00,\n",
       "         -6.6197e-01, -1.2507e+00, -7.7951e-01],\n",
       "        [-2.3714e-01,  9.6590e-01, -6.7494e-02,  8.3680e-01,  1.5715e+00,\n",
       "          2.7598e-01, -1.8092e+00, -2.3723e+00],\n",
       "        [ 1.2081e-01,  4.6409e-01, -1.7397e-01,  2.4196e+00,  2.5968e-01,\n",
       "          5.3334e-01, -1.5244e+00, -3.2714e+00],\n",
       "        [ 5.6226e-01,  8.0408e-01,  5.4222e-01,  1.5514e+00,  2.3929e-02,\n",
       "         -8.3016e-01,  1.0283e-01, -2.1962e+00],\n",
       "        [ 4.1737e-01,  3.5980e-01,  6.8138e-01, -5.4060e-01, -8.0898e-01,\n",
       "          7.0084e-01,  1.7808e+00, -1.0168e+00],\n",
       "        [ 8.8038e-01, -1.0616e-01, -2.1695e-01, -6.4990e-01, -1.5586e+00,\n",
       "          1.9290e+00,  8.6089e-01, -1.5190e+00],\n",
       "        [ 7.8573e-01, -1.9729e-01, -1.1157e+00, -3.3285e-01, -7.0063e-01,\n",
       "          1.8099e+00, -7.5319e-01, -1.3628e+00],\n",
       "        [ 1.6242e-01,  1.0511e+00, -2.5773e-01, -5.1042e-01,  1.7172e+00,\n",
       "         -6.9012e-01, -1.1147e+00, -4.0614e-01],\n",
       "        [-4.3115e-01,  9.8879e-01, -2.8833e-01,  8.8876e-01,  1.5938e+00,\n",
       "          2.8229e-01, -1.5730e+00, -2.1829e+00],\n",
       "        [ 1.3096e-01,  4.4943e-01, -1.3304e-01,  2.3056e+00,  1.9331e-01,\n",
       "          3.4566e-01, -1.3524e+00, -2.9351e+00],\n",
       "        [ 4.9511e-01,  7.9739e-01,  4.4657e-01,  1.5959e+00, -2.4610e-02,\n",
       "         -7.7191e-01,  2.0076e-01, -2.1202e+00],\n",
       "        [ 8.1046e-01,  3.8301e-01,  2.9876e-01,  1.4849e-01, -6.2125e-01,\n",
       "         -9.1511e-02,  8.8362e-01, -9.2956e-01],\n",
       "        [ 1.0039e+00, -6.1381e-02, -5.1009e-01, -2.4804e-02, -4.5382e-01,\n",
       "         -9.9232e-02,  1.0371e+00,  1.2973e-01],\n",
       "        [-7.2143e-02, -1.8499e-01, -6.1603e-01, -3.5608e-01, -4.2873e-01,\n",
       "          9.2573e-01,  1.8688e+00, -1.3038e-01],\n",
       "        [ 5.9669e-01, -4.3299e-01, -4.6654e-01, -2.3852e-01, -1.9460e+00,\n",
       "          2.1641e+00,  9.8629e-01, -1.4470e+00],\n",
       "        [ 1.6485e+00,  6.3517e-01, -4.7969e-01, -3.4479e-01, -1.3897e+00,\n",
       "          3.4179e-01,  5.0187e-01, -6.9221e-01],\n",
       "        [ 8.9505e-01,  1.3078e+00,  2.2321e-01, -1.0046e+00,  6.5263e-01,\n",
       "         -5.2276e-01,  5.8287e-01, -7.0114e-01],\n",
       "        [ 3.6112e-01, -4.9826e-01,  5.3496e-04, -3.7437e-01, -5.6014e-01,\n",
       "          2.4605e+00,  1.1159e-01, -2.0414e+00],\n",
       "        [ 6.9178e-01, -4.2220e-01, -6.6201e-01,  6.4239e-01, -6.9577e-01,\n",
       "          2.2529e+00, -1.5511e+00, -2.5390e+00],\n",
       "        [ 4.8418e-01,  1.2693e+00,  4.7710e-02, -3.5728e-01,  1.5883e+00,\n",
       "         -8.3343e-01, -1.2978e+00, -1.0583e+00],\n",
       "        [-3.9226e-01,  1.1627e+00,  1.2740e-02,  6.0310e-01,  1.7114e+00,\n",
       "          3.5475e-01, -1.6299e+00, -2.4051e+00],\n",
       "        [ 2.4221e-01,  4.8884e-01, -1.9033e-02,  2.0758e+00,  4.2503e-01,\n",
       "          4.8934e-01, -1.7408e+00, -3.2259e+00],\n",
       "        [ 4.5420e-01,  7.3840e-01,  3.8842e-01,  1.9193e+00,  1.6989e-01,\n",
       "         -5.0781e-01, -1.9478e-01, -2.6153e+00],\n",
       "        [ 8.0474e-01,  9.6481e-01,  9.5716e-01,  2.5390e-01,  4.5337e-03,\n",
       "         -1.3431e-01,  5.0641e-01, -2.1574e+00]], grad_fn=<ViewBackward0>)"
      ]
     },
     "execution_count": 20,
     "metadata": {},
     "output_type": "execute_result"
    }
   ],
   "source": [
    "outputs.view(-1, 8)"
   ]
  },
  {
   "cell_type": "code",
   "execution_count": null,
   "id": "eae73d39",
   "metadata": {},
   "outputs": [],
   "source": []
  }
 ],
 "metadata": {
  "kernelspec": {
   "display_name": "Python 3 (ipykernel)",
   "language": "python",
   "name": "python3"
  },
  "language_info": {
   "codemirror_mode": {
    "name": "ipython",
    "version": 3
   },
   "file_extension": ".py",
   "mimetype": "text/x-python",
   "name": "python",
   "nbconvert_exporter": "python",
   "pygments_lexer": "ipython3",
   "version": "3.11.6"
  }
 },
 "nbformat": 4,
 "nbformat_minor": 5
}
